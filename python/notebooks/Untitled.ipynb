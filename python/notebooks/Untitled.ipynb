{
 "cells": [
  {
   "cell_type": "code",
   "execution_count": 4,
   "metadata": {},
   "outputs": [
    {
     "name": "stdout",
     "output_type": "stream",
     "text": [
      "The result is  93\n"
     ]
    }
   ],
   "source": [
    "# This is a small client example that connects to examples/rpc/server.cpp\n",
    "from libfetch.service.client import Client\n",
    "MYPROTO = 1\n",
    "SLOWFUNCTION = 1\n",
    "c = Client()\n",
    "c.Connect(\"localhost\", 8080)\n",
    "promise = c.Call(MYPROTO, SLOWFUNCTION, ('i32', 30), ('i32', 63))\n",
    "promise.Wait()\n",
    "print \"The result is \", promise.AsInt32()\n",
    "c.Disconnect()"
   ]
  },
  {
   "cell_type": "code",
   "execution_count": null,
   "metadata": {},
   "outputs": [],
   "source": []
  }
 ],
 "metadata": {
  "kernelspec": {
   "display_name": "Python 2",
   "language": "python",
   "name": "python2"
  },
  "language_info": {
   "codemirror_mode": {
    "name": "ipython",
    "version": 2
   },
   "file_extension": ".py",
   "mimetype": "text/x-python",
   "name": "python",
   "nbconvert_exporter": "python",
   "pygments_lexer": "ipython2",
   "version": "2.7.14"
  }
 },
 "nbformat": 4,
 "nbformat_minor": 2
}
