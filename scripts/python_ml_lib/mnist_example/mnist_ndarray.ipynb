{
 "cells": [
  {
   "cell_type": "code",
   "execution_count": 39,
   "metadata": {},
   "outputs": [],
   "source": [
    "import os\n",
    "import gzip\n",
    "import fetch\n",
    "import fetch.math as fm\n",
    "from fetch.math import NDArrayDouble\n",
    "\n",
    "\n",
    "\n",
    "import random\n",
    "\n",
    "import numpy as np"
   ]
  },
  {
   "cell_type": "code",
   "execution_count": 40,
   "metadata": {},
   "outputs": [],
   "source": [
    "DATA_URL = 'http://yann.lecun.com/exdb/mnist/'"
   ]
  },
  {
   "cell_type": "code",
   "execution_count": 41,
   "metadata": {},
   "outputs": [],
   "source": [
    "def load_data(one_hot=True, reshape=None, training_size=50000, validation_size=10000):\n",
    "    \n",
    "    print(\"loading training image data\")\n",
    "    x_tr = load_images('train-images-idx3-ubyte.gz', training_size, validation_size)\n",
    "    print(\"loading training labels\")\n",
    "    y_tr = load_labels('train-labels-idx1-ubyte.gz', training_size, validation_size)\n",
    "\n",
    "    print(\"loading test image data\")\n",
    "    x_te = load_images('t10k-images-idx3-ubyte.gz', training_size, validation_size)\n",
    "    print(\"loading test labels\")\n",
    "    y_te = load_labels('t10k-labels-idx1-ubyte.gz', training_size, validation_size)\n",
    "\n",
    "    if one_hot:\n",
    "        y_tr_onehot = NDArrayDouble.Zeros([y_tr.shape()[0], 10])\n",
    "        y_te_onehot = NDArrayDouble.Zeros([y_te.shape()[0], 10])\n",
    "        \n",
    "        for i in range(len(y_tr)):\n",
    "            y_tr_onehot[i, int(y_tr[i])] = 1\n",
    "        for i in range(len(y_te)):\n",
    "            y_te_onehot[i, int(y_te[i])] = 1\n",
    "            \n",
    "        \n",
    "    if reshape:\n",
    "        x_tr, x_te = [x.reshape(*reshape) for x in (x_tr, x_te)]\n",
    "    \n",
    "    return x_tr, y_tr_onehot, x_te, y_te_onehot\n",
    "    \n",
    "def load_images(filename, training_size, validation_size):\n",
    "    download(filename)\n",
    "    with gzip.open(filename, 'rb') as f:\n",
    "        data = np.frombuffer(f.read(), np.uint8, offset=16)\n",
    "        data = data.reshape(-1, 28 * 28) / 256\n",
    "        nd_data = NDArrayDouble([training_size, 28*28])\n",
    "        nd_data.FromNumpy(data[:training_size, :])\n",
    "    return nd_data\n",
    "\n",
    "def load_labels(filename, training_size, validation_size):\n",
    "    download(filename)\n",
    "    with gzip.open(filename, 'rb') as f:\n",
    "        data = np.frombuffer(f.read(), np.uint8, offset=8)\n",
    "        nd_data = NDArrayDouble(training_size)\n",
    "        nd_data.FromNumpy(data[:training_size])\n",
    "    return nd_data\n",
    "\n",
    "def download(filename):\n",
    "    if not os.path.exists(filename):\n",
    "        from urllib.request import urlretrieve\n",
    "        print(\"Downloading %s\" % filename)\n",
    "        urlretrieve(DATA_URL + filename, filename)"
   ]
  },
  {
   "cell_type": "code",
   "execution_count": 42,
   "metadata": {},
   "outputs": [],
   "source": [
    "def sigmoid(x):\n",
    "    z = x * -1.0\n",
    "    z.Exp()\n",
    "    return NDArrayDouble.__truediv__(float(1.0), (z + 1))\n",
    "\n",
    "def d_sigmoid(y):\n",
    "    y = y * (1 - y)\n",
    "    return y"
   ]
  },
  {
   "cell_type": "code",
   "execution_count": 43,
   "metadata": {},
   "outputs": [],
   "source": [
    "# feed forward pass of a network\n",
    "# take X input and the network (defined as a list of weights)\n",
    "# no biases?\n",
    "def feed_forward(X, weights):\n",
    "    a = [X]\n",
    "    for w in weights:\n",
    "        temp = a[-1].dot(w)\n",
    "        temp2 = sigmoid(temp)\n",
    "        a.append(temp2)\n",
    "    return a"
   ]
  },
  {
   "cell_type": "code",
   "execution_count": 50,
   "metadata": {},
   "outputs": [],
   "source": [
    "# get the gradients of the network\n",
    "def grads(X, Y, weights):\n",
    "\n",
    "    # define container\n",
    "#     grads = NDArrayDouble(weights_size)\n",
    "    grads = np.empty_like(weights)\n",
    "    \n",
    "    # run a forward pass to get delta\n",
    "    a = feed_forward(X, weights)\n",
    "    delta = a[-1] - Y # cross-entropy\n",
    "\n",
    "    # calculate grads\n",
    "    grads[-1] = np.dot(a[-2].transpose([1, 0]), delta)\n",
    "    for i in range(len(a)-2, 0, -1):\n",
    "        delta = np.dot(delta, weights[i].transpose([1, 0])) * d_sigmoid(a[i])\n",
    "        grads[i-1] = np.dot(a[i-1].transpose([1, 0]), delta)\n",
    "        \n",
    "    return grads / len(X)"
   ]
  },
  {
   "cell_type": "code",
   "execution_count": 51,
   "metadata": {},
   "outputs": [],
   "source": [
    "def make_new_layer(in_size, out_size):\n",
    "    \n",
    "    numer = out_size\n",
    "    denom = np.sqrt(out_size)\n",
    "\n",
    "    layer = NDArrayDouble([in_size, out_size])\n",
    "\n",
    "    for i in range(layer.size()):\n",
    "        layer[i] = (random.uniform(0, 1.0) * numer) / denom\n",
    "    \n",
    "    return layer\n",
    "\n",
    "def get_initial_weights(net):\n",
    "    \n",
    "    weights = [make_new_layer(28*28, net[0])]\n",
    "    if len(net) > 2:\n",
    "        for i in range(len(net) - 2):\n",
    "            weights.append(make_new_layer(net[i], net[i+1]))\n",
    "    weights.append(make_new_layer(net[-2], net[-1]))\n",
    "\n",
    "    return weights"
   ]
  },
  {
   "cell_type": "code",
   "execution_count": 52,
   "metadata": {},
   "outputs": [],
   "source": [
    "def train(n_epochs, batch_size, alpha, weights, X_tr, Y_tr, X_te, Y_te):\n",
    "    \n",
    "    # epochs\n",
    "    for i in range(num_epochs):\n",
    "\n",
    "        # training batches\n",
    "        for j in range(0, X_tr.shape()[0] - batch_size, batch_size):\n",
    "\n",
    "            # get current batch\n",
    "            X, Y = X_tr[j:j+batch_size, :], Y_tr[j:j+batch_size, :]\n",
    "\n",
    "            # update weights\n",
    "            weights -= alpha * grads(X, Y, weights)\n",
    "\n",
    "        # get current prediction\n",
    "        \n",
    "#         cur_pred = feed_forward(X_te, weights)[-1]\n",
    "#         print(cur_pred.shape())\n",
    "#         max_pred = cur_pred.Max()\n",
    "        \n",
    "        \n",
    "        \n",
    "        \n",
    "        \n",
    "#         prediction = np.argmax(feed_forward(X_te, weights)[-1], axis=1)\n",
    "#         print(\"epoch: \", i, \": \", \"accuracy: \", np.mean(prediction == np.argmax(Y_te, axis=1)))\n",
    "    \n",
    "    return"
   ]
  },
  {
   "cell_type": "code",
   "execution_count": 35,
   "metadata": {},
   "outputs": [
    {
     "name": "stdout",
     "output_type": "stream",
     "text": [
      "loading training image data\n",
      "loading training labels\n",
      "loading test image data\n",
      "loading test labels\n"
     ]
    }
   ],
   "source": [
    "# load the data\n",
    "X_tr, Y_tr, X_te, Y_te = load_data(one_hot=True)"
   ]
  },
  {
   "cell_type": "code",
   "execution_count": 53,
   "metadata": {},
   "outputs": [],
   "source": [
    "# initialise network\n",
    "outputs = 10\n",
    "network_architecture = [100, 10, outputs]\n",
    "weights = get_initial_weights(network_architecture)"
   ]
  },
  {
   "cell_type": "code",
   "execution_count": 54,
   "metadata": {},
   "outputs": [],
   "source": [
    "# training constants\n",
    "num_epochs = 30\n",
    "batch_size = 50\n",
    "alpha = 0.2"
   ]
  },
  {
   "cell_type": "code",
   "execution_count": 55,
   "metadata": {},
   "outputs": [
    {
     "ename": "ValueError",
     "evalue": "shapes (500,) and (100,) not aligned: 500 (dim 0) != 100 (dim 0)",
     "output_type": "error",
     "traceback": [
      "\u001b[0;31m---------------------------------------------------------------------------\u001b[0m",
      "\u001b[0;31mValueError\u001b[0m                                Traceback (most recent call last)",
      "\u001b[0;32m<ipython-input-55-809062daa9e7>\u001b[0m in \u001b[0;36m<module>\u001b[0;34m()\u001b[0m\n\u001b[0;32m----> 1\u001b[0;31m \u001b[0mtrain\u001b[0m\u001b[0;34m(\u001b[0m\u001b[0mnum_epochs\u001b[0m\u001b[0;34m,\u001b[0m \u001b[0mbatch_size\u001b[0m\u001b[0;34m,\u001b[0m \u001b[0malpha\u001b[0m\u001b[0;34m,\u001b[0m \u001b[0mweights\u001b[0m\u001b[0;34m,\u001b[0m \u001b[0mX_tr\u001b[0m\u001b[0;34m,\u001b[0m \u001b[0mY_tr\u001b[0m\u001b[0;34m,\u001b[0m \u001b[0mX_te\u001b[0m\u001b[0;34m,\u001b[0m \u001b[0mY_te\u001b[0m\u001b[0;34m)\u001b[0m\u001b[0;34m\u001b[0m\u001b[0m\n\u001b[0m",
      "\u001b[0;32m<ipython-input-52-880e15198a6e>\u001b[0m in \u001b[0;36mtrain\u001b[0;34m(n_epochs, batch_size, alpha, weights, X_tr, Y_tr, X_te, Y_te)\u001b[0m\n\u001b[1;32m     11\u001b[0m \u001b[0;34m\u001b[0m\u001b[0m\n\u001b[1;32m     12\u001b[0m             \u001b[0;31m# update weights\u001b[0m\u001b[0;34m\u001b[0m\u001b[0;34m\u001b[0m\u001b[0m\n\u001b[0;32m---> 13\u001b[0;31m             \u001b[0mweights\u001b[0m \u001b[0;34m-=\u001b[0m \u001b[0malpha\u001b[0m \u001b[0;34m*\u001b[0m \u001b[0mgrads\u001b[0m\u001b[0;34m(\u001b[0m\u001b[0mX\u001b[0m\u001b[0;34m,\u001b[0m \u001b[0mY\u001b[0m\u001b[0;34m,\u001b[0m \u001b[0mweights\u001b[0m\u001b[0;34m)\u001b[0m\u001b[0;34m\u001b[0m\u001b[0m\n\u001b[0m\u001b[1;32m     14\u001b[0m \u001b[0;34m\u001b[0m\u001b[0m\n\u001b[1;32m     15\u001b[0m         \u001b[0;31m# get current prediction\u001b[0m\u001b[0;34m\u001b[0m\u001b[0;34m\u001b[0m\u001b[0m\n",
      "\u001b[0;32m<ipython-input-50-1faf903663a3>\u001b[0m in \u001b[0;36mgrads\u001b[0;34m(X, Y, weights)\u001b[0m\n\u001b[1;32m     13\u001b[0m     \u001b[0mgrads\u001b[0m\u001b[0;34m[\u001b[0m\u001b[0;34m-\u001b[0m\u001b[0;36m1\u001b[0m\u001b[0;34m]\u001b[0m \u001b[0;34m=\u001b[0m \u001b[0mnp\u001b[0m\u001b[0;34m.\u001b[0m\u001b[0mdot\u001b[0m\u001b[0;34m(\u001b[0m\u001b[0ma\u001b[0m\u001b[0;34m[\u001b[0m\u001b[0;34m-\u001b[0m\u001b[0;36m2\u001b[0m\u001b[0;34m]\u001b[0m\u001b[0;34m.\u001b[0m\u001b[0mtranspose\u001b[0m\u001b[0;34m(\u001b[0m\u001b[0;34m[\u001b[0m\u001b[0;36m1\u001b[0m\u001b[0;34m,\u001b[0m \u001b[0;36m0\u001b[0m\u001b[0;34m]\u001b[0m\u001b[0;34m)\u001b[0m\u001b[0;34m,\u001b[0m \u001b[0mdelta\u001b[0m\u001b[0;34m)\u001b[0m\u001b[0;34m\u001b[0m\u001b[0m\n\u001b[1;32m     14\u001b[0m     \u001b[0;32mfor\u001b[0m \u001b[0mi\u001b[0m \u001b[0;32min\u001b[0m \u001b[0mrange\u001b[0m\u001b[0;34m(\u001b[0m\u001b[0mlen\u001b[0m\u001b[0;34m(\u001b[0m\u001b[0ma\u001b[0m\u001b[0;34m)\u001b[0m\u001b[0;34m-\u001b[0m\u001b[0;36m2\u001b[0m\u001b[0;34m,\u001b[0m \u001b[0;36m0\u001b[0m\u001b[0;34m,\u001b[0m \u001b[0;34m-\u001b[0m\u001b[0;36m1\u001b[0m\u001b[0;34m)\u001b[0m\u001b[0;34m:\u001b[0m\u001b[0;34m\u001b[0m\u001b[0m\n\u001b[0;32m---> 15\u001b[0;31m         \u001b[0mdelta\u001b[0m \u001b[0;34m=\u001b[0m \u001b[0mnp\u001b[0m\u001b[0;34m.\u001b[0m\u001b[0mdot\u001b[0m\u001b[0;34m(\u001b[0m\u001b[0mdelta\u001b[0m\u001b[0;34m,\u001b[0m \u001b[0mweights\u001b[0m\u001b[0;34m[\u001b[0m\u001b[0mi\u001b[0m\u001b[0;34m]\u001b[0m\u001b[0;34m.\u001b[0m\u001b[0mtranspose\u001b[0m\u001b[0;34m(\u001b[0m\u001b[0;34m[\u001b[0m\u001b[0;36m1\u001b[0m\u001b[0;34m,\u001b[0m \u001b[0;36m0\u001b[0m\u001b[0;34m]\u001b[0m\u001b[0;34m)\u001b[0m\u001b[0;34m)\u001b[0m \u001b[0;34m*\u001b[0m \u001b[0md_sigmoid\u001b[0m\u001b[0;34m(\u001b[0m\u001b[0ma\u001b[0m\u001b[0;34m[\u001b[0m\u001b[0mi\u001b[0m\u001b[0;34m]\u001b[0m\u001b[0;34m)\u001b[0m\u001b[0;34m\u001b[0m\u001b[0m\n\u001b[0m\u001b[1;32m     16\u001b[0m         \u001b[0mgrads\u001b[0m\u001b[0;34m[\u001b[0m\u001b[0mi\u001b[0m\u001b[0;34m-\u001b[0m\u001b[0;36m1\u001b[0m\u001b[0;34m]\u001b[0m \u001b[0;34m=\u001b[0m \u001b[0mnp\u001b[0m\u001b[0;34m.\u001b[0m\u001b[0mdot\u001b[0m\u001b[0;34m(\u001b[0m\u001b[0ma\u001b[0m\u001b[0;34m[\u001b[0m\u001b[0mi\u001b[0m\u001b[0;34m-\u001b[0m\u001b[0;36m1\u001b[0m\u001b[0;34m]\u001b[0m\u001b[0;34m.\u001b[0m\u001b[0mtranspose\u001b[0m\u001b[0;34m(\u001b[0m\u001b[0;34m[\u001b[0m\u001b[0;36m1\u001b[0m\u001b[0;34m,\u001b[0m \u001b[0;36m0\u001b[0m\u001b[0;34m]\u001b[0m\u001b[0;34m)\u001b[0m\u001b[0;34m,\u001b[0m \u001b[0mdelta\u001b[0m\u001b[0;34m)\u001b[0m\u001b[0;34m\u001b[0m\u001b[0m\n\u001b[1;32m     17\u001b[0m \u001b[0;34m\u001b[0m\u001b[0m\n",
      "\u001b[0;31mValueError\u001b[0m: shapes (500,) and (100,) not aligned: 500 (dim 0) != 100 (dim 0)"
     ]
    }
   ],
   "source": [
    "train(num_epochs, batch_size, alpha, weights, X_tr, Y_tr, X_te, Y_te)"
   ]
  },
  {
   "cell_type": "code",
   "execution_count": null,
   "metadata": {},
   "outputs": [],
   "source": [
    "print(X_tr.shape())\n",
    "print(Y_tr.shape())"
   ]
  },
  {
   "cell_type": "code",
   "execution_count": null,
   "metadata": {},
   "outputs": [],
   "source": []
  },
  {
   "cell_type": "code",
   "execution_count": null,
   "metadata": {},
   "outputs": [],
   "source": []
  },
  {
   "cell_type": "code",
   "execution_count": null,
   "metadata": {},
   "outputs": [],
   "source": []
  },
  {
   "cell_type": "code",
   "execution_count": null,
   "metadata": {},
   "outputs": [],
   "source": []
  },
  {
   "cell_type": "code",
   "execution_count": null,
   "metadata": {},
   "outputs": [],
   "source": []
  },
  {
   "cell_type": "code",
   "execution_count": null,
   "metadata": {},
   "outputs": [],
   "source": []
  },
  {
   "cell_type": "code",
   "execution_count": null,
   "metadata": {},
   "outputs": [],
   "source": []
  },
  {
   "cell_type": "code",
   "execution_count": null,
   "metadata": {},
   "outputs": [],
   "source": []
  },
  {
   "cell_type": "code",
   "execution_count": null,
   "metadata": {},
   "outputs": [],
   "source": []
  },
  {
   "cell_type": "code",
   "execution_count": null,
   "metadata": {},
   "outputs": [],
   "source": []
  },
  {
   "cell_type": "code",
   "execution_count": null,
   "metadata": {},
   "outputs": [],
   "source": []
  },
  {
   "cell_type": "code",
   "execution_count": 21,
   "metadata": {},
   "outputs": [
    {
     "ename": "TypeError",
     "evalue": "Ones(): incompatible function arguments. The following argument types are supported:\n    1. (arg0: List[int]) -> fetch.math.NDArrayDouble\n\nInvoked with: 100",
     "output_type": "error",
     "traceback": [
      "\u001b[0;31m---------------------------------------------------------------------------\u001b[0m",
      "\u001b[0;31mTypeError\u001b[0m                                 Traceback (most recent call last)",
      "\u001b[0;32m<ipython-input-21-c8e8f84d56af>\u001b[0m in \u001b[0;36m<module>\u001b[0;34m()\u001b[0m\n\u001b[0;32m----> 1\u001b[0;31m \u001b[0mz\u001b[0m \u001b[0;34m=\u001b[0m \u001b[0mNDArrayDouble\u001b[0m\u001b[0;34m.\u001b[0m\u001b[0mOnes\u001b[0m\u001b[0;34m(\u001b[0m\u001b[0;36m100\u001b[0m\u001b[0;34m)\u001b[0m\u001b[0;34m\u001b[0m\u001b[0m\n\u001b[0m",
      "\u001b[0;31mTypeError\u001b[0m: Ones(): incompatible function arguments. The following argument types are supported:\n    1. (arg0: List[int]) -> fetch.math.NDArrayDouble\n\nInvoked with: 100"
     ]
    }
   ],
   "source": [
    "z = NDArrayDouble.Ones(100)"
   ]
  },
  {
   "cell_type": "code",
   "execution_count": 17,
   "metadata": {},
   "outputs": [
    {
     "data": {
      "text/plain": [
       "<fetch.math.NDArrayDouble at 0x7f5c418920a0>"
      ]
     },
     "execution_count": 17,
     "metadata": {},
     "output_type": "execute_result"
    }
   ],
   "source": [
    "z / 2"
   ]
  },
  {
   "cell_type": "code",
   "execution_count": 18,
   "metadata": {},
   "outputs": [
    {
     "ename": "TypeError",
     "evalue": "unsupported operand type(s) for /: 'float' and 'fetch.math.NDArrayDouble'",
     "output_type": "error",
     "traceback": [
      "\u001b[0;31m---------------------------------------------------------------------------\u001b[0m",
      "\u001b[0;31mTypeError\u001b[0m                                 Traceback (most recent call last)",
      "\u001b[0;32m<ipython-input-18-4d350dd7200e>\u001b[0m in \u001b[0;36m<module>\u001b[0;34m()\u001b[0m\n\u001b[0;32m----> 1\u001b[0;31m \u001b[0mfloat\u001b[0m\u001b[0;34m(\u001b[0m\u001b[0;36m2\u001b[0m\u001b[0;34m)\u001b[0m \u001b[0;34m/\u001b[0m \u001b[0mz\u001b[0m\u001b[0;34m\u001b[0m\u001b[0m\n\u001b[0m",
      "\u001b[0;31mTypeError\u001b[0m: unsupported operand type(s) for /: 'float' and 'fetch.math.NDArrayDouble'"
     ]
    }
   ],
   "source": [
    "float(2) / z"
   ]
  },
  {
   "cell_type": "code",
   "execution_count": 20,
   "metadata": {},
   "outputs": [],
   "source": [
    "z = NDArrayDouble.__truediv__(float(2.0),z)"
   ]
  },
  {
   "cell_type": "code",
   "execution_count": 23,
   "metadata": {},
   "outputs": [],
   "source": [
    "z = x.dot(y)"
   ]
  },
  {
   "cell_type": "code",
   "execution_count": 24,
   "metadata": {},
   "outputs": [
    {
     "data": {
      "text/plain": [
       "[20, 20]"
      ]
     },
     "execution_count": 24,
     "metadata": {},
     "output_type": "execute_result"
    }
   ],
   "source": [
    "z.shape()"
   ]
  },
  {
   "cell_type": "code",
   "execution_count": 25,
   "metadata": {},
   "outputs": [],
   "source": [
    "z = x.Exp()"
   ]
  },
  {
   "cell_type": "code",
   "execution_count": 26,
   "metadata": {},
   "outputs": [
    {
     "ename": "TypeError",
     "evalue": "unsupported operand type(s) for *=: 'NoneType' and 'int'",
     "output_type": "error",
     "traceback": [
      "\u001b[0;31m---------------------------------------------------------------------------\u001b[0m",
      "\u001b[0;31mTypeError\u001b[0m                                 Traceback (most recent call last)",
      "\u001b[0;32m<ipython-input-26-b6f9280a3aa2>\u001b[0m in \u001b[0;36m<module>\u001b[0;34m()\u001b[0m\n\u001b[0;32m----> 1\u001b[0;31m \u001b[0mz\u001b[0m \u001b[0;34m*=\u001b[0m \u001b[0;36m1\u001b[0m\u001b[0;34m\u001b[0m\u001b[0m\n\u001b[0m",
      "\u001b[0;31mTypeError\u001b[0m: unsupported operand type(s) for *=: 'NoneType' and 'int'"
     ]
    }
   ],
   "source": []
  },
  {
   "cell_type": "code",
   "execution_count": null,
   "metadata": {},
   "outputs": [],
   "source": []
  },
  {
   "cell_type": "code",
   "execution_count": null,
   "metadata": {},
   "outputs": [],
   "source": []
  },
  {
   "cell_type": "code",
   "execution_count": null,
   "metadata": {},
   "outputs": [],
   "source": []
  },
  {
   "cell_type": "code",
   "execution_count": null,
   "metadata": {},
   "outputs": [],
   "source": []
  },
  {
   "cell_type": "code",
   "execution_count": null,
   "metadata": {},
   "outputs": [],
   "source": []
  }
 ],
 "metadata": {
  "kernelspec": {
   "display_name": "Python 3",
   "language": "python",
   "name": "python3"
  },
  "language_info": {
   "codemirror_mode": {
    "name": "ipython",
    "version": 3
   },
   "file_extension": ".py",
   "mimetype": "text/x-python",
   "name": "python",
   "nbconvert_exporter": "python",
   "pygments_lexer": "ipython3",
   "version": "3.6.5"
  }
 },
 "nbformat": 4,
 "nbformat_minor": 2
}
