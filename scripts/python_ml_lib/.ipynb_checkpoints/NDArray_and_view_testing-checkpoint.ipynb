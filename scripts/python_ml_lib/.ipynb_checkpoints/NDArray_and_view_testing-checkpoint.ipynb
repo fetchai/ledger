{
 "cells": [
  {
   "cell_type": "markdown",
   "metadata": {},
   "source": [
    "## A series of tests for the fetch math library (and associated python bindings)"
   ]
  },
  {
   "cell_type": "markdown",
   "metadata": {},
   "source": [
    "### initial setup"
   ]
  },
  {
   "cell_type": "code",
   "execution_count": 1,
   "metadata": {},
   "outputs": [],
   "source": [
    "# import fetch\n",
    "import numpy as np\n",
    "import fetch.math as fm\n",
    "from fetch.math import NDArrayDouble\n",
    "#from fetch.math import statistics as stats"
   ]
  },
  {
   "cell_type": "code",
   "execution_count": 2,
   "metadata": {},
   "outputs": [],
   "source": [
    "def simple_test_fn(a, b):\n",
    "    if (a == b):\n",
    "        print(\"test passed!\")\n",
    "    else:\n",
    "        print(\"FAILURE\")\n",
    "    return"
   ]
  },
  {
   "cell_type": "code",
   "execution_count": 3,
   "metadata": {},
   "outputs": [],
   "source": [
    "def test_fn(np_arr, fetch_arr):\n",
    "    \n",
    "    if np.array_equal(np_arr, fetch_arr.ToNumpy()):\n",
    "        print(\"test passed!\")\n",
    "    else:\n",
    "        print(\"FAILURE\")\n",
    "\n",
    "    return"
   ]
  },
  {
   "cell_type": "markdown",
   "metadata": {},
   "source": [
    "### Check To and From Numpy"
   ]
  },
  {
   "cell_type": "code",
   "execution_count": 4,
   "metadata": {},
   "outputs": [],
   "source": [
    "shape = [1,2,3,4,5]\n",
    "n_dims = len(shape)"
   ]
  },
  {
   "cell_type": "code",
   "execution_count": 93,
   "metadata": {},
   "outputs": [
    {
     "name": "stdout",
     "output_type": "stream",
     "text": [
      "test passed!\n"
     ]
    }
   ],
   "source": [
    "# To Numpy Test\n",
    "np_z = np.random.random(shape)\n",
    "fetch_z = NDArrayDouble(shape)\n",
    "fetch_z.FromNumpy(np_z)\n",
    "test_fn(np_z, fetch_z)"
   ]
  },
  {
   "cell_type": "code",
   "execution_count": 94,
   "metadata": {},
   "outputs": [
    {
     "name": "stdout",
     "output_type": "stream",
     "text": [
      "test passed!\n"
     ]
    }
   ],
   "source": [
    "# From Numpy Test\n",
    "np_z = np.random.random(shape)\n",
    "fetch_z = NDArrayDouble(shape)\n",
    "fetch_z.FromNumpy(np_z)\n",
    "test_fn(np_z, fetch_z)"
   ]
  },
  {
   "cell_type": "markdown",
   "metadata": {},
   "source": [
    "### Check zeroes, ones, copy, and equality"
   ]
  },
  {
   "cell_type": "code",
   "execution_count": 95,
   "metadata": {},
   "outputs": [],
   "source": [
    "shape = [1,2,3,4,5]\n",
    "n_dims = len(shape)"
   ]
  },
  {
   "cell_type": "code",
   "execution_count": 96,
   "metadata": {},
   "outputs": [],
   "source": [
    "np_x = np.zeros(shape)\n",
    "fetch_x = NDArrayDouble.Zeros(shape)\n",
    "np_y = np.ones(shape)\n",
    "fetch_y = NDArrayDouble.Ones(shape)\n",
    "\n",
    "fetch_z = NDArrayDouble(shape)"
   ]
  },
  {
   "cell_type": "code",
   "execution_count": 97,
   "metadata": {},
   "outputs": [
    {
     "name": "stdout",
     "output_type": "stream",
     "text": [
      "test passed!\n"
     ]
    }
   ],
   "source": [
    "fetch_z = fetch_x\n",
    "simple_test_fn(fetch_z, fetch_x)"
   ]
  },
  {
   "cell_type": "code",
   "execution_count": 98,
   "metadata": {},
   "outputs": [
    {
     "name": "stdout",
     "output_type": "stream",
     "text": [
      "test passed!\n"
     ]
    }
   ],
   "source": [
    "test_fn(np_x, fetch_z)"
   ]
  },
  {
   "cell_type": "code",
   "execution_count": 99,
   "metadata": {},
   "outputs": [
    {
     "name": "stdout",
     "output_type": "stream",
     "text": [
      "test passed!\n"
     ]
    }
   ],
   "source": [
    "fetch_z = fetch_y\n",
    "simple_test_fn(fetch_z, fetch_y)"
   ]
  },
  {
   "cell_type": "code",
   "execution_count": 100,
   "metadata": {},
   "outputs": [
    {
     "name": "stdout",
     "output_type": "stream",
     "text": [
      "test passed!\n"
     ]
    }
   ],
   "source": [
    "if not (fetch_z != fetch_y):\n",
    "    print(\"test passed!\")\n",
    "else:\n",
    "    print(\"FAILURE!!!!\")"
   ]
  },
  {
   "cell_type": "markdown",
   "metadata": {},
   "source": [
    "### Check basic element-wise arithmetic operators"
   ]
  },
  {
   "cell_type": "code",
   "execution_count": 101,
   "metadata": {},
   "outputs": [],
   "source": [
    "shape = [3, 4]\n",
    "n_dims = len(shape)\n",
    "np_x = np.ones(shape)\n",
    "fetch_x = NDArrayDouble.Ones(shape)\n",
    "np_y = np.ones(shape)\n",
    "fetch_y = NDArrayDouble.Ones(shape)"
   ]
  },
  {
   "cell_type": "code",
   "execution_count": 14,
   "metadata": {},
   "outputs": [
    {
     "name": "stdout",
     "output_type": "stream",
     "text": [
      "test passed!\n"
     ]
    }
   ],
   "source": [
    "np_test = np_x + np_y\n",
    "fetch_z = fetch_x + fetch_y\n",
    "test_fn(np_test, fetch_z)"
   ]
  },
  {
   "cell_type": "code",
   "execution_count": 15,
   "metadata": {},
   "outputs": [
    {
     "name": "stdout",
     "output_type": "stream",
     "text": [
      "test passed!\n"
     ]
    }
   ],
   "source": [
    "np_test += np_x\n",
    "fetch_z += fetch_x\n",
    "test_fn(np_test, fetch_z)"
   ]
  },
  {
   "cell_type": "code",
   "execution_count": 16,
   "metadata": {},
   "outputs": [
    {
     "name": "stdout",
     "output_type": "stream",
     "text": [
      "test passed!\n"
     ]
    }
   ],
   "source": [
    "np_test = np_x - np_y\n",
    "fetch_z = fetch_x - fetch_y\n",
    "test_fn(np_test, fetch_z)"
   ]
  },
  {
   "cell_type": "code",
   "execution_count": 17,
   "metadata": {},
   "outputs": [
    {
     "name": "stdout",
     "output_type": "stream",
     "text": [
      "test passed!\n"
     ]
    }
   ],
   "source": [
    "np_test -= np_x\n",
    "fetch_z -= fetch_x\n",
    "test_fn(np_test, fetch_z)"
   ]
  },
  {
   "cell_type": "code",
   "execution_count": 18,
   "metadata": {},
   "outputs": [
    {
     "name": "stdout",
     "output_type": "stream",
     "text": [
      "test passed!\n"
     ]
    }
   ],
   "source": [
    "np_test = np_x * np_y\n",
    "fetch_z = fetch_x * fetch_y\n",
    "test_fn(np_test, fetch_z)"
   ]
  },
  {
   "cell_type": "code",
   "execution_count": 19,
   "metadata": {},
   "outputs": [
    {
     "name": "stdout",
     "output_type": "stream",
     "text": [
      "test passed!\n"
     ]
    }
   ],
   "source": [
    "np_test *= np_x\n",
    "fetch_z *= fetch_x\n",
    "test_fn(np_test, fetch_z)"
   ]
  },
  {
   "cell_type": "code",
   "execution_count": 20,
   "metadata": {},
   "outputs": [
    {
     "name": "stdout",
     "output_type": "stream",
     "text": [
      "test passed!\n"
     ]
    }
   ],
   "source": [
    "np_test = np_x / np_y\n",
    "fetch_z = fetch_x / fetch_y\n",
    "test_fn(np_test, fetch_z)"
   ]
  },
  {
   "cell_type": "code",
   "execution_count": 21,
   "metadata": {},
   "outputs": [
    {
     "name": "stdout",
     "output_type": "stream",
     "text": [
      "test passed!\n"
     ]
    }
   ],
   "source": [
    "np_test /= np_x\n",
    "fetch_z /= fetch_x\n",
    "test_fn(np_test, fetch_z)"
   ]
  },
  {
   "cell_type": "markdown",
   "metadata": {},
   "source": [
    "### check basic array * scalar arithmetic operations"
   ]
  },
  {
   "cell_type": "code",
   "execution_count": 105,
   "metadata": {},
   "outputs": [],
   "source": [
    "shape = [3, 4]\n",
    "n_dims = len(shape)\n",
    "np_x = np.random.random(shape)\n",
    "fetch_x = NDArrayDouble(shape)\n",
    "fetch_x.FromNumpy(np_x)\n",
    "\n",
    "fetch_z = NDArrayDouble.Zeros(shape)"
   ]
  },
  {
   "cell_type": "code",
   "execution_count": 106,
   "metadata": {},
   "outputs": [
    {
     "name": "stdout",
     "output_type": "stream",
     "text": [
      "test passed!\n"
     ]
    }
   ],
   "source": [
    "np_test = np_x + 7\n",
    "fetch_z = fetch_x + 7\n",
    "test_fn(np_test, fetch_z)"
   ]
  },
  {
   "cell_type": "code",
   "execution_count": 108,
   "metadata": {},
   "outputs": [
    {
     "name": "stdout",
     "output_type": "stream",
     "text": [
      "test passed!\n"
     ]
    }
   ],
   "source": [
    "np_test += 7\n",
    "fetch_z += 7\n",
    "test_fn(np_test, fetch_z)"
   ]
  },
  {
   "cell_type": "code",
   "execution_count": 109,
   "metadata": {},
   "outputs": [
    {
     "name": "stdout",
     "output_type": "stream",
     "text": [
      "test passed!\n"
     ]
    }
   ],
   "source": [
    "np_test = np_x - 7\n",
    "fetch_z = fetch_x - 7\n",
    "test_fn(np_test, fetch_z)"
   ]
  },
  {
   "cell_type": "code",
   "execution_count": 110,
   "metadata": {},
   "outputs": [
    {
     "name": "stdout",
     "output_type": "stream",
     "text": [
      "test passed!\n"
     ]
    }
   ],
   "source": [
    "np_test -= 7\n",
    "fetch_z -= 7\n",
    "test_fn(np_test, fetch_z)"
   ]
  },
  {
   "cell_type": "code",
   "execution_count": 111,
   "metadata": {},
   "outputs": [
    {
     "name": "stdout",
     "output_type": "stream",
     "text": [
      "test passed!\n"
     ]
    }
   ],
   "source": [
    "np_test = np_x * 7\n",
    "fetch_z = fetch_x * 7\n",
    "test_fn(np_test, fetch_z)"
   ]
  },
  {
   "cell_type": "code",
   "execution_count": 112,
   "metadata": {},
   "outputs": [
    {
     "name": "stdout",
     "output_type": "stream",
     "text": [
      "test passed!\n"
     ]
    }
   ],
   "source": [
    "np_test *= 7\n",
    "fetch_z *= 7\n",
    "test_fn(np_test, fetch_z)"
   ]
  },
  {
   "cell_type": "code",
   "execution_count": 113,
   "metadata": {},
   "outputs": [
    {
     "name": "stdout",
     "output_type": "stream",
     "text": [
      "test passed!\n"
     ]
    }
   ],
   "source": [
    "np_test = np_x / 7\n",
    "fetch_z = fetch_x / 7\n",
    "test_fn(np_test, fetch_z)"
   ]
  },
  {
   "cell_type": "code",
   "execution_count": 114,
   "metadata": {},
   "outputs": [
    {
     "name": "stdout",
     "output_type": "stream",
     "text": [
      "test passed!\n"
     ]
    }
   ],
   "source": [
    "np_test /= 7\n",
    "fetch_z /= 7\n",
    "test_fn(np_test, fetch_z)"
   ]
  },
  {
   "cell_type": "markdown",
   "metadata": {},
   "source": [
    "### check broadcasting arithmetic"
   ]
  },
  {
   "cell_type": "code",
   "execution_count": 115,
   "metadata": {},
   "outputs": [],
   "source": [
    "shape = [3, 1, 5]\n",
    "np_x = np.ones(shape)\n",
    "fetch_x = NDArrayDouble.Ones(shape)\n",
    "\n",
    "shape2 = [1, 7, 5]\n",
    "np_y = np.ones(shape2)\n",
    "fetch_y = NDArrayDouble.Ones(shape2)\n",
    "\n",
    "broadcast_shape = [max(a,b) for a,b in zip(shape, shape2)]"
   ]
  },
  {
   "cell_type": "code",
   "execution_count": 116,
   "metadata": {},
   "outputs": [
    {
     "name": "stdout",
     "output_type": "stream",
     "text": [
      "test passed!\n"
     ]
    }
   ],
   "source": [
    "np_out = np_x + np_y\n",
    "fetch_out = fetch_x + fetch_y\n",
    "test_fn(np_out, fetch_out)"
   ]
  },
  {
   "cell_type": "code",
   "execution_count": 117,
   "metadata": {},
   "outputs": [
    {
     "name": "stdout",
     "output_type": "stream",
     "text": [
      "test passed!\n"
     ]
    }
   ],
   "source": [
    "np_out = np_x - np_y\n",
    "fetch_out = fetch_x - fetch_y\n",
    "test_fn(np_out, fetch_out)"
   ]
  },
  {
   "cell_type": "code",
   "execution_count": 118,
   "metadata": {},
   "outputs": [
    {
     "name": "stdout",
     "output_type": "stream",
     "text": [
      "test passed!\n"
     ]
    }
   ],
   "source": [
    "np_out = np_x * np_y\n",
    "fetch_out = fetch_x * fetch_y\n",
    "test_fn(np_out, fetch_out)"
   ]
  },
  {
   "cell_type": "code",
   "execution_count": 119,
   "metadata": {},
   "outputs": [
    {
     "name": "stdout",
     "output_type": "stream",
     "text": [
      "test passed!\n"
     ]
    }
   ],
   "source": [
    "np_out = np_x / np_y\n",
    "fetch_out = fetch_x / fetch_y\n",
    "test_fn(np_out, fetch_out)"
   ]
  },
  {
   "cell_type": "code",
   "execution_count": 125,
   "metadata": {},
   "outputs": [],
   "source": [
    "# The following shows examples of inline arithmetic with broadcasting - in numpy they do not support this\n",
    "shape = [3, 1, 5]\n",
    "np_x = np.ones(shape)\n",
    "fetch_x = NDArrayDouble.Ones(shape)\n",
    "\n",
    "shape2 = [1, 7, 5]\n",
    "np_y = np.ones(shape2)\n",
    "fetch_y = NDArrayDouble.Ones(shape2)\n",
    "\n",
    "broadcast_shape = [max(a,b) for a,b in zip(shape, shape2)]"
   ]
  },
  {
   "cell_type": "code",
   "execution_count": 126,
   "metadata": {},
   "outputs": [
    {
     "name": "stdout",
     "output_type": "stream",
     "text": [
      "broadcast shape ( [3, 7, 5] ) does not match shape of output array ( [3, 1, 5] )\n",
      "test passed!\n"
     ]
    }
   ],
   "source": [
    "try:\n",
    "    fetch_x += fetch_y\n",
    "except ValueError:\n",
    "    print(\"test passed!\")"
   ]
  },
  {
   "cell_type": "code",
   "execution_count": 127,
   "metadata": {},
   "outputs": [
    {
     "name": "stdout",
     "output_type": "stream",
     "text": [
      "broadcast shape ( [3, 7, 5] ) does not match shape of output array ( [3, 1, 5] )\n",
      "test passed!\n"
     ]
    }
   ],
   "source": [
    "try:\n",
    "    fetch_x -= fetch_y\n",
    "except ValueError:\n",
    "    print(\"test passed!\")"
   ]
  },
  {
   "cell_type": "code",
   "execution_count": 128,
   "metadata": {},
   "outputs": [
    {
     "name": "stdout",
     "output_type": "stream",
     "text": [
      "broadcast shape ( [3, 7, 5] ) does not match shape of output array ( [3, 1, 5] )\n",
      "test passed!\n"
     ]
    }
   ],
   "source": [
    "try:\n",
    "    fetch_x *= fetch_y\n",
    "except ValueError:\n",
    "    print(\"test passed!\")"
   ]
  },
  {
   "cell_type": "code",
   "execution_count": 129,
   "metadata": {},
   "outputs": [
    {
     "name": "stdout",
     "output_type": "stream",
     "text": [
      "broadcast shape ( [3, 7, 5] ) does not match shape of output array ( [3, 1, 5] )\n",
      "test passed!\n"
     ]
    }
   ],
   "source": [
    "try:\n",
    "    fetch_x /= fetch_y\n",
    "except ValueError:\n",
    "    print(\"test passed!\")"
   ]
  },
  {
   "cell_type": "markdown",
   "metadata": {},
   "source": [
    "### check array slicing and slice assignment"
   ]
  },
  {
   "cell_type": "code",
   "execution_count": 130,
   "metadata": {},
   "outputs": [],
   "source": [
    "shape = [3, 4, 5, 8, 2]\n",
    "np_x = np.ones(shape)\n",
    "fetch_x = NDArrayDouble.Ones(shape)"
   ]
  },
  {
   "cell_type": "code",
   "execution_count": 131,
   "metadata": {},
   "outputs": [
    {
     "name": "stdout",
     "output_type": "stream",
     "text": [
      "test passed!\n"
     ]
    }
   ],
   "source": [
    "np_y = np_x[0:1, 0:2, 2:3, 3:6, 0:1]\n",
    "fetch_y = fetch_x[0:1, 0:2, 2:3, 3:6, 0:1]\n",
    "test_fn(np_y, fetch_y)"
   ]
  },
  {
   "cell_type": "code",
   "execution_count": 139,
   "metadata": {},
   "outputs": [
    {
     "name": "stdout",
     "output_type": "stream",
     "text": [
      "FAILURE\n",
      "[[0.81980194]\n",
      " [0.13661357]\n",
      " [0.06854439]\n",
      " [0.94854176]]\n",
      "[[0.96319302]\n",
      " [0.88193067]\n",
      " [0.81980194]\n",
      " [0.98723896]]\n",
      "[[0.70869198 0.35108301]\n",
      " [0.96319302 0.88193067]\n",
      " [0.81980194 0.98723896]\n",
      " [0.13661357 0.50730825]\n",
      " [0.06854439 0.2175374 ]\n",
      " [0.94854176 0.11620606]\n",
      " [0.16448548 0.22323804]\n",
      " [0.04899406 0.69766673]]\n",
      "[[0.70869198 0.35108301]\n",
      " [0.96319302 0.88193067]\n",
      " [0.81980194 0.98723896]\n",
      " [0.13661357 0.50730825]\n",
      " [0.06854439 0.2175374 ]\n",
      " [0.94854176 0.11620606]\n",
      " [0.16448548 0.22323804]\n",
      " [0.04899406 0.69766673]]\n"
     ]
    }
   ],
   "source": [
    "shape = [8, 2]\n",
    "np_x = np.random.random(shape)\n",
    "fetch_x = NDArrayDouble(shape)\n",
    "fetch_x.FromNumpy(np_x)\n",
    "shape = [4, 1]\n",
    "np_y = np.random.random(shape)\n",
    "fetch_y = NDArrayDouble(shape)\n",
    "fetch_y.FromNumpy(np_y)\n",
    "\n",
    "np_y[0:4, 0:1] = np_x[2:6, 0:1]\n",
    "fetch_y[0:4, 0:1] = fetch_x[2:6, 0:1]\n",
    "test_fn(np_y, fetch_y)\n",
    "print(np_y)\n",
    "print(fetch_y.ToNumpy())\n",
    "print(np_x)\n",
    "print(fetch_x.ToNumpy())"
   ]
  },
  {
   "cell_type": "code",
   "execution_count": 44,
   "metadata": {},
   "outputs": [],
   "source": [
    "shape = [3, 4, 5, 8, 2]\n",
    "np_x = np.ones(shape)\n",
    "fetch_x = NDArrayDouble.Ones(shape)"
   ]
  },
  {
   "cell_type": "code",
   "execution_count": 45,
   "metadata": {},
   "outputs": [
    {
     "name": "stdout",
     "output_type": "stream",
     "text": [
      "test passed!\n"
     ]
    }
   ],
   "source": [
    "np_y = np_x[1, 2, 3, 6, 1]\n",
    "fetch_y = fetch_x[1, 2, 3, 6, 1]\n",
    "simple_test_fn(np_y, fetch_y)"
   ]
  },
  {
   "cell_type": "code",
   "execution_count": 46,
   "metadata": {},
   "outputs": [
    {
     "name": "stdout",
     "output_type": "stream",
     "text": [
      "test passed!\n"
     ]
    }
   ],
   "source": [
    "shape = [3, 4, 5, 8, 2]\n",
    "np_x = np.ones(shape)\n",
    "fetch_x = NDArrayDouble.Ones(shape)\n",
    "shape = [1, 2, 3, 4, 1]\n",
    "np_y = np.ones(shape)\n",
    "fetch_y = NDArrayDouble.Ones(shape)\n",
    "\n",
    "np_y[0, 1, 2, 3, 0] = np_x[2, 3, 4, 5, 1]\n",
    "fetch_y[0, 1, 2, 3, 0] = fetch_x[2, 3, 4, 5, 1]\n",
    "test_fn(np_y, fetch_y)"
   ]
  },
  {
   "cell_type": "markdown",
   "metadata": {},
   "source": [
    "### Reshaping tests"
   ]
  },
  {
   "cell_type": "code",
   "execution_count": 47,
   "metadata": {},
   "outputs": [],
   "source": [
    "shape = [3, 4, 5, 8, 2]\n",
    "np_x = np.ones(shape)\n",
    "fetch_x = NDArrayDouble.Ones(shape)\n",
    "\n",
    "new_shape = [4, 2, 8, 5, 3]\n"
   ]
  },
  {
   "cell_type": "code",
   "execution_count": 48,
   "metadata": {},
   "outputs": [
    {
     "name": "stdout",
     "output_type": "stream",
     "text": [
      "test passed!\n"
     ]
    }
   ],
   "source": [
    "np_x = np.reshape(np_x, new_shape)\n",
    "fetch_x.reshape(new_shape)\n",
    "test_fn(np_x, fetch_x)"
   ]
  },
  {
   "cell_type": "code",
   "execution_count": 49,
   "metadata": {},
   "outputs": [
    {
     "name": "stdout",
     "output_type": "stream",
     "text": [
      "cannot reshape array of size ( 960 ) into shape of( [4, 2, 8, 5, 3] )\n",
      "test passed!\n"
     ]
    }
   ],
   "source": [
    "absurd_shape = [99999, 12]\n",
    "try:\n",
    "    fetch_x.reshape(absurd_shape)\n",
    "except ValueError:\n",
    "    print(\"test passed!\")"
   ]
  },
  {
   "cell_type": "code",
   "execution_count": 50,
   "metadata": {},
   "outputs": [
    {
     "name": "stdout",
     "output_type": "stream",
     "text": [
      "test passed!\n"
     ]
    }
   ],
   "source": [
    "shape = [3, 4, 5, 8, 2]\n",
    "np_x = np.ones(shape)\n",
    "fetch_x = NDArrayDouble.Ones(shape)\n",
    "\n",
    "np_x = np_x.flatten()\n",
    "fetch_x.flatten()\n",
    "test_fn(np_x, fetch_x)"
   ]
  },
  {
   "cell_type": "markdown",
   "metadata": {},
   "source": [
    "### check dimension reduction max and min functions with axis specification"
   ]
  },
  {
   "cell_type": "code",
   "execution_count": 51,
   "metadata": {},
   "outputs": [],
   "source": [
    "# max_shape = [7, 4, 6]\n",
    "# fetch_x = NDArrayDouble(max_shape)\n",
    "# np_x = np.zeros(max_shape)\n",
    "# counter = 0\n",
    "# for i in range(max_shape[0]):\n",
    "#     for j in range(max_shape[1]):\n",
    "#         for k in range(max_shape[2]):\n",
    "#             fetch_x[i, j, k] = counter\n",
    "#             np_x[i, j, k] = counter\n",
    "#             counter += 1"
   ]
  },
  {
   "cell_type": "code",
   "execution_count": 52,
   "metadata": {},
   "outputs": [],
   "source": [
    "# # test taking max and min across all axes one by one\n",
    "# out_shapes = [[4, 6], [7, 6], [7, 4]]\n",
    "# for cur_ax in range(0, 3):\n",
    "\n",
    "#     out_shape = out_shapes[cur_ax]\n",
    "#     np_max = np_x.max(axis=cur_ax)\n",
    "#     fetch_max = fetch_x.max(cur_ax)\n",
    "#     np_min = np_x.min(axis=cur_ax)\n",
    "#     fetch_min = fetch_x.min(cur_ax)\n",
    "\n",
    "#     test_fn(np_max, fetch_max)\n",
    "#     test_fn(np_min, fetch_min)"
   ]
  },
  {
   "cell_type": "markdown",
   "metadata": {},
   "source": [
    "### check some more functions"
   ]
  },
  {
   "cell_type": "code",
   "execution_count": 53,
   "metadata": {},
   "outputs": [],
   "source": [
    "shape = [3, 4]\n",
    "np_x = np.ones(shape)\n",
    "fetch_x = NDArrayDouble.Ones(shape)"
   ]
  },
  {
   "cell_type": "code",
   "execution_count": 54,
   "metadata": {},
   "outputs": [
    {
     "name": "stdout",
     "output_type": "stream",
     "text": [
      "test passed!\n"
     ]
    }
   ],
   "source": [
    "np_x = np.abs(np_x)\n",
    "fetch_x.abs(fetch_x)\n",
    "test_fn(np_x, fetch_x)"
   ]
  },
  {
   "cell_type": "code",
   "execution_count": 55,
   "metadata": {},
   "outputs": [
    {
     "name": "stdout",
     "output_type": "stream",
     "text": [
      "test passed!\n"
     ]
    }
   ],
   "source": [
    "np_x = np.exp(np_x)\n",
    "fetch_x.exp(fetch_x)\n",
    "test_fn(np_x, fetch_x)"
   ]
  },
  {
   "cell_type": "code",
   "execution_count": 56,
   "metadata": {},
   "outputs": [
    {
     "name": "stdout",
     "output_type": "stream",
     "text": [
      "test passed!\n"
     ]
    }
   ],
   "source": [
    "np_x = np.exp2(np_x)\n",
    "fetch_x.exp2(fetch_x)\n",
    "test_fn(np_x, fetch_x)"
   ]
  },
  {
   "cell_type": "code",
   "execution_count": 57,
   "metadata": {},
   "outputs": [
    {
     "name": "stdout",
     "output_type": "stream",
     "text": [
      "test passed!\n"
     ]
    }
   ],
   "source": [
    "np_x = np.expm1(np_x)\n",
    "fetch_x.expm1(fetch_x)\n",
    "test_fn(np_x, fetch_x)"
   ]
  },
  {
   "cell_type": "code",
   "execution_count": 58,
   "metadata": {},
   "outputs": [
    {
     "name": "stdout",
     "output_type": "stream",
     "text": [
      "test passed!\n"
     ]
    }
   ],
   "source": [
    "np_x = np.log(np_x)\n",
    "fetch_x.log(fetch_x)\n",
    "test_fn(np_x, fetch_x)"
   ]
  },
  {
   "cell_type": "code",
   "execution_count": 59,
   "metadata": {},
   "outputs": [
    {
     "name": "stdout",
     "output_type": "stream",
     "text": [
      "test passed!\n"
     ]
    }
   ],
   "source": [
    "np_x = np.log10(np_x)\n",
    "fetch_x.log10(fetch_x)\n",
    "test_fn(np_x, fetch_x)"
   ]
  },
  {
   "cell_type": "code",
   "execution_count": 60,
   "metadata": {},
   "outputs": [
    {
     "name": "stdout",
     "output_type": "stream",
     "text": [
      "test passed!\n"
     ]
    }
   ],
   "source": [
    "np_x = np.log2(np_x)\n",
    "fetch_x.log2(fetch_x)\n",
    "test_fn(np_x, fetch_x)"
   ]
  },
  {
   "cell_type": "code",
   "execution_count": 61,
   "metadata": {},
   "outputs": [
    {
     "name": "stdout",
     "output_type": "stream",
     "text": [
      "test passed!\n"
     ]
    }
   ],
   "source": [
    "np_x = np.log1p(np_x)\n",
    "fetch_x.log1p(fetch_x)\n",
    "test_fn(np_x, fetch_x)"
   ]
  },
  {
   "cell_type": "code",
   "execution_count": 62,
   "metadata": {},
   "outputs": [],
   "source": [
    "shape = [3, 4]\n",
    "np_x = np.ones(shape)\n",
    "fetch_x = NDArrayDouble.Ones(shape)\n"
   ]
  },
  {
   "cell_type": "code",
   "execution_count": 63,
   "metadata": {},
   "outputs": [
    {
     "name": "stdout",
     "output_type": "stream",
     "text": [
      "test passed!\n"
     ]
    }
   ],
   "source": [
    "np_x = np.sqrt(np_x)\n",
    "fetch_x.sqrt(fetch_x)\n",
    "test_fn(np_x, fetch_x)"
   ]
  },
  {
   "cell_type": "code",
   "execution_count": 64,
   "metadata": {},
   "outputs": [
    {
     "name": "stdout",
     "output_type": "stream",
     "text": [
      "test passed!\n"
     ]
    }
   ],
   "source": [
    "np_x = np.cbrt(np_x)\n",
    "fetch_x.cbrt(fetch_x)\n",
    "test_fn(np_x, fetch_x)"
   ]
  },
  {
   "cell_type": "code",
   "execution_count": 65,
   "metadata": {},
   "outputs": [
    {
     "name": "stdout",
     "output_type": "stream",
     "text": [
      "test passed!\n"
     ]
    }
   ],
   "source": [
    "np_x = np.sin(np_x)\n",
    "fetch_x.sin(fetch_x)\n",
    "test_fn(np_x, fetch_x)"
   ]
  },
  {
   "cell_type": "code",
   "execution_count": 66,
   "metadata": {},
   "outputs": [
    {
     "name": "stdout",
     "output_type": "stream",
     "text": [
      "test passed!\n"
     ]
    }
   ],
   "source": [
    "np_x = np.cos(np_x)\n",
    "fetch_x.cos(fetch_x)\n",
    "test_fn(np_x, fetch_x)"
   ]
  },
  {
   "cell_type": "code",
   "execution_count": 67,
   "metadata": {},
   "outputs": [
    {
     "name": "stdout",
     "output_type": "stream",
     "text": [
      "test passed!\n"
     ]
    }
   ],
   "source": [
    "np_x = np.tan(np_x)\n",
    "fetch_x.tan(fetch_x)\n",
    "test_fn(np_x, fetch_x)"
   ]
  },
  {
   "cell_type": "code",
   "execution_count": 68,
   "metadata": {},
   "outputs": [
    {
     "name": "stdout",
     "output_type": "stream",
     "text": [
      "test passed!\n"
     ]
    }
   ],
   "source": [
    "np_x = np.arcsin(np_x)\n",
    "fetch_x.asin(fetch_x)\n",
    "test_fn(np_x, fetch_x)"
   ]
  },
  {
   "cell_type": "code",
   "execution_count": 69,
   "metadata": {},
   "outputs": [
    {
     "name": "stdout",
     "output_type": "stream",
     "text": [
      "test passed!\n"
     ]
    }
   ],
   "source": [
    "np_x = np.arccos(np_x)\n",
    "fetch_x.acos(fetch_x)\n",
    "test_fn(np_x, fetch_x)"
   ]
  },
  {
   "cell_type": "code",
   "execution_count": 70,
   "metadata": {},
   "outputs": [
    {
     "name": "stdout",
     "output_type": "stream",
     "text": [
      "test passed!\n"
     ]
    }
   ],
   "source": [
    "np_x = np.arctan(np_x)\n",
    "fetch_x.atan(fetch_x)\n",
    "test_fn(np_x, fetch_x)"
   ]
  },
  {
   "cell_type": "code",
   "execution_count": 71,
   "metadata": {},
   "outputs": [
    {
     "name": "stdout",
     "output_type": "stream",
     "text": [
      "test passed!\n"
     ]
    }
   ],
   "source": [
    "np_x = np.sinh(np_x)\n",
    "fetch_x.sinh(fetch_x)\n",
    "test_fn(np_x, fetch_x)"
   ]
  },
  {
   "cell_type": "code",
   "execution_count": 72,
   "metadata": {},
   "outputs": [
    {
     "name": "stdout",
     "output_type": "stream",
     "text": [
      "test passed!\n"
     ]
    }
   ],
   "source": [
    "np_x = np.cosh(np_x)\n",
    "fetch_x.cosh(fetch_x)\n",
    "test_fn(np_x, fetch_x)"
   ]
  },
  {
   "cell_type": "code",
   "execution_count": 73,
   "metadata": {},
   "outputs": [
    {
     "name": "stdout",
     "output_type": "stream",
     "text": [
      "test passed!\n"
     ]
    }
   ],
   "source": [
    "np_x = np.tanh(np_x)\n",
    "fetch_x.tanh(fetch_x)\n",
    "test_fn(np_x, fetch_x)"
   ]
  },
  {
   "cell_type": "code",
   "execution_count": 74,
   "metadata": {},
   "outputs": [
    {
     "name": "stdout",
     "output_type": "stream",
     "text": [
      "test passed!\n"
     ]
    }
   ],
   "source": [
    "shape = [3, 4]\n",
    "np_x = np.ones(shape)\n",
    "fetch_x = NDArrayDouble.Ones(shape)\n",
    "\n",
    "np_x = np.arcsinh(np_x)\n",
    "fetch_x.asinh(fetch_x)\n",
    "test_fn(np_x, fetch_x)"
   ]
  },
  {
   "cell_type": "code",
   "execution_count": 75,
   "metadata": {},
   "outputs": [
    {
     "name": "stdout",
     "output_type": "stream",
     "text": [
      "test passed!\n"
     ]
    }
   ],
   "source": [
    "shape = [3, 4]\n",
    "np_x = np.ones(shape)\n",
    "fetch_x = NDArrayDouble.Ones(shape)\n",
    "\n",
    "np_x = np.arccosh(np_x)\n",
    "fetch_x.acosh(fetch_x)\n",
    "test_fn(np_x, fetch_x)"
   ]
  },
  {
   "cell_type": "code",
   "execution_count": 76,
   "metadata": {},
   "outputs": [
    {
     "name": "stdout",
     "output_type": "stream",
     "text": [
      "test passed!\n"
     ]
    }
   ],
   "source": [
    "np_x = np.arctanh(np_x)\n",
    "fetch_x.atanh(fetch_x)\n",
    "test_fn(np_x, fetch_x)"
   ]
  },
  {
   "cell_type": "code",
   "execution_count": 77,
   "metadata": {},
   "outputs": [
    {
     "name": "stdout",
     "output_type": "stream",
     "text": [
      "test passed!\n"
     ]
    }
   ],
   "source": [
    "np_x = np.ceil(np_x)\n",
    "fetch_x.ceil(fetch_x)\n",
    "test_fn(np_x, fetch_x)"
   ]
  },
  {
   "cell_type": "code",
   "execution_count": 78,
   "metadata": {},
   "outputs": [
    {
     "name": "stdout",
     "output_type": "stream",
     "text": [
      "test passed!\n"
     ]
    }
   ],
   "source": [
    "np_x = np.floor(np_x)\n",
    "fetch_x.floor(fetch_x)\n",
    "test_fn(np_x, fetch_x)"
   ]
  },
  {
   "cell_type": "code",
   "execution_count": 79,
   "metadata": {},
   "outputs": [
    {
     "name": "stdout",
     "output_type": "stream",
     "text": [
      "test passed!\n"
     ]
    }
   ],
   "source": [
    "np_x = np.trunc(np_x)\n",
    "fetch_x.trunc(fetch_x)\n",
    "test_fn(np_x, fetch_x)"
   ]
  },
  {
   "cell_type": "code",
   "execution_count": 80,
   "metadata": {},
   "outputs": [
    {
     "name": "stdout",
     "output_type": "stream",
     "text": [
      "test passed!\n"
     ]
    }
   ],
   "source": [
    "np_x = np.round(np_x)\n",
    "fetch_x.round(fetch_x)\n",
    "test_fn(np_x, fetch_x)"
   ]
  },
  {
   "cell_type": "code",
   "execution_count": 81,
   "metadata": {},
   "outputs": [
    {
     "name": "stdout",
     "output_type": "stream",
     "text": [
      "test passed!\n"
     ]
    }
   ],
   "source": [
    "np_x = np.rint(np_x)\n",
    "fetch_x.rint(fetch_x)\n",
    "test_fn(np_x, fetch_x)"
   ]
  },
  {
   "cell_type": "code",
   "execution_count": 82,
   "metadata": {},
   "outputs": [
    {
     "name": "stdout",
     "output_type": "stream",
     "text": [
      "test passed!\n"
     ]
    }
   ],
   "source": [
    "np_x = np.isfinite(np_x)\n",
    "fetch_x.isfinite(fetch_x)\n",
    "test_fn(np_x, fetch_x)"
   ]
  },
  {
   "cell_type": "code",
   "execution_count": 83,
   "metadata": {},
   "outputs": [
    {
     "name": "stdout",
     "output_type": "stream",
     "text": [
      "test passed!\n"
     ]
    }
   ],
   "source": [
    "np_x = np.isinf(np_x)\n",
    "fetch_x.isinf(fetch_x)\n",
    "test_fn(np_x, fetch_x)"
   ]
  },
  {
   "cell_type": "code",
   "execution_count": 84,
   "metadata": {},
   "outputs": [
    {
     "name": "stdout",
     "output_type": "stream",
     "text": [
      "test passed!\n"
     ]
    }
   ],
   "source": [
    "np_x = np.isnan(np_x)\n",
    "fetch_x.isnan(fetch_x)\n",
    "test_fn(np_x, fetch_x)"
   ]
  },
  {
   "cell_type": "markdown",
   "metadata": {},
   "source": [
    "### Now let's get a bit more fancy"
   ]
  },
  {
   "cell_type": "code",
   "execution_count": 85,
   "metadata": {},
   "outputs": [
    {
     "ename": "NameError",
     "evalue": "name 'x' is not defined",
     "output_type": "error",
     "traceback": [
      "\u001b[0;31m---------------------------------------------------------------------------\u001b[0m",
      "\u001b[0;31mNameError\u001b[0m                                 Traceback (most recent call last)",
      "\u001b[0;32m<ipython-input-85-d6fd55cd3d74>\u001b[0m in \u001b[0;36m<module>\u001b[0;34m()\u001b[0m\n\u001b[1;32m      4\u001b[0m     \u001b[0;32melse\u001b[0m\u001b[0;34m:\u001b[0m\u001b[0;34m\u001b[0m\u001b[0m\n\u001b[1;32m      5\u001b[0m         \u001b[0;32mreturn\u001b[0m \u001b[0;36m0\u001b[0m\u001b[0;34m\u001b[0m\u001b[0m\n\u001b[0;32m----> 6\u001b[0;31m \u001b[0mtest_list\u001b[0m \u001b[0;34m=\u001b[0m \u001b[0;34m[\u001b[0m\u001b[0mRelu\u001b[0m\u001b[0;34m(\u001b[0m\u001b[0ma\u001b[0m\u001b[0;34m)\u001b[0m \u001b[0;32mfor\u001b[0m \u001b[0ma\u001b[0m \u001b[0;32min\u001b[0m \u001b[0mx\u001b[0m\u001b[0;34m.\u001b[0m\u001b[0mToNumpy\u001b[0m\u001b[0;34m(\u001b[0m\u001b[0;34m)\u001b[0m\u001b[0;34m]\u001b[0m\u001b[0;34m\u001b[0m\u001b[0m\n\u001b[0m\u001b[1;32m      7\u001b[0m \u001b[0mz\u001b[0m\u001b[0;34m.\u001b[0m\u001b[0mRelu\u001b[0m\u001b[0;34m(\u001b[0m\u001b[0mx\u001b[0m \u001b[0;34m*\u001b[0m \u001b[0;36m1\u001b[0m\u001b[0;34m)\u001b[0m\u001b[0;34m\u001b[0m\u001b[0m\n\u001b[1;32m      8\u001b[0m \u001b[0mtest_pass_fn\u001b[0m\u001b[0;34m(\u001b[0m\u001b[0mtest_list\u001b[0m\u001b[0;34m,\u001b[0m \u001b[0mz\u001b[0m\u001b[0;34m)\u001b[0m\u001b[0;34m\u001b[0m\u001b[0m\n",
      "\u001b[0;31mNameError\u001b[0m: name 'x' is not defined"
     ]
    }
   ],
   "source": [
    "def Relu(x):\n",
    "    if x >= 0:\n",
    "        return x\n",
    "    else:\n",
    "        return 0\n",
    "test_list = [Relu(a) for a in x.ToNumpy()]\n",
    "z.Relu(x * 1)\n",
    "test_pass_fn(test_list, z)"
   ]
  },
  {
   "cell_type": "code",
   "execution_count": 86,
   "metadata": {},
   "outputs": [
    {
     "ename": "NameError",
     "evalue": "name 'z' is not defined",
     "output_type": "error",
     "traceback": [
      "\u001b[0;31m---------------------------------------------------------------------------\u001b[0m",
      "\u001b[0;31mNameError\u001b[0m                                 Traceback (most recent call last)",
      "\u001b[0;32m<ipython-input-86-acab76b4e224>\u001b[0m in \u001b[0;36m<module>\u001b[0;34m()\u001b[0m\n\u001b[0;32m----> 1\u001b[0;31m \u001b[0mz\u001b[0m\u001b[0;34m.\u001b[0m\u001b[0mToNumpy\u001b[0m\u001b[0;34m(\u001b[0m\u001b[0;34m)\u001b[0m\u001b[0;34m\u001b[0m\u001b[0m\n\u001b[0m",
      "\u001b[0;31mNameError\u001b[0m: name 'z' is not defined"
     ]
    }
   ],
   "source": [
    "z.ToNumpy()"
   ]
  },
  {
   "cell_type": "code",
   "execution_count": 87,
   "metadata": {},
   "outputs": [
    {
     "ename": "NameError",
     "evalue": "name 'z' is not defined",
     "output_type": "error",
     "traceback": [
      "\u001b[0;31m---------------------------------------------------------------------------\u001b[0m",
      "\u001b[0;31mNameError\u001b[0m                                 Traceback (most recent call last)",
      "\u001b[0;32m<ipython-input-87-a92801563243>\u001b[0m in \u001b[0;36m<module>\u001b[0;34m()\u001b[0m\n\u001b[0;32m----> 1\u001b[0;31m \u001b[0mz\u001b[0m\u001b[0;34m.\u001b[0m\u001b[0mRelu\u001b[0m\u001b[0;34m(\u001b[0m\u001b[0mx\u001b[0m \u001b[0;34m*\u001b[0m \u001b[0;34m-\u001b[0m\u001b[0;36m1\u001b[0m\u001b[0;34m)\u001b[0m\u001b[0;34m\u001b[0m\u001b[0m\n\u001b[0m\u001b[1;32m      2\u001b[0m \u001b[0mtest_pass_fn\u001b[0m\u001b[0;34m(\u001b[0m\u001b[0mtest_list\u001b[0m\u001b[0;34m,\u001b[0m \u001b[0mz\u001b[0m\u001b[0;34m)\u001b[0m\u001b[0;34m\u001b[0m\u001b[0m\n",
      "\u001b[0;31mNameError\u001b[0m: name 'z' is not defined"
     ]
    }
   ],
   "source": [
    "z.Relu(x * -1)\n",
    "test_pass_fn(test_list, z)"
   ]
  },
  {
   "cell_type": "code",
   "execution_count": 88,
   "metadata": {},
   "outputs": [
    {
     "ename": "NameError",
     "evalue": "name 'x' is not defined",
     "output_type": "error",
     "traceback": [
      "\u001b[0;31m---------------------------------------------------------------------------\u001b[0m",
      "\u001b[0;31mNameError\u001b[0m                                 Traceback (most recent call last)",
      "\u001b[0;32m<ipython-input-88-917169a6b07f>\u001b[0m in \u001b[0;36m<module>\u001b[0;34m()\u001b[0m\n\u001b[0;32m----> 1\u001b[0;31m \u001b[0mtest_list\u001b[0m \u001b[0;34m=\u001b[0m \u001b[0mnp\u001b[0m\u001b[0;34m.\u001b[0m\u001b[0msign\u001b[0m\u001b[0;34m(\u001b[0m\u001b[0mx\u001b[0m\u001b[0;34m.\u001b[0m\u001b[0mToNumpy\u001b[0m\u001b[0;34m(\u001b[0m\u001b[0;34m)\u001b[0m\u001b[0;34m)\u001b[0m\u001b[0;34m\u001b[0m\u001b[0m\n\u001b[0m\u001b[1;32m      2\u001b[0m \u001b[0mz\u001b[0m\u001b[0;34m.\u001b[0m\u001b[0mSign\u001b[0m\u001b[0;34m(\u001b[0m\u001b[0mx\u001b[0m\u001b[0;34m)\u001b[0m\u001b[0;34m\u001b[0m\u001b[0m\n\u001b[1;32m      3\u001b[0m \u001b[0mtest_pass_fn\u001b[0m\u001b[0;34m(\u001b[0m\u001b[0mtest_list\u001b[0m\u001b[0;34m,\u001b[0m \u001b[0mz\u001b[0m\u001b[0;34m)\u001b[0m\u001b[0;34m\u001b[0m\u001b[0m\n",
      "\u001b[0;31mNameError\u001b[0m: name 'x' is not defined"
     ]
    }
   ],
   "source": [
    "test_list = np.sign(x.ToNumpy())\n",
    "z.Sign(x)\n",
    "test_pass_fn(test_list, z)"
   ]
  },
  {
   "cell_type": "code",
   "execution_count": 89,
   "metadata": {},
   "outputs": [
    {
     "ename": "NameError",
     "evalue": "name 'test_list' is not defined",
     "output_type": "error",
     "traceback": [
      "\u001b[0;31m---------------------------------------------------------------------------\u001b[0m",
      "\u001b[0;31mNameError\u001b[0m                                 Traceback (most recent call last)",
      "\u001b[0;32m<ipython-input-89-593766006ef7>\u001b[0m in \u001b[0;36m<module>\u001b[0;34m()\u001b[0m\n\u001b[0;32m----> 1\u001b[0;31m \u001b[0mtest_list\u001b[0m\u001b[0;34m\u001b[0m\u001b[0m\n\u001b[0m",
      "\u001b[0;31mNameError\u001b[0m: name 'test_list' is not defined"
     ]
    }
   ],
   "source": [
    "test_list"
   ]
  },
  {
   "cell_type": "code",
   "execution_count": 90,
   "metadata": {},
   "outputs": [
    {
     "ename": "NameError",
     "evalue": "name 'z' is not defined",
     "output_type": "error",
     "traceback": [
      "\u001b[0;31m---------------------------------------------------------------------------\u001b[0m",
      "\u001b[0;31mNameError\u001b[0m                                 Traceback (most recent call last)",
      "\u001b[0;32m<ipython-input-90-7ad4df37d59b>\u001b[0m in \u001b[0;36m<module>\u001b[0;34m()\u001b[0m\n\u001b[0;32m----> 1\u001b[0;31m \u001b[0mz\u001b[0m\u001b[0;34m.\u001b[0m\u001b[0mSign\u001b[0m\u001b[0;34m(\u001b[0m\u001b[0;36m1\u001b[0m\u001b[0;34m)\u001b[0m\u001b[0;34m.\u001b[0m\u001b[0mToNumpy\u001b[0m\u001b[0;34m(\u001b[0m\u001b[0;34m)\u001b[0m\u001b[0;34m\u001b[0m\u001b[0m\n\u001b[0m",
      "\u001b[0;31mNameError\u001b[0m: name 'z' is not defined"
     ]
    }
   ],
   "source": [
    "z.Sign(1).ToNumpy()"
   ]
  },
  {
   "cell_type": "code",
   "execution_count": null,
   "metadata": {},
   "outputs": [],
   "source": []
  },
  {
   "cell_type": "code",
   "execution_count": 144,
   "metadata": {},
   "outputs": [
    {
     "ename": "AttributeError",
     "evalue": "'fetch.math.NDArrayDouble' object has no attribute 'Softmax'",
     "output_type": "error",
     "traceback": [
      "\u001b[0;31m---------------------------------------------------------------------------\u001b[0m",
      "\u001b[0;31mAttributeError\u001b[0m                            Traceback (most recent call last)",
      "\u001b[0;32m<ipython-input-144-740874505cdf>\u001b[0m in \u001b[0;36m<module>\u001b[0;34m()\u001b[0m\n\u001b[0;32m----> 1\u001b[0;31m \u001b[0mz\u001b[0m\u001b[0;34m.\u001b[0m\u001b[0mSoftmax\u001b[0m\u001b[0;34m(\u001b[0m\u001b[0;34m)\u001b[0m\u001b[0;34m\u001b[0m\u001b[0m\n\u001b[0m",
      "\u001b[0;31mAttributeError\u001b[0m: 'fetch.math.NDArrayDouble' object has no attribute 'Softmax'"
     ]
    }
   ],
   "source": [
    "z.Softmax()"
   ]
  },
  {
   "cell_type": "code",
   "execution_count": null,
   "metadata": {},
   "outputs": [],
   "source": []
  },
  {
   "cell_type": "code",
   "execution_count": null,
   "metadata": {},
   "outputs": [],
   "source": []
  },
  {
   "cell_type": "code",
   "execution_count": 54,
   "metadata": {},
   "outputs": [],
   "source": []
  },
  {
   "cell_type": "code",
   "execution_count": 55,
   "metadata": {},
   "outputs": [
    {
     "data": {
      "text/plain": [
       "()"
      ]
     },
     "execution_count": 55,
     "metadata": {},
     "output_type": "execute_result"
    }
   ],
   "source": []
  },
  {
   "cell_type": "code",
   "execution_count": 58,
   "metadata": {},
   "outputs": [
    {
     "data": {
      "text/plain": [
       "(3, 4)"
      ]
     },
     "execution_count": 58,
     "metadata": {},
     "output_type": "execute_result"
    }
   ],
   "source": []
  },
  {
   "cell_type": "code",
   "execution_count": null,
   "metadata": {},
   "outputs": [],
   "source": []
  },
  {
   "cell_type": "code",
   "execution_count": null,
   "metadata": {},
   "outputs": [],
   "source": []
  },
  {
   "cell_type": "code",
   "execution_count": null,
   "metadata": {},
   "outputs": [],
   "source": []
  }
 ],
 "metadata": {
  "kernelspec": {
   "display_name": "Python 3",
   "language": "python",
   "name": "python3"
  },
  "language_info": {
   "codemirror_mode": {
    "name": "ipython",
    "version": 3
   },
   "file_extension": ".py",
   "mimetype": "text/x-python",
   "name": "python",
   "nbconvert_exporter": "python",
   "pygments_lexer": "ipython3",
   "version": "3.5.5"
  }
 },
 "nbformat": 4,
 "nbformat_minor": 2
}
