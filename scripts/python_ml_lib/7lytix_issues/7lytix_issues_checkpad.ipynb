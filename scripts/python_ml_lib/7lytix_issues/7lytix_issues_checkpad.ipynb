{
 "cells": [
  {
   "cell_type": "code",
   "execution_count": 1,
   "metadata": {},
   "outputs": [],
   "source": [
    "import fetch"
   ]
  },
  {
   "cell_type": "code",
   "execution_count": 2,
   "metadata": {},
   "outputs": [],
   "source": [
    "from fetch.math import NDArrayDouble"
   ]
  },
  {
   "cell_type": "code",
   "execution_count": 3,
   "metadata": {},
   "outputs": [],
   "source": [
    "x = NDArrayDouble().Arange(100,0,-2)"
   ]
  },
  {
   "cell_type": "code",
   "execution_count": 4,
   "metadata": {},
   "outputs": [
    {
     "data": {
      "text/plain": [
       "98.0"
      ]
     },
     "execution_count": 4,
     "metadata": {},
     "output_type": "execute_result"
    }
   ],
   "source": [
    "x[1]"
   ]
  },
  {
   "cell_type": "code",
   "execution_count": 5,
   "metadata": {},
   "outputs": [
    {
     "data": {
      "text/plain": [
       "array([1.        , 4.33333333, 7.66666667])"
      ]
     },
     "execution_count": 5,
     "metadata": {},
     "output_type": "execute_result"
    }
   ],
   "source": [
    "NDArrayDouble().Arange(1,11,3).ToNumpy() \n",
    "#array([1.  , 4.33333333, 7.66666667])"
   ]
  },
  {
   "cell_type": "code",
   "execution_count": 6,
   "metadata": {},
   "outputs": [],
   "source": [
    "from fetch.math.linalg import MatrixDouble\n",
    "import numpy as np\n",
    "import fetch.math as fm\n"
   ]
  },
  {
   "cell_type": "code",
   "execution_count": 7,
   "metadata": {},
   "outputs": [
    {
     "name": "stdout",
     "output_type": "stream",
     "text": [
      "[[     nan -1.0e-03      nan]\n",
      " [ 0.0e+00      nan  4.6e+00]]\n",
      "[[     nan  1.0e-03      nan]\n",
      " [-1.8e+01      nan  0.0e+00]]\n"
     ]
    }
   ],
   "source": [
    "\n",
    "\n",
    "N1 = np.array([[np.NaN, 0., 8.],[-9, np.NaN,2.3]])\n",
    "N2 = np.array([[np.NaN, -0.001, np.NaN],[9,5,2.3]])\n",
    "\n",
    "F1 = MatrixDouble()\n",
    "F2 = MatrixDouble()\n",
    "E_add = MatrixDouble()\n",
    "E_sub = MatrixDouble()\n",
    "\n",
    "F1.FromNumpy(N1)\n",
    "F2.FromNumpy(N2)\n",
    "E_add = F1 + F2\n",
    "E_sub = F1 - F2\n",
    "print(E_add.ToNumpy())\n",
    "print(E_sub.ToNumpy())"
   ]
  },
  {
   "cell_type": "code",
   "execution_count": 9,
   "metadata": {},
   "outputs": [
    {
     "ename": "TypeError",
     "evalue": "unsupported operand type(s) for *: 'int' and 'fetch.math.linalg.MatrixDouble'",
     "output_type": "error",
     "traceback": [
      "\u001b[0;31m---------------------------------------------------------------------------\u001b[0m",
      "\u001b[0;31mTypeError\u001b[0m                                 Traceback (most recent call last)",
      "\u001b[0;32m<ipython-input-9-b6adb3cee87f>\u001b[0m in \u001b[0;36m<module>\u001b[0;34m()\u001b[0m\n\u001b[1;32m      5\u001b[0m \u001b[0mE_right\u001b[0m \u001b[0;34m=\u001b[0m \u001b[0mMatrixDouble\u001b[0m\u001b[0;34m(\u001b[0m\u001b[0;34m)\u001b[0m\u001b[0;34m\u001b[0m\u001b[0m\n\u001b[1;32m      6\u001b[0m \u001b[0;34m\u001b[0m\u001b[0m\n\u001b[0;32m----> 7\u001b[0;31m \u001b[0mf_scalar\u001b[0m \u001b[0;34m=\u001b[0m \u001b[0;36m3\u001b[0m \u001b[0;34m*\u001b[0m \u001b[0mF1\u001b[0m\u001b[0;34m\u001b[0m\u001b[0m\n\u001b[0m\u001b[1;32m      8\u001b[0m \u001b[0;34m\u001b[0m\u001b[0m\n\u001b[1;32m      9\u001b[0m \u001b[0;31m# N1 = np.array([[-12,3],[4,9]])\u001b[0m\u001b[0;34m\u001b[0m\u001b[0;34m\u001b[0m\u001b[0m\n",
      "\u001b[0;31mTypeError\u001b[0m: unsupported operand type(s) for *: 'int' and 'fetch.math.linalg.MatrixDouble'"
     ]
    }
   ],
   "source": [
    "import numpy as np\n",
    "F1 = MatrixDouble(4, 4)\n",
    "F_scalar = MatrixDouble()\n",
    "E_left  = MatrixDouble()\n",
    "E_right = MatrixDouble()\n",
    "\n",
    "f_scalar = 3 * F1\n",
    "\n",
    "# N1 = np.array([[-12,3],[4,9]])\n",
    "# S = -2.9\n",
    "\n",
    "# F1.FromNumpy(N1)\n",
    "\n",
    "# descr = \"\\nMatrix multiplication with scalar number on the right, with NaN in matrix\"\n",
    "# E_right = F1 * S\n",
    "# P = N1 * S\n",
    "# print(descr, E_right .ToNumpy(), \"\\nshould actually be\\n\",  P)\n",
    "\n",
    "# descr =\"\\nMatrix multiplication with scalar number on the left, with NaN in matrix\"\n",
    "# E_left = S * F1\n",
    "# P = S * N1\n",
    "# print(descr, E_left .ToNumpy(), \"\\nshould actually be\\n\",  P)\n"
   ]
  },
  {
   "cell_type": "code",
   "execution_count": 11,
   "metadata": {},
   "outputs": [
    {
     "ename": "TypeError",
     "evalue": "unsupported operand type(s) for *: 'int' and 'fetch.math.NDArrayDouble'",
     "output_type": "error",
     "traceback": [
      "\u001b[0;31m---------------------------------------------------------------------------\u001b[0m",
      "\u001b[0;31mTypeError\u001b[0m                                 Traceback (most recent call last)",
      "\u001b[0;32m<ipython-input-11-a7d4f514a8cc>\u001b[0m in \u001b[0;36m<module>\u001b[0;34m()\u001b[0m\n\u001b[1;32m      1\u001b[0m \u001b[0mx\u001b[0m \u001b[0;34m=\u001b[0m \u001b[0mNDArrayDouble\u001b[0m\u001b[0;34m(\u001b[0m\u001b[0;34m)\u001b[0m\u001b[0;34m\u001b[0m\u001b[0m\n\u001b[0;32m----> 2\u001b[0;31m \u001b[0;36m3\u001b[0m \u001b[0;34m*\u001b[0m \u001b[0mx\u001b[0m\u001b[0;34m\u001b[0m\u001b[0m\n\u001b[0m",
      "\u001b[0;31mTypeError\u001b[0m: unsupported operand type(s) for *: 'int' and 'fetch.math.NDArrayDouble'"
     ]
    }
   ],
   "source": [
    "x = NDArrayDouble()\n",
    "3 * x"
   ]
  },
  {
   "cell_type": "code",
   "execution_count": null,
   "metadata": {},
   "outputs": [],
   "source": [
    "F1 * F_scalar"
   ]
  },
  {
   "cell_type": "code",
   "execution_count": null,
   "metadata": {},
   "outputs": [],
   "source": [
    "\n",
    "print(\"\\nMatrix multiplication with scalar on the right, with NaN in matrix\")\n",
    "E_right = F1 * F_scalar\n"
   ]
  },
  {
   "cell_type": "code",
   "execution_count": null,
   "metadata": {},
   "outputs": [],
   "source": [
    "P = N1 * S\n",
    "print(E_right .ToNumpy(), \"\\nshould actually be\\n\",  P)\n",
    "\n",
    "print(\"\\nMatrix multiplication with scalar on the left, with NaN in matrix\")\n",
    "E_left = F_scalar * F1\n",
    "P = S * N1\n",
    "print(E_left .ToNumpy(), \"\\nshould actually be\\n\",  P)"
   ]
  }
 ],
 "metadata": {
  "kernelspec": {
   "display_name": "Python 3",
   "language": "python",
   "name": "python3"
  },
  "language_info": {
   "codemirror_mode": {
    "name": "ipython",
    "version": 3
   },
   "file_extension": ".py",
   "mimetype": "text/x-python",
   "name": "python",
   "nbconvert_exporter": "python",
   "pygments_lexer": "ipython3",
   "version": "3.6.6"
  }
 },
 "nbformat": 4,
 "nbformat_minor": 2
}
