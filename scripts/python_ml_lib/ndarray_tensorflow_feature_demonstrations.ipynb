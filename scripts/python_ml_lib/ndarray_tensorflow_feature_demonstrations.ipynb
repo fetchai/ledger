{
 "cells": [
  {
   "cell_type": "code",
   "execution_count": 1,
   "metadata": {},
   "outputs": [],
   "source": [
    "import numpy as np\n",
    "import fetch.math as fm\n",
    "from fetch.math import NDArrayDouble\n",
    "import tensorflow as tf"
   ]
  },
  {
   "cell_type": "code",
   "execution_count": 2,
   "metadata": {},
   "outputs": [],
   "source": [
    "TOLERANCE = 1e-12\n",
    "def simple_test_fn(a, b):\n",
    "    if (abs(a - b) < TOLERANCE):\n",
    "        print(\"test passed!\")\n",
    "    else:\n",
    "        print(\"FAILURE\")\n",
    "    return"
   ]
  },
  {
   "cell_type": "code",
   "execution_count": 3,
   "metadata": {},
   "outputs": [],
   "source": [
    "def test_fn(np_arr, fetch_arr):\n",
    "    \n",
    "    if np.allclose(np_arr, fetch_arr.ToNumpy()):\n",
    "        print(\"test passed!\")\n",
    "    else:\n",
    "        print(\"FAILURE\")\n",
    "\n",
    "    return"
   ]
  },
  {
   "cell_type": "markdown",
   "metadata": {},
   "source": [
    "### Setup"
   ]
  },
  {
   "cell_type": "code",
   "execution_count": 4,
   "metadata": {},
   "outputs": [],
   "source": [
    "g = tf.Graph()"
   ]
  },
  {
   "cell_type": "code",
   "execution_count": 5,
   "metadata": {},
   "outputs": [],
   "source": [
    "def reset_arrays(offset=0, shape=[2, 3, 2]):\n",
    "    # initialise some random arrays\n",
    "#     shape = [1,2,3,4,5,6]\n",
    "#     shape = [2,4]\n",
    "#     shape = [2,3,2]\n",
    "\n",
    "    # set up the tensorflow / numpy array\n",
    "    with g.as_default():\n",
    "        tf_x = tf.to_double(tf.random_uniform(shape, 0.1, 1, dtype=tf.float64)) + offset\n",
    "        tf_y = tf.to_double(tf.random_uniform(shape, 0.1, 1, dtype=tf.float64)) + offset\n",
    "    with tf.Session(graph=g) as sess:\n",
    "        sess.run(tf.global_variables_initializer())\n",
    "        np_x = sess.run(tf_x)\n",
    "        np_y = sess.run(tf_y)\n",
    "\n",
    "    # set up the fetch array\n",
    "    fetch_x = NDArrayDouble(shape)\n",
    "    fetch_x.FromNumpy(np_x)\n",
    "    fetch_y = NDArrayDouble(shape)\n",
    "    fetch_y.FromNumpy(np_y)\n",
    "\n",
    "    # set up a test fetch array\n",
    "    fetch_z = NDArrayDouble(shape)\n",
    "    \n",
    "    return np_x, np_y, fetch_x, fetch_y, fetch_z"
   ]
  },
  {
   "cell_type": "markdown",
   "metadata": {},
   "source": [
    "### tf.log"
   ]
  },
  {
   "cell_type": "code",
   "execution_count": 6,
   "metadata": {},
   "outputs": [
    {
     "name": "stdout",
     "output_type": "stream",
     "text": [
      "test passed!\n"
     ]
    }
   ],
   "source": [
    "np_x, np_y, fetch_x, fetch_y, fetch_z = reset_arrays()\n",
    "with tf.Session(graph=g) as sess:\n",
    "    np_z = sess.run(tf.log(np_x))\n",
    "fetch_x.log()\n",
    "test_fn(np_z, fetch_x)"
   ]
  },
  {
   "cell_type": "markdown",
   "metadata": {},
   "source": [
    "### tf.exp"
   ]
  },
  {
   "cell_type": "code",
   "execution_count": 7,
   "metadata": {},
   "outputs": [
    {
     "name": "stdout",
     "output_type": "stream",
     "text": [
      "test passed!\n"
     ]
    }
   ],
   "source": [
    "np_x, np_y, fetch_x, fetch_y, fetch_z = reset_arrays()\n",
    "with tf.Session(graph=g) as sess:\n",
    "    np_z = sess.run(tf.exp(np_x))\n",
    "fetch_x.exp()\n",
    "test_fn(np_z, fetch_x)"
   ]
  },
  {
   "cell_type": "markdown",
   "metadata": {},
   "source": [
    "### tf.sqrt"
   ]
  },
  {
   "cell_type": "code",
   "execution_count": 8,
   "metadata": {},
   "outputs": [
    {
     "name": "stdout",
     "output_type": "stream",
     "text": [
      "test passed!\n"
     ]
    }
   ],
   "source": [
    "np_x, np_y, fetch_x, fetch_y, fetch_z = reset_arrays()\n",
    "with tf.Session(graph=g) as sess:\n",
    "    np_z = sess.run(tf.sqrt(np_x))\n",
    "fetch_x.sqrt()\n",
    "test_fn(np_z, fetch_x)"
   ]
  },
  {
   "cell_type": "markdown",
   "metadata": {},
   "source": [
    "### tf.div"
   ]
  },
  {
   "cell_type": "code",
   "execution_count": 9,
   "metadata": {},
   "outputs": [
    {
     "name": "stdout",
     "output_type": "stream",
     "text": [
      "test passed!\n"
     ]
    }
   ],
   "source": [
    "np_x, np_y, fetch_x, fetch_y, fetch_z = reset_arrays()\n",
    "with tf.Session(graph=g) as sess:\n",
    "    np_z = sess.run(tf.div(np_x, np_y))\n",
    "fetch_z = fetch_x / fetch_y\n",
    "test_fn(np_z, fetch_z)"
   ]
  },
  {
   "cell_type": "markdown",
   "metadata": {},
   "source": [
    "### tf.multiply"
   ]
  },
  {
   "cell_type": "code",
   "execution_count": 10,
   "metadata": {},
   "outputs": [
    {
     "name": "stdout",
     "output_type": "stream",
     "text": [
      "test passed!\n"
     ]
    }
   ],
   "source": [
    "np_x, np_y, fetch_x, fetch_y, fetch_z = reset_arrays()\n",
    "with tf.Session(graph=g) as sess:\n",
    "    np_z = sess.run(tf.multiply(np_x, np_y))\n",
    "fetch_z = fetch_x * fetch_y\n",
    "test_fn(np_z, fetch_z)"
   ]
  },
  {
   "cell_type": "markdown",
   "metadata": {},
   "source": [
    "### tf.nn.l2loss"
   ]
  },
  {
   "cell_type": "code",
   "execution_count": 11,
   "metadata": {},
   "outputs": [
    {
     "name": "stdout",
     "output_type": "stream",
     "text": [
      "test passed!\n"
     ]
    }
   ],
   "source": [
    "np_x, np_y, fetch_x, fetch_y, fetch_z = reset_arrays()\n",
    "with tf.Session(graph=g) as sess:\n",
    "    np_z = sess.run(tf.nn.l2_loss(np_x))\n",
    "fetch_z = fetch_x.l2loss()  \n",
    "simple_test_fn(np_z, fetch_z)"
   ]
  },
  {
   "cell_type": "markdown",
   "metadata": {},
   "source": [
    "### tf.abs"
   ]
  },
  {
   "cell_type": "code",
   "execution_count": 12,
   "metadata": {},
   "outputs": [
    {
     "name": "stdout",
     "output_type": "stream",
     "text": [
      "test passed!\n"
     ]
    }
   ],
   "source": [
    "np_x, np_y, fetch_x, fetch_y, fetch_z = reset_arrays(offset=-0.5) # ensure some values are negative\n",
    "with tf.Session(graph=g) as sess:\n",
    "    np_z = sess.run(tf.abs(np_x))\n",
    "fetch_x.abs()\n",
    "test_fn(np_z, fetch_x)"
   ]
  },
  {
   "cell_type": "markdown",
   "metadata": {},
   "source": [
    "### tf.nn.relu"
   ]
  },
  {
   "cell_type": "code",
   "execution_count": 13,
   "metadata": {},
   "outputs": [
    {
     "name": "stdout",
     "output_type": "stream",
     "text": [
      "test passed!\n"
     ]
    }
   ],
   "source": [
    "np_x, np_y, fetch_x, fetch_y, fetch_z = reset_arrays(offset=-0.5) # ensure some values are negative\n",
    "with tf.Session(graph=g) as sess:\n",
    "    np_z = sess.run(tf.nn.relu(np_x))\n",
    "fetch_x.relu()\n",
    "test_fn(np_z, fetch_x)"
   ]
  },
  {
   "cell_type": "markdown",
   "metadata": {},
   "source": [
    "### tf.sign"
   ]
  },
  {
   "cell_type": "code",
   "execution_count": 14,
   "metadata": {},
   "outputs": [
    {
     "name": "stdout",
     "output_type": "stream",
     "text": [
      "test passed!\n"
     ]
    }
   ],
   "source": [
    "np_x, np_y, fetch_x, fetch_y, fetch_z = reset_arrays(offset=-0.5) # ensure some values are negative\n",
    "with tf.Session(graph=g) as sess:\n",
    "    np_z = sess.run(tf.sign(np_x))\n",
    "fetch_x.sign()\n",
    "test_fn(np_z, fetch_x)"
   ]
  },
  {
   "cell_type": "markdown",
   "metadata": {},
   "source": [
    "### tf.maximum"
   ]
  },
  {
   "cell_type": "code",
   "execution_count": 15,
   "metadata": {},
   "outputs": [
    {
     "name": "stdout",
     "output_type": "stream",
     "text": [
      "test passed!\n"
     ]
    }
   ],
   "source": [
    "np_x, np_y, fetch_x, fetch_y, fetch_z = reset_arrays(offset=-0.5) # ensure some values are negative\n",
    "with tf.Session(graph=g) as sess:\n",
    "    np_z = sess.run(tf.maximum(np_x, np_y))\n",
    "\n",
    "fetch_z.maximum(fetch_x, fetch_y)\n",
    "\n",
    "test_fn(np_z, fetch_z)"
   ]
  },
  {
   "cell_type": "markdown",
   "metadata": {},
   "source": [
    "### tf.reduce_mean"
   ]
  },
  {
   "cell_type": "code",
   "execution_count": 16,
   "metadata": {},
   "outputs": [
    {
     "name": "stdout",
     "output_type": "stream",
     "text": [
      "test passed!\n"
     ]
    }
   ],
   "source": [
    "np_x, np_y, fetch_x, fetch_y, fetch_z = reset_arrays(offset=-0.5) # ensure some values are negative\n",
    "with tf.Session(graph=g) as sess:\n",
    "    np_z = sess.run(tf.reduce_mean(np_x, 1))\n",
    "fetch_z.reduce_mean(fetch_x, 1)\n",
    "test_fn(np_z, fetch_z)"
   ]
  },
  {
   "cell_type": "markdown",
   "metadata": {},
   "source": [
    "### tf.reduce_sum"
   ]
  },
  {
   "cell_type": "code",
   "execution_count": 17,
   "metadata": {},
   "outputs": [
    {
     "name": "stdout",
     "output_type": "stream",
     "text": [
      "test passed!\n"
     ]
    }
   ],
   "source": [
    "np_x, np_y, fetch_x, fetch_y, fetch_z = reset_arrays(offset=-0.5) # ensure some values are negative\n",
    "with tf.Session(graph=g) as sess:\n",
    "    np_z = sess.run(tf.reduce_sum(np_x, 1))\n",
    "fetch_z.reduce_sum(fetch_x, 1)\n",
    "test_fn(np_z, fetch_z)"
   ]
  },
  {
   "cell_type": "markdown",
   "metadata": {},
   "source": [
    "### tf.boolean_mask"
   ]
  },
  {
   "cell_type": "code",
   "execution_count": 18,
   "metadata": {},
   "outputs": [
    {
     "name": "stdout",
     "output_type": "stream",
     "text": [
      "test passed!\n"
     ]
    }
   ],
   "source": [
    "# 1d test\n",
    "np_x, np_y, fetch_x, fetch_y, fetch_z = reset_arrays(offset=-0.5, shape=[10]) # ensure some values are negative\n",
    "mask = np.random.randint(0, 2, (10))\n",
    "with tf.Session(graph=g) as sess:\n",
    "    np_z = sess.run(tf.boolean_mask(np_x, mask))\n",
    "fetch_mask = NDArrayDouble([10])\n",
    "fetch_mask.FromNumpy(mask)\n",
    "\n",
    "# # because tensorflow uses row major by default we have to flip the array\n",
    "# fetch_x.major_order_flip()\n",
    "# fetch_mask.major_order_flip()\n",
    "\n",
    "fetch_z = fetch_x.boolean_mask(fetch_mask)\n",
    "\n",
    "test_fn(np_z, fetch_z)"
   ]
  },
  {
   "cell_type": "code",
   "execution_count": 19,
   "metadata": {},
   "outputs": [
    {
     "name": "stdout",
     "output_type": "stream",
     "text": [
      "test passed!\n"
     ]
    }
   ],
   "source": [
    "# 2d test\n",
    "np_x, np_y, fetch_x, fetch_y, fetch_z = reset_arrays(offset=-0.5, shape=[2, 10]) # ensure some values are negative\n",
    "mask = np.random.randint(0, 2, (2, 10))\n",
    "with tf.Session(graph=g) as sess:\n",
    "    np_z = sess.run(tf.boolean_mask(np_x, mask))\n",
    "fetch_mask = NDArrayDouble([10, 2])\n",
    "fetch_mask.FromNumpy(mask)\n",
    "\n",
    "# # because tensorflow uses row major by default we have to flip the array\n",
    "# fetch_x.major_order_flip()\n",
    "# fetch_mask.major_order_flip()\n",
    "\n",
    "fetch_z = fetch_x.boolean_mask(fetch_mask)\n",
    "\n",
    "\n",
    "test_fn(np_z, fetch_z)"
   ]
  },
  {
   "cell_type": "markdown",
   "metadata": {},
   "source": [
    "### tf.dynamic_stitch"
   ]
  },
  {
   "cell_type": "code",
   "execution_count": 20,
   "metadata": {},
   "outputs": [
    {
     "name": "stdout",
     "output_type": "stream",
     "text": [
      "test passed!\n"
     ]
    }
   ],
   "source": [
    "# 1D example\n",
    "shape = [8]\n",
    "np_x, np_y, fetch_x, fetch_y, fetch_z = reset_arrays(offset=-0.5, shape=[4]) # ensure some values are negative\n",
    "with tf.Session(graph=g) as sess:\n",
    "    np_z = sess.run(tf.dynamic_stitch([[0, 2, 4, 5], [1, 3, 7, 6]], [np_x, np_y]))\n",
    "\n",
    "fetch_z = NDArrayDouble(shape)\n",
    "fetch_z.dynamic_stitch([[0, 2, 4, 5], [1, 3, 7, 6]], [fetch_x, fetch_y])\n",
    "\n",
    "test_fn(np_z, fetch_z)"
   ]
  },
  {
   "cell_type": "markdown",
   "metadata": {},
   "source": [
    "### tf.scatter_update"
   ]
  },
  {
   "cell_type": "code",
   "execution_count": 21,
   "metadata": {},
   "outputs": [
    {
     "name": "stdout",
     "output_type": "stream",
     "text": [
      "test passed!\n"
     ]
    }
   ],
   "source": [
    "# 1-dim example\n",
    "np_x, np_y, fetch_x, fetch_y, fetch_z = reset_arrays(offset=-0.5, shape=[10]) # ensure some values are negative\n",
    "# updates = [[1, 0, 0, 0],[1, 0, 0, 0]]\n",
    "# indices = [0, 1]\n",
    "updates = [1, 5, 3]\n",
    "indices = [7, 0, 2]\n",
    "\n",
    "with tf.Session(graph=g) as sess:\n",
    "    tf_x = tf.Variable(initial_value=[0, 0, 0, 0, 0, 0, 0, 0, 0, 0])\n",
    "    tf_y = tf.scatter_update(tf_x, indices, updates)\n",
    "    sess.run(tf.global_variables_initializer())\n",
    "\n",
    "    np_x = sess.run(tf_x)\n",
    "    tf_z = sess.run(tf_y)\n",
    "fetch_x.FromNumpy(np_x)\n",
    "fetch_x.scatter(updates, indices)\n",
    "test_fn(tf_z, fetch_x)"
   ]
  },
  {
   "cell_type": "code",
   "execution_count": null,
   "metadata": {},
   "outputs": [],
   "source": [
    "# 2-dim example\n",
    "np_x, np_y, fetch_x, fetch_y, fetch_z = reset_arrays(offset=-0.5, shape=[2, 4]) # ensure some values are negative\n",
    "updates = [[1, 0, 0, 0],[1, 0, 0, 0]]\n",
    "indices = [0, 1]\n",
    "# updates = [[0, 1, 2], [1, 2, 3], [3, 4, 5]]\n",
    "# indices = [0, 1, 2]\n",
    "\n",
    "with tf.Session(graph=g) as sess:\n",
    "    tf_x = tf.Variable(initial_value=[[0, 0, 0, 0], [0, 0, 0, 0]])\n",
    "    tf_y = tf.scatter_update(tf_x, indices, updates)\n",
    "\n",
    "    sess.run(tf.global_variables_initializer())\n",
    "    np_x = sess.run(tf_x)\n",
    "    tf_z = sess.run(tf_y)\n",
    "\n",
    "    \n",
    "print(tf_z)\n",
    "\n",
    "fetch_x.FromNumpy(np_x)\n",
    "# fetch_x.scatter(updates, indices)\n",
    "fetch_x.scatter([1, 0, 0, 0, 1, 0, 0, 0], [0, 1])\n",
    "\n",
    "print(fetch_x.ToNumpy())\n",
    "\n",
    "\n",
    "\n",
    "\n",
    "\n",
    "# test_fn(tf_z, fetch_x)"
   ]
  },
  {
   "cell_type": "markdown",
   "metadata": {},
   "source": [
    "### tf.gather"
   ]
  },
  {
   "cell_type": "code",
   "execution_count": null,
   "metadata": {},
   "outputs": [],
   "source": []
  },
  {
   "cell_type": "markdown",
   "metadata": {},
   "source": [
    "### tf.concat"
   ]
  },
  {
   "cell_type": "code",
   "execution_count": null,
   "metadata": {},
   "outputs": [],
   "source": []
  },
  {
   "cell_type": "markdown",
   "metadata": {},
   "source": [
    "### tf.transpose"
   ]
  },
  {
   "cell_type": "code",
   "execution_count": null,
   "metadata": {},
   "outputs": [],
   "source": []
  },
  {
   "cell_type": "markdown",
   "metadata": {},
   "source": [
    "### tf.expand_dims"
   ]
  },
  {
   "cell_type": "code",
   "execution_count": null,
   "metadata": {},
   "outputs": [],
   "source": []
  },
  {
   "cell_type": "markdown",
   "metadata": {},
   "source": [
    "### tf.where"
   ]
  },
  {
   "cell_type": "code",
   "execution_count": null,
   "metadata": {},
   "outputs": [],
   "source": []
  },
  {
   "cell_type": "markdown",
   "metadata": {},
   "source": [
    "### tf.assign"
   ]
  },
  {
   "cell_type": "code",
   "execution_count": 21,
   "metadata": {},
   "outputs": [
    {
     "name": "stdout",
     "output_type": "stream",
     "text": [
      "test passed!\n"
     ]
    }
   ],
   "source": [
    "np_x, np_y, fetch_x, fetch_y, fetch_z = reset_arrays(offset=-0.5) # ensure some values are negative\n",
    "with tf.Session(graph=g) as sess:\n",
    "    temp = tf.Variable(np_x)\n",
    "    np_z = sess.run(temp.assign(np_y))\n",
    "fetch_z = fetch_y\n",
    "test_fn(np_z, fetch_z)"
   ]
  },
  {
   "cell_type": "markdown",
   "metadata": {},
   "source": [
    "### tf.shape"
   ]
  },
  {
   "cell_type": "code",
   "execution_count": 22,
   "metadata": {},
   "outputs": [
    {
     "name": "stdout",
     "output_type": "stream",
     "text": [
      "[2 3 2]\n",
      "[2, 3, 2]\n"
     ]
    }
   ],
   "source": [
    "np_x, np_y, fetch_x, fetch_y, fetch_z = reset_arrays(offset=-0.5) # ensure some values are negative\n",
    "with tf.Session(graph=g) as sess:\n",
    "    np_z = sess.run(tf.shape(np_x))\n",
    "fetch_z = fetch_x.shape()\n",
    "\n",
    "print(np_z)\n",
    "print(fetch_z)\n",
    "# test_fn(np_z, fetch_z)"
   ]
  },
  {
   "cell_type": "markdown",
   "metadata": {},
   "source": [
    "### tf.reshape"
   ]
  },
  {
   "cell_type": "code",
   "execution_count": 59,
   "metadata": {},
   "outputs": [
    {
     "name": "stdout",
     "output_type": "stream",
     "text": [
      "[[ 0.29458459  0.09859693  0.12309551 -0.31007651]\n",
      " [ 0.14908363 -0.1881486  -0.00182104  0.12289576]\n",
      " [-0.31379884 -0.37216433 -0.3720584   0.37793926]]\n",
      "[[ 0.29458459 -0.31379884  0.09859693 -0.37216433]\n",
      " [-0.00182104  0.14908363  0.12289576 -0.1881486 ]\n",
      " [ 0.12309551 -0.3720584  -0.31007651  0.37793926]]\n",
      "FAILURE\n"
     ]
    }
   ],
   "source": [
    "np_x, np_y, fetch_x, fetch_y, fetch_z = reset_arrays(offset=-0.5) # ensure some values are negative\n",
    "with tf.Session(graph=g) as sess:\n",
    "    temp = tf.Variable(np_x)\n",
    "    np_z = sess.run(tf.reshape(np_x, [3, 4]))\n",
    "fetch_z = fetch_x\n",
    "fetch_z.reshape([3, 4])\n",
    "print(np_z)\n",
    "print(fetch_z.ToNumpy())\n",
    "test_fn(np_z, fetch_z)"
   ]
  },
  {
   "cell_type": "markdown",
   "metadata": {},
   "source": [
    "### tf.cond"
   ]
  },
  {
   "cell_type": "code",
   "execution_count": null,
   "metadata": {},
   "outputs": [],
   "source": []
  },
  {
   "cell_type": "markdown",
   "metadata": {},
   "source": [
    "### tf.map_fn"
   ]
  },
  {
   "cell_type": "code",
   "execution_count": null,
   "metadata": {},
   "outputs": [],
   "source": []
  },
  {
   "cell_type": "markdown",
   "metadata": {},
   "source": [
    "### tf.equal"
   ]
  },
  {
   "cell_type": "code",
   "execution_count": 64,
   "metadata": {},
   "outputs": [
    {
     "ename": "AttributeError",
     "evalue": "'bool' object has no attribute 'ToNumpy'",
     "output_type": "error",
     "traceback": [
      "\u001b[0;31m---------------------------------------------------------------------------\u001b[0m",
      "\u001b[0;31mAttributeError\u001b[0m                            Traceback (most recent call last)",
      "\u001b[0;32m<ipython-input-64-810e94780807>\u001b[0m in \u001b[0;36m<module>\u001b[0;34m()\u001b[0m\n\u001b[1;32m      3\u001b[0m     \u001b[0mnp_z\u001b[0m \u001b[0;34m=\u001b[0m \u001b[0msess\u001b[0m\u001b[0;34m.\u001b[0m\u001b[0mrun\u001b[0m\u001b[0;34m(\u001b[0m\u001b[0mtf\u001b[0m\u001b[0;34m.\u001b[0m\u001b[0mequal\u001b[0m\u001b[0;34m(\u001b[0m\u001b[0mnp_x\u001b[0m\u001b[0;34m,\u001b[0m \u001b[0mnp_y\u001b[0m\u001b[0;34m)\u001b[0m\u001b[0;34m)\u001b[0m\u001b[0;34m\u001b[0m\u001b[0m\n\u001b[1;32m      4\u001b[0m \u001b[0mfetch_z\u001b[0m \u001b[0;34m=\u001b[0m \u001b[0;34m(\u001b[0m\u001b[0mfetch_x\u001b[0m \u001b[0;34m==\u001b[0m \u001b[0mfetch_y\u001b[0m\u001b[0;34m)\u001b[0m\u001b[0;34m\u001b[0m\u001b[0m\n\u001b[0;32m----> 5\u001b[0;31m \u001b[0mtest_fn\u001b[0m\u001b[0;34m(\u001b[0m\u001b[0mnp_z\u001b[0m\u001b[0;34m,\u001b[0m \u001b[0mfetch_z\u001b[0m\u001b[0;34m)\u001b[0m\u001b[0;34m\u001b[0m\u001b[0m\n\u001b[0m",
      "\u001b[0;32m<ipython-input-38-94cee99700f6>\u001b[0m in \u001b[0;36mtest_fn\u001b[0;34m(np_arr, fetch_arr)\u001b[0m\n\u001b[1;32m      1\u001b[0m \u001b[0;32mdef\u001b[0m \u001b[0mtest_fn\u001b[0m\u001b[0;34m(\u001b[0m\u001b[0mnp_arr\u001b[0m\u001b[0;34m,\u001b[0m \u001b[0mfetch_arr\u001b[0m\u001b[0;34m)\u001b[0m\u001b[0;34m:\u001b[0m\u001b[0;34m\u001b[0m\u001b[0m\n\u001b[1;32m      2\u001b[0m \u001b[0;34m\u001b[0m\u001b[0m\n\u001b[0;32m----> 3\u001b[0;31m     \u001b[0;32mif\u001b[0m \u001b[0mnp\u001b[0m\u001b[0;34m.\u001b[0m\u001b[0mallclose\u001b[0m\u001b[0;34m(\u001b[0m\u001b[0mnp_arr\u001b[0m\u001b[0;34m,\u001b[0m \u001b[0mfetch_arr\u001b[0m\u001b[0;34m.\u001b[0m\u001b[0mToNumpy\u001b[0m\u001b[0;34m(\u001b[0m\u001b[0;34m)\u001b[0m\u001b[0;34m)\u001b[0m\u001b[0;34m:\u001b[0m\u001b[0;34m\u001b[0m\u001b[0m\n\u001b[0m\u001b[1;32m      4\u001b[0m         \u001b[0mprint\u001b[0m\u001b[0;34m(\u001b[0m\u001b[0;34m\"test passed!\"\u001b[0m\u001b[0;34m)\u001b[0m\u001b[0;34m\u001b[0m\u001b[0m\n\u001b[1;32m      5\u001b[0m     \u001b[0;32melse\u001b[0m\u001b[0;34m:\u001b[0m\u001b[0;34m\u001b[0m\u001b[0m\n",
      "\u001b[0;31mAttributeError\u001b[0m: 'bool' object has no attribute 'ToNumpy'"
     ]
    }
   ],
   "source": [
    "np_x, np_y, fetch_x, fetch_y, fetch_z = reset_arrays(offset=-0.5) # ensure some values are negative\n",
    "with tf.Session(graph=g) as sess:\n",
    "    np_z = sess.run(tf.equal(np_x, np_y))\n",
    "fetch_z = (fetch_x == fetch_y)\n",
    "test_fn(np_z, fetch_z)"
   ]
  },
  {
   "cell_type": "markdown",
   "metadata": {},
   "source": [
    "### tf.reduce_any"
   ]
  },
  {
   "cell_type": "code",
   "execution_count": 61,
   "metadata": {},
   "outputs": [
    {
     "name": "stdout",
     "output_type": "stream",
     "text": [
      "test passed!\n"
     ]
    }
   ],
   "source": [
    "np_x, np_y, fetch_x, fetch_y, fetch_z = reset_arrays(offset=-0.5) # ensure some values are negative\n",
    "with tf.Session(graph=g) as sess:\n",
    "    np_z = sess.run(tf.reduce_any(np_x, 1))\n",
    "fetch_z.reduce_any(fetch_x, 1)\n",
    "test_fn(np_z, fetch_z)"
   ]
  },
  {
   "cell_type": "code",
   "execution_count": null,
   "metadata": {},
   "outputs": [],
   "source": []
  },
  {
   "cell_type": "code",
   "execution_count": null,
   "metadata": {},
   "outputs": [],
   "source": []
  },
  {
   "cell_type": "code",
   "execution_count": null,
   "metadata": {},
   "outputs": [],
   "source": []
  }
 ],
 "metadata": {
  "kernelspec": {
   "display_name": "Python 3",
   "language": "python",
   "name": "python3"
  },
  "language_info": {
   "codemirror_mode": {
    "name": "ipython",
    "version": 3
   },
   "file_extension": ".py",
   "mimetype": "text/x-python",
   "name": "python",
   "nbconvert_exporter": "python",
   "pygments_lexer": "ipython3",
   "version": "3.6.5"
  }
 },
 "nbformat": 4,
 "nbformat_minor": 2
}
