{
 "cells": [
  {
   "cell_type": "code",
   "execution_count": 1,
   "metadata": {},
   "outputs": [],
   "source": [
    "import numpy as np\n",
    "import fetch.math as fm\n",
    "from fetch.math import NDArrayDouble\n",
    "import tensorflow as tf"
   ]
  },
  {
   "cell_type": "code",
   "execution_count": 2,
   "metadata": {},
   "outputs": [],
   "source": [
    "TOLERANCE = 1e-12\n",
    "def simple_test_fn(a, b):\n",
    "    if (abs(a - b) < TOLERANCE):\n",
    "        print(\"test passed!\")\n",
    "    else:\n",
    "        print(\"FAILURE\")\n",
    "    return"
   ]
  },
  {
   "cell_type": "code",
   "execution_count": 3,
   "metadata": {},
   "outputs": [],
   "source": [
    "def test_fn(np_arr, fetch_arr):\n",
    "    \n",
    "    if np.allclose(np_arr, fetch_arr.ToNumpy()):\n",
    "        print(\"test passed!\")\n",
    "    else:\n",
    "        print(\"FAILURE\")\n",
    "\n",
    "    return"
   ]
  },
  {
   "cell_type": "markdown",
   "metadata": {},
   "source": [
    "### Setup"
   ]
  },
  {
   "cell_type": "code",
   "execution_count": 4,
   "metadata": {},
   "outputs": [],
   "source": [
    "g = tf.Graph()"
   ]
  },
  {
   "cell_type": "code",
   "execution_count": 5,
   "metadata": {},
   "outputs": [],
   "source": [
    "def reset_arrays(offset=0, shape=[2, 3, 2]):\n",
    "    # initialise some random arrays\n",
    "#     shape = [1,2,3,4,5,6]\n",
    "#     shape = [2,4]\n",
    "#     shape = [2,3,2]\n",
    "\n",
    "    # set up the tensorflow / numpy array\n",
    "    with g.as_default():\n",
    "        tf_x = tf.to_double(tf.random_uniform(shape, 0.1, 1, dtype=tf.float64)) + offset\n",
    "        tf_y = tf.to_double(tf.random_uniform(shape, 0.1, 1, dtype=tf.float64)) + offset\n",
    "    with tf.Session(graph=g) as sess:\n",
    "        sess.run(tf.global_variables_initializer())\n",
    "        np_x = sess.run(tf_x)\n",
    "        np_y = sess.run(tf_y)\n",
    "\n",
    "    # set up the fetch array\n",
    "    fetch_x = NDArrayDouble(shape)\n",
    "    fetch_x.FromNumpy(np_x)\n",
    "    fetch_y = NDArrayDouble(shape)\n",
    "    fetch_y.FromNumpy(np_y)\n",
    "\n",
    "    # set up a test fetch array\n",
    "    fetch_z = NDArrayDouble(shape)\n",
    "    \n",
    "    return np_x, np_y, fetch_x, fetch_y, fetch_z"
   ]
  },
  {
   "cell_type": "markdown",
   "metadata": {},
   "source": [
    "### tf.log"
   ]
  },
  {
   "cell_type": "code",
   "execution_count": 8,
   "metadata": {},
   "outputs": [
    {
     "name": "stdout",
     "output_type": "stream",
     "text": [
      "test passed!\n"
     ]
    }
   ],
   "source": [
    "np_x, np_y, fetch_x, fetch_y, fetch_z = reset_arrays()\n",
    "with tf.Session(graph=g) as sess:\n",
    "    np_z = sess.run(tf.log(np_x))\n",
    "fetch_x.log()\n",
    "test_fn(np_z, fetch_x)"
   ]
  },
  {
   "cell_type": "markdown",
   "metadata": {},
   "source": [
    "### tf.exp"
   ]
  },
  {
   "cell_type": "code",
   "execution_count": 9,
   "metadata": {},
   "outputs": [
    {
     "name": "stdout",
     "output_type": "stream",
     "text": [
      "test passed!\n"
     ]
    }
   ],
   "source": [
    "np_x, np_y, fetch_x, fetch_y, fetch_z = reset_arrays()\n",
    "with tf.Session(graph=g) as sess:\n",
    "    np_z = sess.run(tf.exp(np_x))\n",
    "fetch_x.exp()\n",
    "test_fn(np_z, fetch_x)"
   ]
  },
  {
   "cell_type": "markdown",
   "metadata": {},
   "source": [
    "### tf.sqrt"
   ]
  },
  {
   "cell_type": "code",
   "execution_count": 10,
   "metadata": {},
   "outputs": [
    {
     "name": "stdout",
     "output_type": "stream",
     "text": [
      "test passed!\n"
     ]
    }
   ],
   "source": [
    "np_x, np_y, fetch_x, fetch_y, fetch_z = reset_arrays()\n",
    "with tf.Session(graph=g) as sess:\n",
    "    np_z = sess.run(tf.sqrt(np_x))\n",
    "fetch_x.sqrt()\n",
    "test_fn(np_z, fetch_x)"
   ]
  },
  {
   "cell_type": "markdown",
   "metadata": {},
   "source": [
    "### tf.div"
   ]
  },
  {
   "cell_type": "code",
   "execution_count": 11,
   "metadata": {},
   "outputs": [
    {
     "name": "stdout",
     "output_type": "stream",
     "text": [
      "test passed!\n"
     ]
    }
   ],
   "source": [
    "np_x, np_y, fetch_x, fetch_y, fetch_z = reset_arrays()\n",
    "with tf.Session(graph=g) as sess:\n",
    "    np_z = sess.run(tf.div(np_x, np_y))\n",
    "fetch_z = fetch_x / fetch_y\n",
    "test_fn(np_z, fetch_z)"
   ]
  },
  {
   "cell_type": "markdown",
   "metadata": {},
   "source": [
    "### tf.multiply"
   ]
  },
  {
   "cell_type": "code",
   "execution_count": 12,
   "metadata": {},
   "outputs": [
    {
     "name": "stdout",
     "output_type": "stream",
     "text": [
      "test passed!\n"
     ]
    }
   ],
   "source": [
    "np_x, np_y, fetch_x, fetch_y, fetch_z = reset_arrays()\n",
    "with tf.Session(graph=g) as sess:\n",
    "    np_z = sess.run(tf.multiply(np_x, np_y))\n",
    "fetch_z = fetch_x * fetch_y\n",
    "test_fn(np_z, fetch_z)"
   ]
  },
  {
   "cell_type": "markdown",
   "metadata": {},
   "source": [
    "### tf.nn.l2loss"
   ]
  },
  {
   "cell_type": "code",
   "execution_count": 13,
   "metadata": {},
   "outputs": [
    {
     "name": "stdout",
     "output_type": "stream",
     "text": [
      "test passed!\n"
     ]
    }
   ],
   "source": [
    "np_x, np_y, fetch_x, fetch_y, fetch_z = reset_arrays()\n",
    "with tf.Session(graph=g) as sess:\n",
    "    np_z = sess.run(tf.nn.l2_loss(np_x))\n",
    "fetch_z = fetch_x.l2loss()  \n",
    "simple_test_fn(np_z, fetch_z)"
   ]
  },
  {
   "cell_type": "markdown",
   "metadata": {},
   "source": [
    "### tf.abs"
   ]
  },
  {
   "cell_type": "code",
   "execution_count": 15,
   "metadata": {},
   "outputs": [
    {
     "name": "stdout",
     "output_type": "stream",
     "text": [
      "test passed!\n"
     ]
    }
   ],
   "source": [
    "np_x, np_y, fetch_x, fetch_y, fetch_z = reset_arrays(offset=-0.5) # ensure some values are negative\n",
    "with tf.Session(graph=g) as sess:\n",
    "    np_z = sess.run(tf.abs(np_x))\n",
    "fetch_x.abs()\n",
    "test_fn(np_z, fetch_x)"
   ]
  },
  {
   "cell_type": "markdown",
   "metadata": {},
   "source": [
    "### tf.nn.relu"
   ]
  },
  {
   "cell_type": "code",
   "execution_count": 17,
   "metadata": {},
   "outputs": [
    {
     "ename": "TypeError",
     "evalue": "relu(): incompatible function arguments. The following argument types are supported:\n    1. (self: fetch.math.NDArrayDouble, arg0: fetch.math.NDArrayDouble) -> fetch.math.NDArrayDouble\n\nInvoked with: <fetch.math.NDArrayDouble object at 0x7f35fc564458>",
     "output_type": "error",
     "traceback": [
      "\u001b[0;31m---------------------------------------------------------------------------\u001b[0m",
      "\u001b[0;31mTypeError\u001b[0m                                 Traceback (most recent call last)",
      "\u001b[0;32m<ipython-input-17-fb237364f5b8>\u001b[0m in \u001b[0;36m<module>\u001b[0;34m()\u001b[0m\n\u001b[1;32m      2\u001b[0m \u001b[0;32mwith\u001b[0m \u001b[0mtf\u001b[0m\u001b[0;34m.\u001b[0m\u001b[0mSession\u001b[0m\u001b[0;34m(\u001b[0m\u001b[0mgraph\u001b[0m\u001b[0;34m=\u001b[0m\u001b[0mg\u001b[0m\u001b[0;34m)\u001b[0m \u001b[0;32mas\u001b[0m \u001b[0msess\u001b[0m\u001b[0;34m:\u001b[0m\u001b[0;34m\u001b[0m\u001b[0m\n\u001b[1;32m      3\u001b[0m     \u001b[0mnp_z\u001b[0m \u001b[0;34m=\u001b[0m \u001b[0msess\u001b[0m\u001b[0;34m.\u001b[0m\u001b[0mrun\u001b[0m\u001b[0;34m(\u001b[0m\u001b[0mtf\u001b[0m\u001b[0;34m.\u001b[0m\u001b[0mnn\u001b[0m\u001b[0;34m.\u001b[0m\u001b[0mrelu\u001b[0m\u001b[0;34m(\u001b[0m\u001b[0mnp_x\u001b[0m\u001b[0;34m)\u001b[0m\u001b[0;34m)\u001b[0m\u001b[0;34m\u001b[0m\u001b[0m\n\u001b[0;32m----> 4\u001b[0;31m \u001b[0mfetch_x\u001b[0m\u001b[0;34m.\u001b[0m\u001b[0mrelu\u001b[0m\u001b[0;34m(\u001b[0m\u001b[0;34m)\u001b[0m\u001b[0;34m\u001b[0m\u001b[0m\n\u001b[0m\u001b[1;32m      5\u001b[0m \u001b[0mtest_fn\u001b[0m\u001b[0;34m(\u001b[0m\u001b[0mnp_z\u001b[0m\u001b[0;34m,\u001b[0m \u001b[0mfetch_x\u001b[0m\u001b[0;34m)\u001b[0m\u001b[0;34m\u001b[0m\u001b[0m\n",
      "\u001b[0;31mTypeError\u001b[0m: relu(): incompatible function arguments. The following argument types are supported:\n    1. (self: fetch.math.NDArrayDouble, arg0: fetch.math.NDArrayDouble) -> fetch.math.NDArrayDouble\n\nInvoked with: <fetch.math.NDArrayDouble object at 0x7f35fc564458>"
     ]
    }
   ],
   "source": [
    "np_x, np_y, fetch_x, fetch_y, fetch_z = reset_arrays(offset=-0.5) # ensure some values are negative\n",
    "with tf.Session(graph=g) as sess:\n",
    "    np_z = sess.run(tf.nn.relu(np_x))\n",
    "fetch_x.relu()\n",
    "test_fn(np_z, fetch_x)"
   ]
  },
  {
   "cell_type": "markdown",
   "metadata": {},
   "source": [
    "### tf.sign"
   ]
  },
  {
   "cell_type": "code",
   "execution_count": 19,
   "metadata": {},
   "outputs": [
    {
     "ename": "TypeError",
     "evalue": "sign(): incompatible function arguments. The following argument types are supported:\n    1. (self: fetch.math.NDArrayDouble, arg0: fetch.math.NDArrayDouble) -> fetch.math.NDArrayDouble\n\nInvoked with: <fetch.math.NDArrayDouble object at 0x7f35fc539228>",
     "output_type": "error",
     "traceback": [
      "\u001b[0;31m---------------------------------------------------------------------------\u001b[0m",
      "\u001b[0;31mTypeError\u001b[0m                                 Traceback (most recent call last)",
      "\u001b[0;32m<ipython-input-19-5b1461393cfe>\u001b[0m in \u001b[0;36m<module>\u001b[0;34m()\u001b[0m\n\u001b[1;32m      2\u001b[0m \u001b[0;32mwith\u001b[0m \u001b[0mtf\u001b[0m\u001b[0;34m.\u001b[0m\u001b[0mSession\u001b[0m\u001b[0;34m(\u001b[0m\u001b[0mgraph\u001b[0m\u001b[0;34m=\u001b[0m\u001b[0mg\u001b[0m\u001b[0;34m)\u001b[0m \u001b[0;32mas\u001b[0m \u001b[0msess\u001b[0m\u001b[0;34m:\u001b[0m\u001b[0;34m\u001b[0m\u001b[0m\n\u001b[1;32m      3\u001b[0m     \u001b[0mnp_z\u001b[0m \u001b[0;34m=\u001b[0m \u001b[0msess\u001b[0m\u001b[0;34m.\u001b[0m\u001b[0mrun\u001b[0m\u001b[0;34m(\u001b[0m\u001b[0mtf\u001b[0m\u001b[0;34m.\u001b[0m\u001b[0msign\u001b[0m\u001b[0;34m(\u001b[0m\u001b[0mnp_x\u001b[0m\u001b[0;34m)\u001b[0m\u001b[0;34m)\u001b[0m\u001b[0;34m\u001b[0m\u001b[0m\n\u001b[0;32m----> 4\u001b[0;31m \u001b[0mfetch_x\u001b[0m\u001b[0;34m.\u001b[0m\u001b[0msign\u001b[0m\u001b[0;34m(\u001b[0m\u001b[0;34m)\u001b[0m\u001b[0;34m\u001b[0m\u001b[0m\n\u001b[0m\u001b[1;32m      5\u001b[0m \u001b[0mtest_fn\u001b[0m\u001b[0;34m(\u001b[0m\u001b[0mnp_z\u001b[0m\u001b[0;34m,\u001b[0m \u001b[0mfetch_x\u001b[0m\u001b[0;34m)\u001b[0m\u001b[0;34m\u001b[0m\u001b[0m\n",
      "\u001b[0;31mTypeError\u001b[0m: sign(): incompatible function arguments. The following argument types are supported:\n    1. (self: fetch.math.NDArrayDouble, arg0: fetch.math.NDArrayDouble) -> fetch.math.NDArrayDouble\n\nInvoked with: <fetch.math.NDArrayDouble object at 0x7f35fc539228>"
     ]
    }
   ],
   "source": [
    "np_x, np_y, fetch_x, fetch_y, fetch_z = reset_arrays(offset=-0.5) # ensure some values are negative\n",
    "with tf.Session(graph=g) as sess:\n",
    "    np_z = sess.run(tf.sign(np_x))\n",
    "fetch_x.sign()\n",
    "test_fn(np_z, fetch_x)"
   ]
  },
  {
   "cell_type": "markdown",
   "metadata": {},
   "source": [
    "### tf.maximum"
   ]
  },
  {
   "cell_type": "code",
   "execution_count": 20,
   "metadata": {},
   "outputs": [
    {
     "name": "stdout",
     "output_type": "stream",
     "text": [
      "test passed!\n"
     ]
    }
   ],
   "source": [
    "np_x, np_y, fetch_x, fetch_y, fetch_z = reset_arrays(offset=-0.5) # ensure some values are negative\n",
    "with tf.Session(graph=g) as sess:\n",
    "    np_z = sess.run(tf.maximum(np_x, np_y))\n",
    "fetch_z.maximum(fetch_x, fetch_y)\n",
    "test_fn(np_z, fetch_z)"
   ]
  },
  {
   "cell_type": "markdown",
   "metadata": {},
   "source": [
    "### tf.reduce_mean"
   ]
  },
  {
   "cell_type": "code",
   "execution_count": 21,
   "metadata": {},
   "outputs": [
    {
     "name": "stdout",
     "output_type": "stream",
     "text": [
      "test passed!\n"
     ]
    }
   ],
   "source": [
    "np_x, np_y, fetch_x, fetch_y, fetch_z = reset_arrays(offset=-0.5) # ensure some values are negative\n",
    "with tf.Session(graph=g) as sess:\n",
    "    np_z = sess.run(tf.reduce_mean(np_x, 1))\n",
    "fetch_z.reduce_mean(fetch_x, 1)\n",
    "test_fn(np_z, fetch_z)"
   ]
  },
  {
   "cell_type": "markdown",
   "metadata": {},
   "source": [
    "### tf.reduce_sum"
   ]
  },
  {
   "cell_type": "code",
   "execution_count": 22,
   "metadata": {},
   "outputs": [
    {
     "name": "stdout",
     "output_type": "stream",
     "text": [
      "test passed!\n"
     ]
    }
   ],
   "source": [
    "np_x, np_y, fetch_x, fetch_y, fetch_z = reset_arrays(offset=-0.5) # ensure some values are negative\n",
    "with tf.Session(graph=g) as sess:\n",
    "    np_z = sess.run(tf.reduce_sum(np_x, 1))\n",
    "fetch_z.reduce_sum(fetch_x, 1)\n",
    "test_fn(np_z, fetch_z)"
   ]
  },
  {
   "cell_type": "markdown",
   "metadata": {},
   "source": [
    "### tf.boolean_mask"
   ]
  },
  {
   "cell_type": "code",
   "execution_count": 28,
   "metadata": {},
   "outputs": [
    {
     "name": "stdout",
     "output_type": "stream",
     "text": [
      "[[[0 0]\n",
      "  [0 1]\n",
      "  [1 1]]\n",
      "\n",
      " [[1 0]\n",
      "  [1 0]\n",
      "  [1 1]]]\n",
      "[-0.22514564  0.29966827  0.07214663  0.27780402  0.46863275 -0.09075822\n",
      " -0.13046113]\n",
      "[[[0. 0.]\n",
      "  [0. 1.]\n",
      "  [1. 1.]]\n",
      "\n",
      " [[1. 0.]\n",
      "  [1. 0.]\n",
      "  [1. 1.]]]\n",
      "[ 0.27780402  0.46863275  0.29966827 -0.09075822 -0.22514564  0.07214663\n",
      " -0.13046113]\n",
      "FAILURE\n"
     ]
    }
   ],
   "source": [
    "np_x, np_y, fetch_x, fetch_y, fetch_z = reset_arrays(offset=-0.5) # ensure some values are negative\n",
    "mask = np.random.randint(0, 2, (2, 3, 2))\n",
    "with tf.Session(graph=g) as sess:\n",
    "    np_z = sess.run(tf.boolean_mask(np_x, mask))\n",
    "fetch_mask = NDArrayDouble([2,3,2])\n",
    "fetch_mask.FromNumpy(mask)\n",
    "fetch_x.boolean_mask(fetch_mask)\n",
    "\n",
    "print(mask)\n",
    "print(np_z)\n",
    "print(fetch_mask.ToNumpy())\n",
    "print(fetch_x.ToNumpy())\n",
    "\n",
    "test_fn(np_z, fetch_x)"
   ]
  },
  {
   "cell_type": "markdown",
   "metadata": {},
   "source": [
    "### tf.dynamic_stitch"
   ]
  },
  {
   "cell_type": "code",
   "execution_count": 33,
   "metadata": {},
   "outputs": [
    {
     "name": "stdout",
     "output_type": "stream",
     "text": [
      "np_z before:  [-0.27781191  0.18072421  0.0748644  -0.30901566  0.22433119 -0.31587852\n",
      "  0.00698779  0.14670064]\n",
      "np_x:  [-0.33165049  0.4319995   0.30676521 -0.03443443]\n",
      "np_y:  [0.07852081 0.33219311 0.06357405 0.27227396]\n",
      "np_z:  [-0.33165049  0.07852081  0.4319995   0.33219311  0.30676521 -0.03443443\n",
      "  0.27227396  0.06357405]\n",
      "fetch_z:  [-0.33165049  0.07852081  0.4319995   0.33219311]\n",
      "fetch_x:  [-0.33165049  0.4319995   0.30676521 -0.03443443]\n",
      "fetch_y:  [0.07852081 0.33219311 0.06357405 0.27227396]\n"
     ]
    },
    {
     "ename": "ValueError",
     "evalue": "operands could not be broadcast together with shapes (8,) (4,) ",
     "output_type": "error",
     "traceback": [
      "\u001b[0;31m---------------------------------------------------------------------------\u001b[0m",
      "\u001b[0;31mValueError\u001b[0m                                Traceback (most recent call last)",
      "\u001b[0;32m<ipython-input-33-74409e89e00d>\u001b[0m in \u001b[0;36m<module>\u001b[0;34m()\u001b[0m\n\u001b[1;32m     19\u001b[0m \u001b[0mprint\u001b[0m\u001b[0;34m(\u001b[0m\u001b[0;34m\"fetch_y: \"\u001b[0m\u001b[0;34m,\u001b[0m \u001b[0mfetch_y\u001b[0m\u001b[0;34m.\u001b[0m\u001b[0mToNumpy\u001b[0m\u001b[0;34m(\u001b[0m\u001b[0;34m)\u001b[0m\u001b[0;34m)\u001b[0m\u001b[0;34m\u001b[0m\u001b[0m\n\u001b[1;32m     20\u001b[0m \u001b[0;34m\u001b[0m\u001b[0m\n\u001b[0;32m---> 21\u001b[0;31m \u001b[0mtest_fn\u001b[0m\u001b[0;34m(\u001b[0m\u001b[0mnp_z\u001b[0m\u001b[0;34m,\u001b[0m \u001b[0mfetch_z\u001b[0m\u001b[0;34m)\u001b[0m\u001b[0;34m\u001b[0m\u001b[0m\n\u001b[0m",
      "\u001b[0;32m<ipython-input-3-94cee99700f6>\u001b[0m in \u001b[0;36mtest_fn\u001b[0;34m(np_arr, fetch_arr)\u001b[0m\n\u001b[1;32m      1\u001b[0m \u001b[0;32mdef\u001b[0m \u001b[0mtest_fn\u001b[0m\u001b[0;34m(\u001b[0m\u001b[0mnp_arr\u001b[0m\u001b[0;34m,\u001b[0m \u001b[0mfetch_arr\u001b[0m\u001b[0;34m)\u001b[0m\u001b[0;34m:\u001b[0m\u001b[0;34m\u001b[0m\u001b[0m\n\u001b[1;32m      2\u001b[0m \u001b[0;34m\u001b[0m\u001b[0m\n\u001b[0;32m----> 3\u001b[0;31m     \u001b[0;32mif\u001b[0m \u001b[0mnp\u001b[0m\u001b[0;34m.\u001b[0m\u001b[0mallclose\u001b[0m\u001b[0;34m(\u001b[0m\u001b[0mnp_arr\u001b[0m\u001b[0;34m,\u001b[0m \u001b[0mfetch_arr\u001b[0m\u001b[0;34m.\u001b[0m\u001b[0mToNumpy\u001b[0m\u001b[0;34m(\u001b[0m\u001b[0;34m)\u001b[0m\u001b[0;34m)\u001b[0m\u001b[0;34m:\u001b[0m\u001b[0;34m\u001b[0m\u001b[0m\n\u001b[0m\u001b[1;32m      4\u001b[0m         \u001b[0mprint\u001b[0m\u001b[0;34m(\u001b[0m\u001b[0;34m\"test passed!\"\u001b[0m\u001b[0;34m)\u001b[0m\u001b[0;34m\u001b[0m\u001b[0m\n\u001b[1;32m      5\u001b[0m     \u001b[0;32melse\u001b[0m\u001b[0;34m:\u001b[0m\u001b[0;34m\u001b[0m\u001b[0m\n",
      "\u001b[0;32m/usr/local/lib/python3.6/dist-packages/numpy/core/numeric.py\u001b[0m in \u001b[0;36mallclose\u001b[0;34m(a, b, rtol, atol, equal_nan)\u001b[0m\n\u001b[1;32m   2254\u001b[0m \u001b[0;34m\u001b[0m\u001b[0m\n\u001b[1;32m   2255\u001b[0m     \"\"\"\n\u001b[0;32m-> 2256\u001b[0;31m     \u001b[0mres\u001b[0m \u001b[0;34m=\u001b[0m \u001b[0mall\u001b[0m\u001b[0;34m(\u001b[0m\u001b[0misclose\u001b[0m\u001b[0;34m(\u001b[0m\u001b[0ma\u001b[0m\u001b[0;34m,\u001b[0m \u001b[0mb\u001b[0m\u001b[0;34m,\u001b[0m \u001b[0mrtol\u001b[0m\u001b[0;34m=\u001b[0m\u001b[0mrtol\u001b[0m\u001b[0;34m,\u001b[0m \u001b[0matol\u001b[0m\u001b[0;34m=\u001b[0m\u001b[0matol\u001b[0m\u001b[0;34m,\u001b[0m \u001b[0mequal_nan\u001b[0m\u001b[0;34m=\u001b[0m\u001b[0mequal_nan\u001b[0m\u001b[0;34m)\u001b[0m\u001b[0;34m)\u001b[0m\u001b[0;34m\u001b[0m\u001b[0m\n\u001b[0m\u001b[1;32m   2257\u001b[0m     \u001b[0;32mreturn\u001b[0m \u001b[0mbool\u001b[0m\u001b[0;34m(\u001b[0m\u001b[0mres\u001b[0m\u001b[0;34m)\u001b[0m\u001b[0;34m\u001b[0m\u001b[0m\n\u001b[1;32m   2258\u001b[0m \u001b[0;34m\u001b[0m\u001b[0m\n",
      "\u001b[0;32m/usr/local/lib/python3.6/dist-packages/numpy/core/numeric.py\u001b[0m in \u001b[0;36misclose\u001b[0;34m(a, b, rtol, atol, equal_nan)\u001b[0m\n\u001b[1;32m   2333\u001b[0m     \u001b[0myfin\u001b[0m \u001b[0;34m=\u001b[0m \u001b[0misfinite\u001b[0m\u001b[0;34m(\u001b[0m\u001b[0my\u001b[0m\u001b[0;34m)\u001b[0m\u001b[0;34m\u001b[0m\u001b[0m\n\u001b[1;32m   2334\u001b[0m     \u001b[0;32mif\u001b[0m \u001b[0mall\u001b[0m\u001b[0;34m(\u001b[0m\u001b[0mxfin\u001b[0m\u001b[0;34m)\u001b[0m \u001b[0;32mand\u001b[0m \u001b[0mall\u001b[0m\u001b[0;34m(\u001b[0m\u001b[0myfin\u001b[0m\u001b[0;34m)\u001b[0m\u001b[0;34m:\u001b[0m\u001b[0;34m\u001b[0m\u001b[0m\n\u001b[0;32m-> 2335\u001b[0;31m         \u001b[0;32mreturn\u001b[0m \u001b[0mwithin_tol\u001b[0m\u001b[0;34m(\u001b[0m\u001b[0mx\u001b[0m\u001b[0;34m,\u001b[0m \u001b[0my\u001b[0m\u001b[0;34m,\u001b[0m \u001b[0matol\u001b[0m\u001b[0;34m,\u001b[0m \u001b[0mrtol\u001b[0m\u001b[0;34m)\u001b[0m\u001b[0;34m\u001b[0m\u001b[0m\n\u001b[0m\u001b[1;32m   2336\u001b[0m     \u001b[0;32melse\u001b[0m\u001b[0;34m:\u001b[0m\u001b[0;34m\u001b[0m\u001b[0m\n\u001b[1;32m   2337\u001b[0m         \u001b[0mfinite\u001b[0m \u001b[0;34m=\u001b[0m \u001b[0mxfin\u001b[0m \u001b[0;34m&\u001b[0m \u001b[0myfin\u001b[0m\u001b[0;34m\u001b[0m\u001b[0m\n",
      "\u001b[0;32m/usr/local/lib/python3.6/dist-packages/numpy/core/numeric.py\u001b[0m in \u001b[0;36mwithin_tol\u001b[0;34m(x, y, atol, rtol)\u001b[0m\n\u001b[1;32m   2319\u001b[0m     \u001b[0;32mdef\u001b[0m \u001b[0mwithin_tol\u001b[0m\u001b[0;34m(\u001b[0m\u001b[0mx\u001b[0m\u001b[0;34m,\u001b[0m \u001b[0my\u001b[0m\u001b[0;34m,\u001b[0m \u001b[0matol\u001b[0m\u001b[0;34m,\u001b[0m \u001b[0mrtol\u001b[0m\u001b[0;34m)\u001b[0m\u001b[0;34m:\u001b[0m\u001b[0;34m\u001b[0m\u001b[0m\n\u001b[1;32m   2320\u001b[0m         \u001b[0;32mwith\u001b[0m \u001b[0merrstate\u001b[0m\u001b[0;34m(\u001b[0m\u001b[0minvalid\u001b[0m\u001b[0;34m=\u001b[0m\u001b[0;34m'ignore'\u001b[0m\u001b[0;34m)\u001b[0m\u001b[0;34m:\u001b[0m\u001b[0;34m\u001b[0m\u001b[0m\n\u001b[0;32m-> 2321\u001b[0;31m             \u001b[0;32mreturn\u001b[0m \u001b[0mless_equal\u001b[0m\u001b[0;34m(\u001b[0m\u001b[0mabs\u001b[0m\u001b[0;34m(\u001b[0m\u001b[0mx\u001b[0m\u001b[0;34m-\u001b[0m\u001b[0my\u001b[0m\u001b[0;34m)\u001b[0m\u001b[0;34m,\u001b[0m \u001b[0matol\u001b[0m \u001b[0;34m+\u001b[0m \u001b[0mrtol\u001b[0m \u001b[0;34m*\u001b[0m \u001b[0mabs\u001b[0m\u001b[0;34m(\u001b[0m\u001b[0my\u001b[0m\u001b[0;34m)\u001b[0m\u001b[0;34m)\u001b[0m\u001b[0;34m\u001b[0m\u001b[0m\n\u001b[0m\u001b[1;32m   2322\u001b[0m \u001b[0;34m\u001b[0m\u001b[0m\n\u001b[1;32m   2323\u001b[0m     \u001b[0mx\u001b[0m \u001b[0;34m=\u001b[0m \u001b[0masanyarray\u001b[0m\u001b[0;34m(\u001b[0m\u001b[0ma\u001b[0m\u001b[0;34m)\u001b[0m\u001b[0;34m\u001b[0m\u001b[0m\n",
      "\u001b[0;31mValueError\u001b[0m: operands could not be broadcast together with shapes (8,) (4,) "
     ]
    }
   ],
   "source": [
    "shape = [4]\n",
    "np_x, np_y, fetch_x, fetch_y, fetch_z = reset_arrays(offset=-0.5, shape=[4]) # ensure some values are negative\n",
    "print(\"np_z before: \", np_z)\n",
    "print(\"np_x: \", np_x)\n",
    "print(\"np_y: \", np_y)\n",
    "with tf.Session(graph=g) as sess:\n",
    "    np_z = sess.run(tf.dynamic_stitch([[0, 2, 4, 5], [1, 3, 7, 6]], [np_x, np_y]))\n",
    "print(\"np_z: \", np_z)\n",
    "\n",
    "fetch_mask = NDArrayDouble(shape)\n",
    "fetch_mask.FromNumpy(mask)\n",
    "fetch_z.dynamic_stitch([[0, 2, 4, 5], [1, 3, 7, 6]], [fetch_x, fetch_y])\n",
    "\n",
    "# print(mask)\n",
    "# print(np_z)\n",
    "# print(fetch_mask.ToNumpy())\n",
    "print(\"fetch_z: \", fetch_z.ToNumpy())\n",
    "print(\"fetch_x: \", fetch_x.ToNumpy())\n",
    "print(\"fetch_y: \", fetch_y.ToNumpy())\n",
    "\n",
    "# test_fn(np_z, fetch_z)"
   ]
  },
  {
   "cell_type": "markdown",
   "metadata": {},
   "source": [
    "### tf.scatter_update"
   ]
  },
  {
   "cell_type": "code",
   "execution_count": 22,
   "metadata": {},
   "outputs": [
    {
     "name": "stdout",
     "output_type": "stream",
     "text": [
      "[5 0 3 0 0 0 0 1 0 0]\n",
      "[5. 0. 3. 0. 0. 0. 0. 1. 0. 0.]\n",
      "test passed!\n"
     ]
    }
   ],
   "source": [
    "# 1-dim example\n",
    "np_x, np_y, fetch_x, fetch_y, fetch_z = reset_arrays(offset=-0.5, shape=[10]) # ensure some values are negative\n",
    "# updates = [[1, 0, 0, 0],[1, 0, 0, 0]]\n",
    "# indices = [0, 1]\n",
    "updates = [1, 5, 3]\n",
    "indices = [7, 0, 2]\n",
    "\n",
    "with tf.Session(graph=g) as sess:\n",
    "    tf_x = tf.Variable(initial_value=[0, 0, 0, 0, 0, 0, 0, 0, 0, 0])\n",
    "    tf_y = tf.scatter_update(tf_x, indices, updates)\n",
    "    sess.run(tf.global_variables_initializer())\n",
    "\n",
    "    np_x = sess.run(tf_x)\n",
    "    tf_z = sess.run(tf_y)\n",
    "fetch_x.FromNumpy(np_x)\n",
    "fetch_x.scatter(updates, indices)\n",
    "test_fn(tf_z, fetch_x)"
   ]
  },
  {
   "cell_type": "code",
   "execution_count": null,
   "metadata": {},
   "outputs": [],
   "source": [
    "# 2-dim example\n",
    "np_x, np_y, fetch_x, fetch_y, fetch_z = reset_arrays(offset=-0.5, shape=[4, 2]) # ensure some values are negative\n",
    "updates = [[1, 0, 0, 0],[1, 0, 0, 0]]\n",
    "indices = [0, 1]\n",
    "# updates = [[0, 1, 2], [1, 2, 3], [3, 4, 5]]\n",
    "# indices = [0, 1, 2]\n",
    "\n",
    "with tf.Session(graph=g) as sess:\n",
    "    tf_x = tf.Variable(initial_value=[[0, 0, 0, 0], [0, 0, 0, 0]])\n",
    "    tf_y = tf.scatter_update(tf_x, indices, updates)\n",
    "    sess.run(tf.global_variables_initializer())\n",
    "\n",
    "    np_x = sess.run(tf_x)\n",
    "    tf_z = sess.run(tf_y)\n",
    "fetch_x.FromNumpy(np_x)\n",
    "# fetch_x.scatter(updates, indices)\n",
    "fetch_x.scatter([1, 0, 0, 0, 1, 0, 0, 0], [0, 4])\n",
    "\n",
    "test_fn(tf_z, fetch_x)"
   ]
  },
  {
   "cell_type": "markdown",
   "metadata": {},
   "source": [
    "### tf.gather"
   ]
  },
  {
   "cell_type": "code",
   "execution_count": null,
   "metadata": {},
   "outputs": [],
   "source": []
  },
  {
   "cell_type": "markdown",
   "metadata": {},
   "source": [
    "### tf.concat"
   ]
  },
  {
   "cell_type": "code",
   "execution_count": null,
   "metadata": {},
   "outputs": [],
   "source": []
  },
  {
   "cell_type": "markdown",
   "metadata": {},
   "source": [
    "### tf.transpose"
   ]
  },
  {
   "cell_type": "code",
   "execution_count": null,
   "metadata": {},
   "outputs": [],
   "source": []
  },
  {
   "cell_type": "markdown",
   "metadata": {},
   "source": [
    "### tf.expand_dims"
   ]
  },
  {
   "cell_type": "code",
   "execution_count": null,
   "metadata": {},
   "outputs": [],
   "source": []
  },
  {
   "cell_type": "markdown",
   "metadata": {},
   "source": [
    "### tf.where"
   ]
  },
  {
   "cell_type": "code",
   "execution_count": null,
   "metadata": {},
   "outputs": [],
   "source": []
  },
  {
   "cell_type": "markdown",
   "metadata": {},
   "source": [
    "### tf.assign"
   ]
  },
  {
   "cell_type": "code",
   "execution_count": 21,
   "metadata": {},
   "outputs": [
    {
     "name": "stdout",
     "output_type": "stream",
     "text": [
      "test passed!\n"
     ]
    }
   ],
   "source": [
    "np_x, np_y, fetch_x, fetch_y, fetch_z = reset_arrays(offset=-0.5) # ensure some values are negative\n",
    "with tf.Session(graph=g) as sess:\n",
    "    temp = tf.Variable(np_x)\n",
    "    np_z = sess.run(temp.assign(np_y))\n",
    "fetch_z = fetch_y\n",
    "test_fn(np_z, fetch_z)"
   ]
  },
  {
   "cell_type": "markdown",
   "metadata": {},
   "source": [
    "### tf.shape"
   ]
  },
  {
   "cell_type": "code",
   "execution_count": 22,
   "metadata": {},
   "outputs": [
    {
     "name": "stdout",
     "output_type": "stream",
     "text": [
      "[2 3 2]\n",
      "[2, 3, 2]\n"
     ]
    }
   ],
   "source": [
    "np_x, np_y, fetch_x, fetch_y, fetch_z = reset_arrays(offset=-0.5) # ensure some values are negative\n",
    "with tf.Session(graph=g) as sess:\n",
    "    np_z = sess.run(tf.shape(np_x))\n",
    "fetch_z = fetch_x.shape()\n",
    "\n",
    "print(np_z)\n",
    "print(fetch_z)\n",
    "# test_fn(np_z, fetch_z)"
   ]
  },
  {
   "cell_type": "markdown",
   "metadata": {},
   "source": [
    "### tf.reshape"
   ]
  },
  {
   "cell_type": "code",
   "execution_count": 59,
   "metadata": {},
   "outputs": [
    {
     "name": "stdout",
     "output_type": "stream",
     "text": [
      "[[ 0.29458459  0.09859693  0.12309551 -0.31007651]\n",
      " [ 0.14908363 -0.1881486  -0.00182104  0.12289576]\n",
      " [-0.31379884 -0.37216433 -0.3720584   0.37793926]]\n",
      "[[ 0.29458459 -0.31379884  0.09859693 -0.37216433]\n",
      " [-0.00182104  0.14908363  0.12289576 -0.1881486 ]\n",
      " [ 0.12309551 -0.3720584  -0.31007651  0.37793926]]\n",
      "FAILURE\n"
     ]
    }
   ],
   "source": [
    "np_x, np_y, fetch_x, fetch_y, fetch_z = reset_arrays(offset=-0.5) # ensure some values are negative\n",
    "with tf.Session(graph=g) as sess:\n",
    "    temp = tf.Variable(np_x)\n",
    "    np_z = sess.run(tf.reshape(np_x, [3, 4]))\n",
    "fetch_z = fetch_x\n",
    "fetch_z.reshape([3, 4])\n",
    "print(np_z)\n",
    "print(fetch_z.ToNumpy())\n",
    "test_fn(np_z, fetch_z)"
   ]
  },
  {
   "cell_type": "markdown",
   "metadata": {},
   "source": [
    "### tf.cond"
   ]
  },
  {
   "cell_type": "code",
   "execution_count": null,
   "metadata": {},
   "outputs": [],
   "source": []
  },
  {
   "cell_type": "markdown",
   "metadata": {},
   "source": [
    "### tf.map_fn"
   ]
  },
  {
   "cell_type": "code",
   "execution_count": null,
   "metadata": {},
   "outputs": [],
   "source": []
  },
  {
   "cell_type": "markdown",
   "metadata": {},
   "source": [
    "### tf.equal"
   ]
  },
  {
   "cell_type": "code",
   "execution_count": 64,
   "metadata": {},
   "outputs": [
    {
     "ename": "AttributeError",
     "evalue": "'bool' object has no attribute 'ToNumpy'",
     "output_type": "error",
     "traceback": [
      "\u001b[0;31m---------------------------------------------------------------------------\u001b[0m",
      "\u001b[0;31mAttributeError\u001b[0m                            Traceback (most recent call last)",
      "\u001b[0;32m<ipython-input-64-810e94780807>\u001b[0m in \u001b[0;36m<module>\u001b[0;34m()\u001b[0m\n\u001b[1;32m      3\u001b[0m     \u001b[0mnp_z\u001b[0m \u001b[0;34m=\u001b[0m \u001b[0msess\u001b[0m\u001b[0;34m.\u001b[0m\u001b[0mrun\u001b[0m\u001b[0;34m(\u001b[0m\u001b[0mtf\u001b[0m\u001b[0;34m.\u001b[0m\u001b[0mequal\u001b[0m\u001b[0;34m(\u001b[0m\u001b[0mnp_x\u001b[0m\u001b[0;34m,\u001b[0m \u001b[0mnp_y\u001b[0m\u001b[0;34m)\u001b[0m\u001b[0;34m)\u001b[0m\u001b[0;34m\u001b[0m\u001b[0m\n\u001b[1;32m      4\u001b[0m \u001b[0mfetch_z\u001b[0m \u001b[0;34m=\u001b[0m \u001b[0;34m(\u001b[0m\u001b[0mfetch_x\u001b[0m \u001b[0;34m==\u001b[0m \u001b[0mfetch_y\u001b[0m\u001b[0;34m)\u001b[0m\u001b[0;34m\u001b[0m\u001b[0m\n\u001b[0;32m----> 5\u001b[0;31m \u001b[0mtest_fn\u001b[0m\u001b[0;34m(\u001b[0m\u001b[0mnp_z\u001b[0m\u001b[0;34m,\u001b[0m \u001b[0mfetch_z\u001b[0m\u001b[0;34m)\u001b[0m\u001b[0;34m\u001b[0m\u001b[0m\n\u001b[0m",
      "\u001b[0;32m<ipython-input-38-94cee99700f6>\u001b[0m in \u001b[0;36mtest_fn\u001b[0;34m(np_arr, fetch_arr)\u001b[0m\n\u001b[1;32m      1\u001b[0m \u001b[0;32mdef\u001b[0m \u001b[0mtest_fn\u001b[0m\u001b[0;34m(\u001b[0m\u001b[0mnp_arr\u001b[0m\u001b[0;34m,\u001b[0m \u001b[0mfetch_arr\u001b[0m\u001b[0;34m)\u001b[0m\u001b[0;34m:\u001b[0m\u001b[0;34m\u001b[0m\u001b[0m\n\u001b[1;32m      2\u001b[0m \u001b[0;34m\u001b[0m\u001b[0m\n\u001b[0;32m----> 3\u001b[0;31m     \u001b[0;32mif\u001b[0m \u001b[0mnp\u001b[0m\u001b[0;34m.\u001b[0m\u001b[0mallclose\u001b[0m\u001b[0;34m(\u001b[0m\u001b[0mnp_arr\u001b[0m\u001b[0;34m,\u001b[0m \u001b[0mfetch_arr\u001b[0m\u001b[0;34m.\u001b[0m\u001b[0mToNumpy\u001b[0m\u001b[0;34m(\u001b[0m\u001b[0;34m)\u001b[0m\u001b[0;34m)\u001b[0m\u001b[0;34m:\u001b[0m\u001b[0;34m\u001b[0m\u001b[0m\n\u001b[0m\u001b[1;32m      4\u001b[0m         \u001b[0mprint\u001b[0m\u001b[0;34m(\u001b[0m\u001b[0;34m\"test passed!\"\u001b[0m\u001b[0;34m)\u001b[0m\u001b[0;34m\u001b[0m\u001b[0m\n\u001b[1;32m      5\u001b[0m     \u001b[0;32melse\u001b[0m\u001b[0;34m:\u001b[0m\u001b[0;34m\u001b[0m\u001b[0m\n",
      "\u001b[0;31mAttributeError\u001b[0m: 'bool' object has no attribute 'ToNumpy'"
     ]
    }
   ],
   "source": [
    "np_x, np_y, fetch_x, fetch_y, fetch_z = reset_arrays(offset=-0.5) # ensure some values are negative\n",
    "with tf.Session(graph=g) as sess:\n",
    "    np_z = sess.run(tf.equal(np_x, np_y))\n",
    "fetch_z = (fetch_x == fetch_y)\n",
    "test_fn(np_z, fetch_z)"
   ]
  },
  {
   "cell_type": "markdown",
   "metadata": {},
   "source": [
    "### tf.reduce_any"
   ]
  },
  {
   "cell_type": "code",
   "execution_count": 61,
   "metadata": {},
   "outputs": [
    {
     "name": "stdout",
     "output_type": "stream",
     "text": [
      "test passed!\n"
     ]
    }
   ],
   "source": [
    "np_x, np_y, fetch_x, fetch_y, fetch_z = reset_arrays(offset=-0.5) # ensure some values are negative\n",
    "with tf.Session(graph=g) as sess:\n",
    "    np_z = sess.run(tf.reduce_any(np_x, 1))\n",
    "fetch_z.reduce_any(fetch_x, 1)\n",
    "test_fn(np_z, fetch_z)"
   ]
  },
  {
   "cell_type": "code",
   "execution_count": null,
   "metadata": {},
   "outputs": [],
   "source": []
  },
  {
   "cell_type": "code",
   "execution_count": null,
   "metadata": {},
   "outputs": [],
   "source": []
  },
  {
   "cell_type": "code",
   "execution_count": null,
   "metadata": {},
   "outputs": [],
   "source": []
  }
 ],
 "metadata": {
  "kernelspec": {
   "display_name": "Python 3",
   "language": "python",
   "name": "python3"
  },
  "language_info": {
   "codemirror_mode": {
    "name": "ipython",
    "version": 3
   },
   "file_extension": ".py",
   "mimetype": "text/x-python",
   "name": "python",
   "nbconvert_exporter": "python",
   "pygments_lexer": "ipython3",
   "version": "3.6.5"
  }
 },
 "nbformat": 4,
 "nbformat_minor": 2
}
