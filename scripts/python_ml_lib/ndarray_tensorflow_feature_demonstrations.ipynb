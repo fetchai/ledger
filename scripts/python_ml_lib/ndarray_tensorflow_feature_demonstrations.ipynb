{
 "cells": [
  {
   "cell_type": "code",
   "execution_count": 1,
   "metadata": {},
   "outputs": [],
   "source": [
    "import numpy as np\n",
    "import fetch.math as fm\n",
    "from fetch.math import NDArrayDouble\n",
    "import tensorflow as tf"
   ]
  },
  {
   "cell_type": "code",
   "execution_count": 2,
   "metadata": {},
   "outputs": [],
   "source": [
    "TOLERANCE = 1e-12\n",
    "def simple_test_fn(a, b):\n",
    "    if (abs(a - b) < TOLERANCE):\n",
    "        print(\"test passed!\")\n",
    "    else:\n",
    "        print(\"FAILURE\")\n",
    "    return"
   ]
  },
  {
   "cell_type": "code",
   "execution_count": 3,
   "metadata": {},
   "outputs": [],
   "source": [
    "def test_fn(np_arr, fetch_arr):\n",
    "    \n",
    "    if hasattr(fetch_arr, 'ToNumpy'):\n",
    "        if np.allclose(np_arr, fetch_arr.ToNumpy()):\n",
    "            print(\"test passed!\")\n",
    "        else:\n",
    "            print(\"FAILURE\")\n",
    "        return\n",
    "    else:\n",
    "        if np.allclose(np_arr, fetch_arr):\n",
    "            print(\"test passed!\")\n",
    "        else:\n",
    "            print(\"FAILURE\")\n",
    "        return\n",
    "        "
   ]
  },
  {
   "cell_type": "markdown",
   "metadata": {},
   "source": [
    "### Setup"
   ]
  },
  {
   "cell_type": "code",
   "execution_count": 4,
   "metadata": {},
   "outputs": [],
   "source": [
    "g = tf.Graph()"
   ]
  },
  {
   "cell_type": "code",
   "execution_count": 5,
   "metadata": {},
   "outputs": [],
   "source": [
    "def reset_arrays(offset=0, shape=[2, 3, 2]):\n",
    "    # initialise some random arrays\n",
    "#     shape = [1,2,3,4,5,6]\n",
    "#     shape = [2,4]\n",
    "#     shape = [2,3,2]\n",
    "\n",
    "    # set up the tensorflow / numpy array\n",
    "    with g.as_default():\n",
    "        tf_x = tf.to_double(tf.random_uniform(shape, 0.1, 1, dtype=tf.float64)) + offset\n",
    "        tf_y = tf.to_double(tf.random_uniform(shape, 0.1, 1, dtype=tf.float64)) + offset\n",
    "    with tf.Session(graph=g) as sess:\n",
    "        sess.run(tf.global_variables_initializer())\n",
    "        np_x = sess.run(tf_x)\n",
    "        np_y = sess.run(tf_y)\n",
    "\n",
    "    # set up the fetch array\n",
    "    fetch_x = NDArrayDouble(shape)\n",
    "    fetch_x.FromNumpy(np_x)\n",
    "    fetch_y = NDArrayDouble(shape)\n",
    "    fetch_y.FromNumpy(np_y)\n",
    "\n",
    "    # set up a test fetch array\n",
    "    fetch_z = NDArrayDouble(shape)\n",
    "    \n",
    "    return np_x, np_y, fetch_x, fetch_y, fetch_z"
   ]
  },
  {
   "cell_type": "markdown",
   "metadata": {},
   "source": [
    "### tf.log"
   ]
  },
  {
   "cell_type": "code",
   "execution_count": 6,
   "metadata": {},
   "outputs": [
    {
     "name": "stdout",
     "output_type": "stream",
     "text": [
      "test passed!\n"
     ]
    }
   ],
   "source": [
    "np_x, np_y, fetch_x, fetch_y, fetch_z = reset_arrays()\n",
    "with tf.Session(graph=g) as sess:\n",
    "    np_z = sess.run(tf.log(np_x))\n",
    "fetch_x.log()\n",
    "test_fn(np_z, fetch_x)"
   ]
  },
  {
   "cell_type": "markdown",
   "metadata": {},
   "source": [
    "### tf.exp"
   ]
  },
  {
   "cell_type": "code",
   "execution_count": 7,
   "metadata": {},
   "outputs": [
    {
     "name": "stdout",
     "output_type": "stream",
     "text": [
      "test passed!\n"
     ]
    }
   ],
   "source": [
    "np_x, np_y, fetch_x, fetch_y, fetch_z = reset_arrays()\n",
    "with tf.Session(graph=g) as sess:\n",
    "    np_z = sess.run(tf.exp(np_x))\n",
    "fetch_x.exp()\n",
    "test_fn(np_z, fetch_x)"
   ]
  },
  {
   "cell_type": "markdown",
   "metadata": {},
   "source": [
    "### tf.sqrt"
   ]
  },
  {
   "cell_type": "code",
   "execution_count": 8,
   "metadata": {},
   "outputs": [
    {
     "name": "stdout",
     "output_type": "stream",
     "text": [
      "test passed!\n"
     ]
    }
   ],
   "source": [
    "np_x, np_y, fetch_x, fetch_y, fetch_z = reset_arrays()\n",
    "with tf.Session(graph=g) as sess:\n",
    "    np_z = sess.run(tf.sqrt(np_x))\n",
    "fetch_x.sqrt()\n",
    "test_fn(np_z, fetch_x)"
   ]
  },
  {
   "cell_type": "markdown",
   "metadata": {},
   "source": [
    "### tf.div"
   ]
  },
  {
   "cell_type": "code",
   "execution_count": 9,
   "metadata": {},
   "outputs": [
    {
     "name": "stdout",
     "output_type": "stream",
     "text": [
      "test passed!\n"
     ]
    }
   ],
   "source": [
    "np_x, np_y, fetch_x, fetch_y, fetch_z = reset_arrays()\n",
    "with tf.Session(graph=g) as sess:\n",
    "    np_z = sess.run(tf.div(np_x, np_y))\n",
    "fetch_z = fetch_x / fetch_y\n",
    "test_fn(np_z, fetch_z)"
   ]
  },
  {
   "cell_type": "markdown",
   "metadata": {},
   "source": [
    "### tf.multiply"
   ]
  },
  {
   "cell_type": "code",
   "execution_count": 10,
   "metadata": {},
   "outputs": [
    {
     "name": "stdout",
     "output_type": "stream",
     "text": [
      "test passed!\n"
     ]
    }
   ],
   "source": [
    "np_x, np_y, fetch_x, fetch_y, fetch_z = reset_arrays()\n",
    "with tf.Session(graph=g) as sess:\n",
    "    np_z = sess.run(tf.multiply(np_x, np_y))\n",
    "fetch_z = fetch_x * fetch_y\n",
    "test_fn(np_z, fetch_z)"
   ]
  },
  {
   "cell_type": "markdown",
   "metadata": {},
   "source": [
    "### tf.nn.l2loss"
   ]
  },
  {
   "cell_type": "code",
   "execution_count": 11,
   "metadata": {},
   "outputs": [
    {
     "name": "stdout",
     "output_type": "stream",
     "text": [
      "test passed!\n"
     ]
    }
   ],
   "source": [
    "np_x, np_y, fetch_x, fetch_y, fetch_z = reset_arrays()\n",
    "with tf.Session(graph=g) as sess:\n",
    "    np_z = sess.run(tf.nn.l2_loss(np_x))\n",
    "fetch_z = fetch_x.l2loss()  \n",
    "simple_test_fn(np_z, fetch_z)"
   ]
  },
  {
   "cell_type": "markdown",
   "metadata": {},
   "source": [
    "### tf.abs"
   ]
  },
  {
   "cell_type": "code",
   "execution_count": 12,
   "metadata": {},
   "outputs": [
    {
     "name": "stdout",
     "output_type": "stream",
     "text": [
      "test passed!\n"
     ]
    }
   ],
   "source": [
    "np_x, np_y, fetch_x, fetch_y, fetch_z = reset_arrays(offset=-0.5) # ensure some values are negative\n",
    "with tf.Session(graph=g) as sess:\n",
    "    np_z = sess.run(tf.abs(np_x))\n",
    "fetch_x.abs()\n",
    "test_fn(np_z, fetch_x)"
   ]
  },
  {
   "cell_type": "markdown",
   "metadata": {},
   "source": [
    "### tf.nn.relu"
   ]
  },
  {
   "cell_type": "code",
   "execution_count": 13,
   "metadata": {},
   "outputs": [
    {
     "name": "stdout",
     "output_type": "stream",
     "text": [
      "test passed!\n"
     ]
    }
   ],
   "source": [
    "np_x, np_y, fetch_x, fetch_y, fetch_z = reset_arrays(offset=-0.5) # ensure some values are negative\n",
    "with tf.Session(graph=g) as sess:\n",
    "    np_z = sess.run(tf.nn.relu(np_x))\n",
    "fetch_x.relu()\n",
    "test_fn(np_z, fetch_x)"
   ]
  },
  {
   "cell_type": "markdown",
   "metadata": {},
   "source": [
    "### tf.sign"
   ]
  },
  {
   "cell_type": "code",
   "execution_count": 14,
   "metadata": {},
   "outputs": [
    {
     "name": "stdout",
     "output_type": "stream",
     "text": [
      "test passed!\n"
     ]
    }
   ],
   "source": [
    "np_x, np_y, fetch_x, fetch_y, fetch_z = reset_arrays(offset=-0.5) # ensure some values are negative\n",
    "with tf.Session(graph=g) as sess:\n",
    "    np_z = sess.run(tf.sign(np_x))\n",
    "fetch_x.sign()\n",
    "test_fn(np_z, fetch_x)"
   ]
  },
  {
   "cell_type": "markdown",
   "metadata": {},
   "source": [
    "### tf.maximum"
   ]
  },
  {
   "cell_type": "code",
   "execution_count": 15,
   "metadata": {},
   "outputs": [
    {
     "name": "stdout",
     "output_type": "stream",
     "text": [
      "test passed!\n"
     ]
    }
   ],
   "source": [
    "np_x, np_y, fetch_x, fetch_y, fetch_z = reset_arrays(offset=-0.5) # ensure some values are negative\n",
    "with tf.Session(graph=g) as sess:\n",
    "    np_z = sess.run(tf.maximum(np_x, np_y))\n",
    "\n",
    "fetch_z.maximum(fetch_x, fetch_y)\n",
    "\n",
    "test_fn(np_z, fetch_z)"
   ]
  },
  {
   "cell_type": "markdown",
   "metadata": {},
   "source": [
    "### tf.reduce_mean"
   ]
  },
  {
   "cell_type": "code",
   "execution_count": 16,
   "metadata": {},
   "outputs": [
    {
     "name": "stdout",
     "output_type": "stream",
     "text": [
      "test passed!\n"
     ]
    }
   ],
   "source": [
    "np_x, np_y, fetch_x, fetch_y, fetch_z = reset_arrays(offset=-0.5) # ensure some values are negative\n",
    "with tf.Session(graph=g) as sess:\n",
    "    np_z = sess.run(tf.reduce_mean(np_x, 1))\n",
    "fetch_z.reduce_mean(fetch_x, 1)\n",
    "test_fn(np_z, fetch_z)"
   ]
  },
  {
   "cell_type": "markdown",
   "metadata": {},
   "source": [
    "### tf.reduce_sum"
   ]
  },
  {
   "cell_type": "code",
   "execution_count": 17,
   "metadata": {},
   "outputs": [
    {
     "name": "stdout",
     "output_type": "stream",
     "text": [
      "test passed!\n"
     ]
    }
   ],
   "source": [
    "np_x, np_y, fetch_x, fetch_y, fetch_z = reset_arrays(offset=-0.5) # ensure some values are negative\n",
    "with tf.Session(graph=g) as sess:\n",
    "    np_z = sess.run(tf.reduce_sum(np_x, 1))\n",
    "fetch_z.reduce_sum(fetch_x, 1)\n",
    "test_fn(np_z, fetch_z)"
   ]
  },
  {
   "cell_type": "markdown",
   "metadata": {},
   "source": [
    "### tf.boolean_mask"
   ]
  },
  {
   "cell_type": "code",
   "execution_count": 18,
   "metadata": {},
   "outputs": [
    {
     "name": "stdout",
     "output_type": "stream",
     "text": [
      "test passed!\n"
     ]
    }
   ],
   "source": [
    "# 1d test\n",
    "np_x, np_y, fetch_x, fetch_y, fetch_z = reset_arrays(offset=-0.5, shape=[10]) # ensure some values are negative\n",
    "mask = np.random.randint(0, 2, (10))\n",
    "with tf.Session(graph=g) as sess:\n",
    "    np_z = sess.run(tf.boolean_mask(np_x, mask))\n",
    "fetch_mask = NDArrayDouble([10])\n",
    "fetch_mask.FromNumpy(mask)\n",
    "fetch_z = fetch_x.boolean_mask(fetch_mask)\n",
    "\n",
    "test_fn(np_z, fetch_z)"
   ]
  },
  {
   "cell_type": "code",
   "execution_count": 19,
   "metadata": {},
   "outputs": [
    {
     "name": "stdout",
     "output_type": "stream",
     "text": [
      "test passed!\n"
     ]
    }
   ],
   "source": [
    "# 2d test\n",
    "np_x, np_y, fetch_x, fetch_y, fetch_z = reset_arrays(offset=-0.5, shape=[3, 4]) # ensure some values are negative\n",
    "mask = np.random.randint(0, 2, (3, 4))\n",
    "with tf.Session(graph=g) as sess:\n",
    "    np_z = sess.run(tf.boolean_mask(np_x, mask))\n",
    "fetch_mask = NDArrayDouble([3, 4])\n",
    "fetch_mask.FromNumpy(mask)\n",
    "fetch_z = fetch_x.boolean_mask(fetch_mask)\n",
    "\n",
    "test_fn(np_z, fetch_z)"
   ]
  },
  {
   "cell_type": "code",
   "execution_count": 20,
   "metadata": {},
   "outputs": [
    {
     "name": "stdout",
     "output_type": "stream",
     "text": [
      "test passed!\n"
     ]
    }
   ],
   "source": [
    "#3d test\n",
    "np_x, np_y, fetch_x, fetch_y, fetch_z = reset_arrays(offset=-0.5, shape=[2,3,2]) # ensure some values are negative\n",
    "mask = np.random.randint(0, 2, (2, 3, 2))\n",
    "with tf.Session(graph=g) as sess:\n",
    "    np_z = sess.run(tf.boolean_mask(np_x, mask))\n",
    "fetch_mask = NDArrayDouble([2,3,2])\n",
    "fetch_mask.FromNumpy(mask)\n",
    "fetch_z = fetch_x.boolean_mask(fetch_mask)\n",
    "\n",
    "test_fn(np_z, fetch_z)"
   ]
  },
  {
   "cell_type": "markdown",
   "metadata": {},
   "source": [
    "### tf.dynamic_stitch"
   ]
  },
  {
   "cell_type": "code",
   "execution_count": 21,
   "metadata": {},
   "outputs": [
    {
     "name": "stdout",
     "output_type": "stream",
     "text": [
      "test passed!\n"
     ]
    }
   ],
   "source": [
    "# 1d example\n",
    "output_shape = [8]\n",
    "np_x, np_y, _, _, _ = reset_arrays(offset=-0.5, shape=[4]) # ensure some values are negative\n",
    "indices = [[0, 2, 4, 5], [1, 3, 7, 6]]\n",
    "updates = [np_x, np_y]\n",
    "with tf.Session(graph=g) as sess:\n",
    "    np_z = sess.run(tf.dynamic_stitch(indices, updates))\n",
    "\n",
    "fetch_indices = NDArrayDouble([2, 4])\n",
    "fetch_indices.FromNumpy(indices)\n",
    "fetch_updates = NDArrayDouble()\n",
    "fetch_updates.FromNumpy(updates)\n",
    "fetch_z = NDArrayDouble(output_shape)\n",
    "fetch_z = fetch_z.dynamic_stitch(fetch_indices, fetch_updates)\n",
    "\n",
    "test_fn(np_z, fetch_z)"
   ]
  },
  {
   "cell_type": "code",
   "execution_count": 22,
   "metadata": {},
   "outputs": [
    {
     "name": "stdout",
     "output_type": "stream",
     "text": [
      "test passed!\n"
     ]
    }
   ],
   "source": [
    "# 2d example\n",
    "output_shape = [16]\n",
    "np_x, np_y, _, _, _ = reset_arrays(offset=-0.5, shape=[2, 4])\n",
    "indices = [[[0, 2, 4, 5], [1, 3, 7, 6]], [[15, 14, 13, 12], [11, 10, 9, 8]]]\n",
    "updates = [np_x, np_y]\n",
    "with tf.Session(graph=g) as sess:\n",
    "    np_z = sess.run(tf.dynamic_stitch(indices, updates))\n",
    "\n",
    "fetch_indices = NDArrayDouble([2, 4])\n",
    "fetch_indices.FromNumpy(indices)\n",
    "fetch_updates = NDArrayDouble()\n",
    "fetch_updates.FromNumpy(updates)\n",
    "fetch_z = NDArrayDouble(output_shape)\n",
    "fetch_z = fetch_z.dynamic_stitch(fetch_indices, fetch_updates)\n",
    "\n",
    "test_fn(np_z, fetch_z)"
   ]
  },
  {
   "cell_type": "markdown",
   "metadata": {},
   "source": [
    "### tf.scatter_update"
   ]
  },
  {
   "cell_type": "code",
   "execution_count": 23,
   "metadata": {},
   "outputs": [
    {
     "name": "stdout",
     "output_type": "stream",
     "text": [
      "test passed!\n"
     ]
    }
   ],
   "source": [
    "# 1-dim example\n",
    "output_shape = [10]\n",
    "np_x, np_y, fetch_x, fetch_y, fetch_z = reset_arrays(offset=-0.5, shape=output_shape) # ensure some values are negative\n",
    "# updates = [[1, 0, 0, 0],[1, 0, 0, 0]]\n",
    "# indices = [0, 1]\n",
    "updates = [1, 5, 3]\n",
    "indices = [7, 0, 2]\n",
    "\n",
    "with tf.Session(graph=g) as sess:\n",
    "    tf_x = tf.Variable(initial_value=[0, 0, 0, 0, 0, 0, 0, 0, 0, 0])\n",
    "    tf_y = tf.scatter_update(tf_x, indices, updates)\n",
    "    sess.run(tf.global_variables_initializer())\n",
    "\n",
    "    np_x = sess.run(tf_x)\n",
    "    np_z = sess.run(tf_y)\n",
    "\n",
    "    \n",
    "fetch_indices = NDArrayDouble()\n",
    "fetch_indices.FromNumpy(indices)\n",
    "fetch_updates = NDArrayDouble()\n",
    "fetch_updates.FromNumpy(updates)\n",
    "fetch_z = NDArrayDouble(output_shape)\n",
    "fetch_z.scatter(fetch_updates, fetch_indices)\n",
    "# this alternative syntax also works\n",
    "# fetch_z = fetch_z.scatter(fetch_updates, [7, 0, 2])\n",
    "\n",
    "test_fn(np_z, fetch_z)"
   ]
  },
  {
   "cell_type": "code",
   "execution_count": 24,
   "metadata": {},
   "outputs": [
    {
     "name": "stdout",
     "output_type": "stream",
     "text": [
      "test passed!\n"
     ]
    }
   ],
   "source": [
    "# 2-dim example\n",
    "output_shape = [8]\n",
    "np_x, np_y, fetch_x, fetch_y, fetch_z = reset_arrays(offset=-0.5, shape=[2, 2]) # ensure some values are negative\n",
    "updates = [[[0, 2], [1, 3]], [[4, 7], [6, 5]]]\n",
    "indices = [[[0, 2], [1, 3]], [[4, 7], [6, 5]]]\n",
    "with tf.Session(graph=g) as sess:\n",
    "    tf_x = tf.Variable(initial_value=[0, 0, 0, 0, 0, 0, 0, 0])\n",
    "    tf_y = tf.scatter_update(tf_x, indices, updates)\n",
    "    sess.run(tf.global_variables_initializer())\n",
    "\n",
    "    np_x = sess.run(tf_x)\n",
    "    np_z = sess.run(tf_y)\n",
    "    \n",
    "fetch_indices = NDArrayDouble()\n",
    "fetch_indices.FromNumpy([0, 2, 1, 3, 4, 7, 6, 5])\n",
    "fetch_updates = NDArrayDouble()\n",
    "fetch_updates.FromNumpy(updates)\n",
    "fetch_z = NDArrayDouble(output_shape)\n",
    "fetch_z.scatter(fetch_updates, fetch_indices)\n",
    "\n",
    "test_fn(np_z, fetch_z)"
   ]
  },
  {
   "cell_type": "markdown",
   "metadata": {},
   "source": [
    "### tf.gather"
   ]
  },
  {
   "cell_type": "code",
   "execution_count": 25,
   "metadata": {},
   "outputs": [
    {
     "name": "stdout",
     "output_type": "stream",
     "text": [
      "test passed!\n"
     ]
    }
   ],
   "source": [
    "# 1-dim example\n",
    "output_shape = [10]\n",
    "np_x, np_y, fetch_x, fetch_y, fetch_z = reset_arrays(offset=-0.5, shape=[10]) # ensure some values are negative\n",
    "\n",
    "indices = [0, 3, 4, 5, 8]\n",
    "updates = [0, 1, 2, 3, 4, 5, 6, 7, 8, 9]\n",
    "with tf.Session(graph=g) as sess:\n",
    "    tf_x = tf.Variable(initial_value=updates)\n",
    "    tf_indices = tf.Variable(initial_value=indices)\n",
    "    tf_y = tf.gather(tf_x, tf_indices)\n",
    "    sess.run(tf.global_variables_initializer())\n",
    "\n",
    "    np_x = sess.run(tf_x)\n",
    "    np_z = sess.run(tf_y)\n",
    "\n",
    "fetch_indices = NDArrayDouble()\n",
    "fetch_indices.FromNumpy(indices)\n",
    "fetch_updates = NDArrayDouble()\n",
    "fetch_updates.FromNumpy(updates)\n",
    "fetch_z = NDArrayDouble(output_shape)\n",
    "fetch_z.gather(fetch_updates, fetch_indices)\n",
    "# this alternative syntax also works\n",
    "# fetch_z = fetch_z.gather(fetch_updates, fetch_indices)\n",
    "\n",
    "test_fn(np_z, fetch_z)"
   ]
  },
  {
   "cell_type": "markdown",
   "metadata": {},
   "source": [
    "### tf.concat"
   ]
  },
  {
   "cell_type": "code",
   "execution_count": 29,
   "metadata": {
    "scrolled": true
   },
   "outputs": [
    {
     "name": "stdout",
     "output_type": "stream",
     "text": [
      "test passed!\n"
     ]
    }
   ],
   "source": [
    "# 1-dim example\n",
    "output_shape = [10]\n",
    "np_x, np_y, fetch_x, fetch_y, fetch_z = reset_arrays(offset=-0.5, shape=[10]) # ensure some values are negative\n",
    "\n",
    "with tf.Session(graph=g) as sess:\n",
    "    tf_z = tf.concat([np_x, np_y], 0)\n",
    "    sess.run(tf.global_variables_initializer())\n",
    "\n",
    "    np_z = sess.run(tf_z)\n",
    "\n",
    "fetch_z = NDArrayDouble(20)\n",
    "fetch_z.concat([fetch_x, fetch_y], 0)\n",
    "\n",
    "test_fn(np_z, fetch_z)"
   ]
  },
  {
   "cell_type": "code",
   "execution_count": 32,
   "metadata": {},
   "outputs": [
    {
     "name": "stdout",
     "output_type": "stream",
     "text": [
      "[[-0.27221715  0.21786031 -0.37554127 -0.29398566 -0.15427103]\n",
      " [-0.26967671  0.29466879 -0.32842657 -0.36560897 -0.27353985]\n",
      " [ 0.36532943  0.2780249   0.33749731  0.10480096 -0.35394547]\n",
      " [ 0.17612914  0.32161769  0.01698447  0.3478916   0.33026035]]\n",
      "(4, 5)\n",
      "[4, 5]\n",
      "test passed!\n"
     ]
    }
   ],
   "source": [
    "# 1-dim example\n",
    "output_shape = [10]\n",
    "np_x, np_y, fetch_x, fetch_y, fetch_z = reset_arrays(offset=-0.5, shape=[2, 5]) # ensure some values are negative\n",
    "\n",
    "with tf.Session(graph=g) as sess:\n",
    "    tf_z = tf.concat([np_x, np_y], 0)\n",
    "    sess.run(tf.global_variables_initializer())\n",
    "\n",
    "    np_z = sess.run(tf_z)\n",
    "\n",
    "fetch_z = NDArrayDouble(20)\n",
    "fetch_z.concat([fetch_x, fetch_y], 0)\n",
    "\n",
    "test_fn(np_z, fetch_z)"
   ]
  },
  {
   "cell_type": "markdown",
   "metadata": {},
   "source": [
    "### tf.transpose"
   ]
  },
  {
   "cell_type": "code",
   "execution_count": null,
   "metadata": {},
   "outputs": [],
   "source": []
  },
  {
   "cell_type": "markdown",
   "metadata": {},
   "source": [
    "### tf.expand_dims"
   ]
  },
  {
   "cell_type": "code",
   "execution_count": null,
   "metadata": {},
   "outputs": [],
   "source": []
  },
  {
   "cell_type": "markdown",
   "metadata": {},
   "source": [
    "### tf.where"
   ]
  },
  {
   "cell_type": "code",
   "execution_count": null,
   "metadata": {},
   "outputs": [],
   "source": []
  },
  {
   "cell_type": "markdown",
   "metadata": {},
   "source": [
    "### tf.assign"
   ]
  },
  {
   "cell_type": "code",
   "execution_count": 28,
   "metadata": {},
   "outputs": [
    {
     "name": "stdout",
     "output_type": "stream",
     "text": [
      "test passed!\n"
     ]
    }
   ],
   "source": [
    "np_x, np_y, fetch_x, fetch_y, fetch_z = reset_arrays(offset=-0.5) # ensure some values are negative\n",
    "with tf.Session(graph=g) as sess:\n",
    "    temp = tf.Variable(np_x)\n",
    "    np_z = sess.run(temp.assign(np_y))\n",
    "fetch_z = fetch_y\n",
    "test_fn(np_z, fetch_z)"
   ]
  },
  {
   "cell_type": "markdown",
   "metadata": {},
   "source": [
    "### tf.shape"
   ]
  },
  {
   "cell_type": "code",
   "execution_count": 65,
   "metadata": {},
   "outputs": [
    {
     "name": "stdout",
     "output_type": "stream",
     "text": [
      "test passed!\n"
     ]
    }
   ],
   "source": [
    "np_x, np_y, fetch_x, fetch_y, fetch_z = reset_arrays(offset=-0.5) # ensure some values are negative\n",
    "with tf.Session(graph=g) as sess:\n",
    "    np_z = sess.run(tf.shape(np_x))\n",
    "fetch_z = fetch_x.shape()\n",
    "\n",
    "test_fn(np_z, np.array(fetch_z))"
   ]
  },
  {
   "cell_type": "markdown",
   "metadata": {},
   "source": [
    "### tf.reshape"
   ]
  },
  {
   "cell_type": "code",
   "execution_count": 66,
   "metadata": {},
   "outputs": [
    {
     "name": "stdout",
     "output_type": "stream",
     "text": [
      "[[-0.05170785  0.04926507 -0.24981198  0.38580164]\n",
      " [ 0.12927471  0.3782015   0.26630379  0.19370452]\n",
      " [ 0.26199668  0.29321405 -0.38707852  0.2956453 ]]\n",
      "[[-0.05170785  0.26199668  0.04926507  0.29321405]\n",
      " [ 0.26630379  0.12927471  0.19370452  0.3782015 ]\n",
      " [-0.24981198 -0.38707852  0.38580164  0.2956453 ]]\n",
      "FAILURE\n"
     ]
    }
   ],
   "source": [
    "np_x, np_y, fetch_x, fetch_y, fetch_z = reset_arrays(offset=-0.5) # ensure some values are negative\n",
    "with tf.Session(graph=g) as sess:\n",
    "    temp = tf.Variable(np_x)\n",
    "    np_z = sess.run(tf.reshape(np_x, [3, 4]))\n",
    "fetch_z = fetch_x\n",
    "fetch_z.reshape([3, 4])\n",
    "print(np_z)\n",
    "print(fetch_z.ToNumpy())\n",
    "test_fn(np_z, fetch_z)"
   ]
  },
  {
   "cell_type": "markdown",
   "metadata": {},
   "source": [
    "### tf.cond"
   ]
  },
  {
   "cell_type": "code",
   "execution_count": null,
   "metadata": {},
   "outputs": [],
   "source": []
  },
  {
   "cell_type": "markdown",
   "metadata": {},
   "source": [
    "### tf.map_fn"
   ]
  },
  {
   "cell_type": "code",
   "execution_count": null,
   "metadata": {},
   "outputs": [],
   "source": []
  },
  {
   "cell_type": "markdown",
   "metadata": {},
   "source": [
    "### tf.equal"
   ]
  },
  {
   "cell_type": "code",
   "execution_count": null,
   "metadata": {},
   "outputs": [],
   "source": [
    "np_x, np_y, fetch_x, fetch_y, fetch_z = reset_arrays(offset=-0.5) # ensure some values are negative\n",
    "with tf.Session(graph=g) as sess:\n",
    "    np_z = sess.run(tf.equal(np_x, np_y))\n",
    "fetch_z = (fetch_x == fetch_y)\n",
    "test_fn(np_z, fetch_z)"
   ]
  },
  {
   "cell_type": "markdown",
   "metadata": {},
   "source": [
    "### tf.reduce_any"
   ]
  },
  {
   "cell_type": "code",
   "execution_count": 61,
   "metadata": {},
   "outputs": [
    {
     "name": "stdout",
     "output_type": "stream",
     "text": [
      "test passed!\n"
     ]
    }
   ],
   "source": [
    "np_x, np_y, fetch_x, fetch_y, fetch_z = reset_arrays(offset=-0.5) # ensure some values are negative\n",
    "with tf.Session(graph=g) as sess:\n",
    "    np_z = sess.run(tf.reduce_any(np_x, 1))\n",
    "fetch_z.reduce_any(fetch_x, 1)\n",
    "test_fn(np_z, fetch_z)"
   ]
  },
  {
   "cell_type": "code",
   "execution_count": null,
   "metadata": {},
   "outputs": [],
   "source": []
  },
  {
   "cell_type": "code",
   "execution_count": null,
   "metadata": {},
   "outputs": [],
   "source": []
  },
  {
   "cell_type": "code",
   "execution_count": null,
   "metadata": {},
   "outputs": [],
   "source": []
  }
 ],
 "metadata": {
  "kernelspec": {
   "display_name": "Python 3",
   "language": "python",
   "name": "python3"
  },
  "language_info": {
   "codemirror_mode": {
    "name": "ipython",
    "version": 3
   },
   "file_extension": ".py",
   "mimetype": "text/x-python",
   "name": "python",
   "nbconvert_exporter": "python",
   "pygments_lexer": "ipython3",
   "version": "3.6.5"
  }
 },
 "nbformat": 4,
 "nbformat_minor": 2
}
