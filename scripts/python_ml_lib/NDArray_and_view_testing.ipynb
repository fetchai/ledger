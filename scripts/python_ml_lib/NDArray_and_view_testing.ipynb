{
 "cells": [
  {
   "cell_type": "markdown",
   "metadata": {},
   "source": [
    "## A series of tests for the fetch math library (and associated python bindings)"
   ]
  },
  {
   "cell_type": "markdown",
   "metadata": {},
   "source": [
    "### initial setup"
   ]
  },
  {
   "cell_type": "code",
   "execution_count": 3,
   "metadata": {},
   "outputs": [],
   "source": [
    "# import fetch\n",
    "import numpy as np\n",
    "import fetch.math as fm\n",
    "from fetch.math import NDArrayDouble\n",
    "#from fetch.math import statistics as stats"
   ]
  },
  {
   "cell_type": "code",
   "execution_count": 4,
   "metadata": {},
   "outputs": [],
   "source": [
    "def simple_test_fn(a, b):\n",
    "    if (a == b):\n",
    "        print(\"test passed!\")\n",
    "    else:\n",
    "        print(\"FAILURE\")\n",
    "    return"
   ]
  },
  {
   "cell_type": "code",
   "execution_count": 11,
   "metadata": {},
   "outputs": [],
   "source": [
    "def test_fn(np_arr, fetch_arr):\n",
    "    \n",
    "    if np.allclose(np_arr, fetch_arr.ToNumpy()):\n",
    "        print(\"test passed!\")\n",
    "    else:\n",
    "        print(\"FAILURE\")\n",
    "\n",
    "    return"
   ]
  },
  {
   "cell_type": "markdown",
   "metadata": {},
   "source": [
    "### Check To and From Numpy"
   ]
  },
  {
   "cell_type": "code",
   "execution_count": 12,
   "metadata": {},
   "outputs": [],
   "source": [
    "shape = [1,2,3,4,5]\n",
    "n_dims = len(shape)"
   ]
  },
  {
   "cell_type": "code",
   "execution_count": 13,
   "metadata": {},
   "outputs": [
    {
     "name": "stdout",
     "output_type": "stream",
     "text": [
      "test passed!\n"
     ]
    }
   ],
   "source": [
    "# To Numpy Test\n",
    "np_z = np.random.random(shape)\n",
    "fetch_z = NDArrayDouble(shape)\n",
    "fetch_z.FromNumpy(np_z)\n",
    "test_fn(np_z, fetch_z)"
   ]
  },
  {
   "cell_type": "code",
   "execution_count": 8,
   "metadata": {},
   "outputs": [
    {
     "name": "stdout",
     "output_type": "stream",
     "text": [
      "test passed!\n"
     ]
    }
   ],
   "source": [
    "# From Numpy Test\n",
    "np_z = np.random.random(shape)\n",
    "fetch_z = NDArrayDouble(shape)\n",
    "fetch_z.FromNumpy(np_z)\n",
    "test_fn(np_z, fetch_z)"
   ]
  },
  {
   "cell_type": "markdown",
   "metadata": {},
   "source": [
    "### Check zeroes, ones, copy, and equality"
   ]
  },
  {
   "cell_type": "code",
   "execution_count": 9,
   "metadata": {},
   "outputs": [],
   "source": [
    "shape = [1,2,3,4,5]\n",
    "n_dims = len(shape)"
   ]
  },
  {
   "cell_type": "code",
   "execution_count": 10,
   "metadata": {},
   "outputs": [],
   "source": [
    "np_x = np.zeros(shape)\n",
    "fetch_x = NDArrayDouble.Zeros(shape)\n",
    "np_y = np.ones(shape)\n",
    "fetch_y = NDArrayDouble.Ones(shape)\n",
    "\n",
    "fetch_z = NDArrayDouble(shape)"
   ]
  },
  {
   "cell_type": "code",
   "execution_count": 11,
   "metadata": {},
   "outputs": [
    {
     "name": "stdout",
     "output_type": "stream",
     "text": [
      "test passed!\n"
     ]
    }
   ],
   "source": [
    "fetch_z = fetch_x\n",
    "simple_test_fn(fetch_z, fetch_x)"
   ]
  },
  {
   "cell_type": "code",
   "execution_count": 12,
   "metadata": {},
   "outputs": [
    {
     "name": "stdout",
     "output_type": "stream",
     "text": [
      "test passed!\n"
     ]
    }
   ],
   "source": [
    "test_fn(np_x, fetch_z)"
   ]
  },
  {
   "cell_type": "code",
   "execution_count": 13,
   "metadata": {},
   "outputs": [
    {
     "name": "stdout",
     "output_type": "stream",
     "text": [
      "test passed!\n"
     ]
    }
   ],
   "source": [
    "fetch_z = fetch_y\n",
    "simple_test_fn(fetch_z, fetch_y)"
   ]
  },
  {
   "cell_type": "code",
   "execution_count": 14,
   "metadata": {},
   "outputs": [
    {
     "name": "stdout",
     "output_type": "stream",
     "text": [
      "test passed!\n"
     ]
    }
   ],
   "source": [
    "if not (fetch_z != fetch_y):\n",
    "    print(\"test passed!\")\n",
    "else:\n",
    "    print(\"FAILURE!!!!\")"
   ]
  },
  {
   "cell_type": "markdown",
   "metadata": {},
   "source": [
    "### Check basic element-wise arithmetic operators"
   ]
  },
  {
   "cell_type": "code",
   "execution_count": 15,
   "metadata": {},
   "outputs": [],
   "source": [
    "shape = [3, 4]\n",
    "n_dims = len(shape)\n",
    "np_x = np.random.random(shape)\n",
    "fetch_x = NDArrayDouble.Zeros(shape)\n",
    "fetch_x.FromNumpy(np_x)\n",
    "np_y = np.ones(shape)\n",
    "fetch_y = NDArrayDouble.Ones(shape)\n",
    "fetch_y.FromNumpy(np_y)"
   ]
  },
  {
   "cell_type": "code",
   "execution_count": 16,
   "metadata": {},
   "outputs": [
    {
     "name": "stdout",
     "output_type": "stream",
     "text": [
      "test passed!\n"
     ]
    }
   ],
   "source": [
    "np_test = np_x + np_y\n",
    "fetch_z = fetch_x + fetch_y\n",
    "test_fn(np_test, fetch_z)"
   ]
  },
  {
   "cell_type": "code",
   "execution_count": 17,
   "metadata": {},
   "outputs": [
    {
     "name": "stdout",
     "output_type": "stream",
     "text": [
      "test passed!\n"
     ]
    }
   ],
   "source": [
    "np_test += np_x\n",
    "fetch_z += fetch_x\n",
    "test_fn(np_test, fetch_z)"
   ]
  },
  {
   "cell_type": "code",
   "execution_count": 18,
   "metadata": {},
   "outputs": [
    {
     "name": "stdout",
     "output_type": "stream",
     "text": [
      "test passed!\n"
     ]
    }
   ],
   "source": [
    "np_test = np_x - np_y\n",
    "fetch_z = fetch_x - fetch_y\n",
    "test_fn(np_test, fetch_z)"
   ]
  },
  {
   "cell_type": "code",
   "execution_count": 19,
   "metadata": {},
   "outputs": [
    {
     "name": "stdout",
     "output_type": "stream",
     "text": [
      "test passed!\n"
     ]
    }
   ],
   "source": [
    "np_test -= np_x\n",
    "fetch_z -= fetch_x\n",
    "test_fn(np_test, fetch_z)"
   ]
  },
  {
   "cell_type": "code",
   "execution_count": 20,
   "metadata": {},
   "outputs": [
    {
     "name": "stdout",
     "output_type": "stream",
     "text": [
      "test passed!\n"
     ]
    }
   ],
   "source": [
    "np_test = np_x * np_y\n",
    "fetch_z = fetch_x * fetch_y\n",
    "test_fn(np_test, fetch_z)"
   ]
  },
  {
   "cell_type": "code",
   "execution_count": 21,
   "metadata": {},
   "outputs": [
    {
     "name": "stdout",
     "output_type": "stream",
     "text": [
      "test passed!\n"
     ]
    }
   ],
   "source": [
    "np_test *= np_x\n",
    "fetch_z *= fetch_x\n",
    "test_fn(np_test, fetch_z)"
   ]
  },
  {
   "cell_type": "code",
   "execution_count": 22,
   "metadata": {},
   "outputs": [
    {
     "name": "stdout",
     "output_type": "stream",
     "text": [
      "test passed!\n"
     ]
    }
   ],
   "source": [
    "np_test = np_x / np_y\n",
    "fetch_z = fetch_x / fetch_y\n",
    "test_fn(np_test, fetch_z)"
   ]
  },
  {
   "cell_type": "code",
   "execution_count": 23,
   "metadata": {},
   "outputs": [
    {
     "name": "stdout",
     "output_type": "stream",
     "text": [
      "test passed!\n"
     ]
    }
   ],
   "source": [
    "np_test /= np_x\n",
    "fetch_z /= fetch_x\n",
    "test_fn(np_test, fetch_z)"
   ]
  },
  {
   "cell_type": "markdown",
   "metadata": {},
   "source": [
    "### check basic array * scalar arithmetic operations"
   ]
  },
  {
   "cell_type": "code",
   "execution_count": 24,
   "metadata": {},
   "outputs": [],
   "source": [
    "shape = [3, 4]\n",
    "n_dims = len(shape)\n",
    "np_x = np.random.random(shape)\n",
    "fetch_x = NDArrayDouble.Zeros(shape)\n",
    "fetch_x.FromNumpy(np_x)\n",
    "fetch_z = NDArrayDouble.Zeros(shape)\n",
    "fetch_z.FromNumpy(np_x)"
   ]
  },
  {
   "cell_type": "code",
   "execution_count": 25,
   "metadata": {},
   "outputs": [
    {
     "name": "stdout",
     "output_type": "stream",
     "text": [
      "test passed!\n"
     ]
    }
   ],
   "source": [
    "np_test = np_x + 7\n",
    "fetch_z = fetch_x + 7\n",
    "test_fn(np_test, fetch_z)"
   ]
  },
  {
   "cell_type": "code",
   "execution_count": 26,
   "metadata": {},
   "outputs": [
    {
     "name": "stdout",
     "output_type": "stream",
     "text": [
      "test passed!\n"
     ]
    }
   ],
   "source": [
    "np_test += 7\n",
    "fetch_z += 7\n",
    "test_fn(np_test, fetch_z)"
   ]
  },
  {
   "cell_type": "code",
   "execution_count": 27,
   "metadata": {},
   "outputs": [
    {
     "name": "stdout",
     "output_type": "stream",
     "text": [
      "test passed!\n"
     ]
    }
   ],
   "source": [
    "np_test = np_x - 7\n",
    "fetch_z = fetch_x - 7\n",
    "test_fn(np_test, fetch_z)"
   ]
  },
  {
   "cell_type": "code",
   "execution_count": 28,
   "metadata": {},
   "outputs": [
    {
     "name": "stdout",
     "output_type": "stream",
     "text": [
      "test passed!\n"
     ]
    }
   ],
   "source": [
    "np_test -= 7\n",
    "fetch_z -= 7\n",
    "test_fn(np_test, fetch_z)"
   ]
  },
  {
   "cell_type": "code",
   "execution_count": 29,
   "metadata": {},
   "outputs": [
    {
     "name": "stdout",
     "output_type": "stream",
     "text": [
      "test passed!\n"
     ]
    }
   ],
   "source": [
    "np_test = np_x * 7\n",
    "fetch_z = fetch_x * 7\n",
    "test_fn(np_test, fetch_z)"
   ]
  },
  {
   "cell_type": "code",
   "execution_count": 30,
   "metadata": {},
   "outputs": [
    {
     "name": "stdout",
     "output_type": "stream",
     "text": [
      "test passed!\n"
     ]
    }
   ],
   "source": [
    "np_test *= 7\n",
    "fetch_z *= 7\n",
    "test_fn(np_test, fetch_z)"
   ]
  },
  {
   "cell_type": "code",
   "execution_count": 31,
   "metadata": {},
   "outputs": [
    {
     "name": "stdout",
     "output_type": "stream",
     "text": [
      "test passed!\n"
     ]
    }
   ],
   "source": [
    "np_test = np_x / 7\n",
    "fetch_z = fetch_x / 7\n",
    "test_fn(np_test, fetch_z)"
   ]
  },
  {
   "cell_type": "code",
   "execution_count": 32,
   "metadata": {},
   "outputs": [
    {
     "name": "stdout",
     "output_type": "stream",
     "text": [
      "test passed!\n"
     ]
    }
   ],
   "source": [
    "np_test /= 7\n",
    "fetch_z /= 7\n",
    "test_fn(np_test, fetch_z)"
   ]
  },
  {
   "cell_type": "markdown",
   "metadata": {},
   "source": [
    "### check broadcasting arithmetic"
   ]
  },
  {
   "cell_type": "code",
   "execution_count": 33,
   "metadata": {},
   "outputs": [],
   "source": [
    "shape = [3, 1, 5]\n",
    "np_x = np.random.random(shape)\n",
    "fetch_x = NDArrayDouble(shape)\n",
    "fetch_x.FromNumpy(np_x)\n",
    "\n",
    "shape2 = [1, 7, 5]\n",
    "np_y = np.random.random(shape2)\n",
    "fetch_y = NDArrayDouble.Ones(shape2)\n",
    "fetch_y.FromNumpy(np_y)\n",
    "\n",
    "broadcast_shape = [max(a,b) for a,b in zip(shape, shape2)]"
   ]
  },
  {
   "cell_type": "code",
   "execution_count": 34,
   "metadata": {},
   "outputs": [
    {
     "name": "stdout",
     "output_type": "stream",
     "text": [
      "test passed!\n"
     ]
    }
   ],
   "source": [
    "np_out = np_x + np_y\n",
    "fetch_out = fetch_x + fetch_y\n",
    "test_fn(np_out, fetch_out)"
   ]
  },
  {
   "cell_type": "code",
   "execution_count": 35,
   "metadata": {},
   "outputs": [
    {
     "name": "stdout",
     "output_type": "stream",
     "text": [
      "test passed!\n"
     ]
    }
   ],
   "source": [
    "np_out = np_x - np_y\n",
    "fetch_out = fetch_x - fetch_y\n",
    "test_fn(np_out, fetch_out)"
   ]
  },
  {
   "cell_type": "code",
   "execution_count": 36,
   "metadata": {},
   "outputs": [
    {
     "name": "stdout",
     "output_type": "stream",
     "text": [
      "test passed!\n"
     ]
    }
   ],
   "source": [
    "np_out = np_x * np_y\n",
    "fetch_out = fetch_x * fetch_y\n",
    "test_fn(np_out, fetch_out)"
   ]
  },
  {
   "cell_type": "code",
   "execution_count": 37,
   "metadata": {},
   "outputs": [
    {
     "name": "stdout",
     "output_type": "stream",
     "text": [
      "test passed!\n"
     ]
    }
   ],
   "source": [
    "np_out = np_x / np_y\n",
    "fetch_out = fetch_x / fetch_y\n",
    "test_fn(np_out, fetch_out)"
   ]
  },
  {
   "cell_type": "code",
   "execution_count": 38,
   "metadata": {},
   "outputs": [],
   "source": [
    "# The following shows examples of inline arithmetic with broadcasting - in numpy they do not support this\n",
    "shape = [3, 1, 5]\n",
    "np_x = np.ones(shape)\n",
    "fetch_x = NDArrayDouble.Ones(shape)\n",
    "\n",
    "shape2 = [1, 7, 5]\n",
    "np_y = np.ones(shape2)\n",
    "fetch_y = NDArrayDouble.Ones(shape2)\n",
    "\n",
    "broadcast_shape = [max(a,b) for a,b in zip(shape, shape2)]"
   ]
  },
  {
   "cell_type": "code",
   "execution_count": 39,
   "metadata": {},
   "outputs": [
    {
     "name": "stdout",
     "output_type": "stream",
     "text": [
      "broadcast shape ( [3, 7, 5] ) does not match shape of output array ( [3, 1, 5] )\n",
      "test passed!\n"
     ]
    }
   ],
   "source": [
    "try:\n",
    "    fetch_x += fetch_y\n",
    "except ValueError:\n",
    "    print(\"test passed!\")"
   ]
  },
  {
   "cell_type": "code",
   "execution_count": 40,
   "metadata": {},
   "outputs": [
    {
     "name": "stdout",
     "output_type": "stream",
     "text": [
      "broadcast shape ( [3, 7, 5] ) does not match shape of output array ( [3, 1, 5] )\n",
      "test passed!\n"
     ]
    }
   ],
   "source": [
    "try:\n",
    "    fetch_x -= fetch_y\n",
    "except ValueError:\n",
    "    print(\"test passed!\")"
   ]
  },
  {
   "cell_type": "code",
   "execution_count": 41,
   "metadata": {},
   "outputs": [
    {
     "name": "stdout",
     "output_type": "stream",
     "text": [
      "broadcast shape ( [3, 7, 5] ) does not match shape of output array ( [3, 1, 5] )\n",
      "test passed!\n"
     ]
    }
   ],
   "source": [
    "try:\n",
    "    fetch_x *= fetch_y\n",
    "except ValueError:\n",
    "    print(\"test passed!\")"
   ]
  },
  {
   "cell_type": "code",
   "execution_count": 42,
   "metadata": {},
   "outputs": [
    {
     "name": "stdout",
     "output_type": "stream",
     "text": [
      "broadcast shape ( [3, 7, 5] ) does not match shape of output array ( [3, 1, 5] )\n",
      "test passed!\n"
     ]
    }
   ],
   "source": [
    "try:\n",
    "    fetch_x /= fetch_y\n",
    "except ValueError:\n",
    "    print(\"test passed!\")"
   ]
  },
  {
   "cell_type": "markdown",
   "metadata": {},
   "source": [
    "### check array slicing and slice assignment"
   ]
  },
  {
   "cell_type": "code",
   "execution_count": 43,
   "metadata": {},
   "outputs": [],
   "source": [
    "shape = [3, 4, 5, 8, 2]\n",
    "np_x = np.ones(shape)\n",
    "fetch_x = NDArrayDouble.Ones(shape)"
   ]
  },
  {
   "cell_type": "code",
   "execution_count": 44,
   "metadata": {},
   "outputs": [
    {
     "name": "stdout",
     "output_type": "stream",
     "text": [
      "test passed!\n"
     ]
    }
   ],
   "source": [
    "np_y = np_x[0:1, 0:2, 2:3, 3:6, 0:1]\n",
    "fetch_y = fetch_x[0:1, 0:2, 2:3, 3:6, 0:1]\n",
    "test_fn(np_y, fetch_y)"
   ]
  },
  {
   "cell_type": "code",
   "execution_count": 45,
   "metadata": {},
   "outputs": [
    {
     "name": "stdout",
     "output_type": "stream",
     "text": [
      "test passed!\n"
     ]
    }
   ],
   "source": [
    "shape = [3, 4, 5, 8, 2]\n",
    "np_x = np.random.random(shape)\n",
    "fetch_x = NDArrayDouble(shape)\n",
    "fetch_x.FromNumpy(np_x)\n",
    "shape = [1, 2, 3, 4, 1]\n",
    "np_y = np.random.random(shape)\n",
    "fetch_y = NDArrayDouble(shape)\n",
    "fetch_y.FromNumpy(np_y)\n",
    "\n",
    "np_y[0:1, 0:2, 0:3, 0:4, 0:1] = np_x[0:1, 2:4, 2:5, 2:6, 0:1]\n",
    "fetch_y[0:1, 0:2, 0:3, 0:4, 0:1] = fetch_x[0:1, 2:4, 2:5, 2:6, 0:1]\n",
    "test_fn(np_y, fetch_y)"
   ]
  },
  {
   "cell_type": "code",
   "execution_count": 46,
   "metadata": {},
   "outputs": [],
   "source": [
    "shape = [3, 4, 5, 8, 2]\n",
    "np_x = np.random.random(shape)\n",
    "fetch_x = NDArrayDouble(shape)\n",
    "fetch_x.FromNumpy(np_x)"
   ]
  },
  {
   "cell_type": "code",
   "execution_count": 47,
   "metadata": {},
   "outputs": [
    {
     "name": "stdout",
     "output_type": "stream",
     "text": [
      "test passed!\n"
     ]
    }
   ],
   "source": [
    "np_y = np_x[1, 2, 3, 6, 1]\n",
    "fetch_y = fetch_x[1, 2, 3, 6, 1]\n",
    "simple_test_fn(np_y, fetch_y)"
   ]
  },
  {
   "cell_type": "code",
   "execution_count": 48,
   "metadata": {},
   "outputs": [
    {
     "name": "stdout",
     "output_type": "stream",
     "text": [
      "test passed!\n"
     ]
    }
   ],
   "source": [
    "shape = [3, 4, 5, 8, 2]\n",
    "np_x = np.random.random(shape)\n",
    "fetch_x = NDArrayDouble(shape)\n",
    "fetch_x.FromNumpy(np_x)\n",
    "shape = [1, 2, 3, 4, 1]\n",
    "np_y = np.random.random(shape)\n",
    "fetch_y = NDArrayDouble(shape)\n",
    "fetch_y.FromNumpy(np_y)\n",
    "\n",
    "np_y[0, 1, 2, 3, 0] = np_x[2, 3, 4, 5, 1]\n",
    "fetch_y[0, 1, 2, 3, 0] = fetch_x[2, 3, 4, 5, 1]\n",
    "test_fn(np_y, fetch_y)"
   ]
  },
  {
   "cell_type": "markdown",
   "metadata": {},
   "source": [
    "### Reshaping tests"
   ]
  },
  {
   "cell_type": "code",
   "execution_count": null,
   "metadata": {},
   "outputs": [],
   "source": []
  },
  {
   "cell_type": "code",
   "execution_count": 24,
   "metadata": {},
   "outputs": [
    {
     "data": {
      "text/plain": [
       "  C_CONTIGUOUS : False\n",
       "  F_CONTIGUOUS : True\n",
       "  OWNDATA : True\n",
       "  WRITEABLE : True\n",
       "  ALIGNED : True\n",
       "  WRITEBACKIFCOPY : False\n",
       "  UPDATEIFCOPY : False"
      ]
     },
     "execution_count": 24,
     "metadata": {},
     "output_type": "execute_result"
    }
   ],
   "source": [
    "#shape = [3, 4, 5, 8, 2]\n",
    "shape = [1,2,4]\n",
    "np_x = np.asfortranarray(np.random.random(shape))\n",
    "fetch_x = NDArrayDouble(shape)\n",
    "fetch_x.FromNumpy(np_x)\n",
    "\n",
    "new_shape = [2,2,2]\n",
    "#new_shape = [4, 2, 8, 5, 3]"
   ]
  },
  {
   "cell_type": "code",
   "execution_count": null,
   "metadata": {},
   "outputs": [],
   "source": []
  },
  {
   "cell_type": "code",
   "execution_count": 27,
   "metadata": {},
   "outputs": [
    {
     "name": "stdout",
     "output_type": "stream",
     "text": [
      "test passed!\n"
     ]
    }
   ],
   "source": [
    "np_x = np.reshape(np_x, new_shape, order='F')\n",
    "fetch_x.reshape(new_shape)\n",
    "test_fn(np_x, fetch_x)"
   ]
  },
  {
   "cell_type": "code",
   "execution_count": 28,
   "metadata": {},
   "outputs": [
    {
     "name": "stdout",
     "output_type": "stream",
     "text": [
      "cannot reshape array of size ( 8 ) into shape of( [2, 2, 2] )\n",
      "test passed!\n"
     ]
    }
   ],
   "source": [
    "absurd_shape = [99999, 12]\n",
    "try:\n",
    "    fetch_x.reshape(absurd_shape)\n",
    "except ValueError:\n",
    "    print(\"test passed!\")"
   ]
  },
  {
   "cell_type": "code",
   "execution_count": 31,
   "metadata": {},
   "outputs": [
    {
     "name": "stdout",
     "output_type": "stream",
     "text": [
      "test passed!\n"
     ]
    }
   ],
   "source": [
    "shape = [3, 4, 5, 8, 2]\n",
    "np_x = np.random.random(shape)\n",
    "fetch_x = NDArrayDouble(shape)\n",
    "fetch_x.FromNumpy(np_x)\n",
    "\n",
    "np_x = np_x.flatten(order='F')\n",
    "fetch_x.flatten()\n",
    "test_fn(np_x, fetch_x)"
   ]
  },
  {
   "cell_type": "markdown",
   "metadata": {},
   "source": [
    "### check dimension reduction max and min functions with axis specification"
   ]
  },
  {
   "cell_type": "code",
   "execution_count": 32,
   "metadata": {},
   "outputs": [],
   "source": [
    "max_shape = [7, 4, 6]\n",
    "fetch_x = NDArrayDouble(max_shape)\n",
    "np_x = np.zeros(max_shape)\n",
    "counter = 0\n",
    "for i in range(max_shape[0]):\n",
    "    for j in range(max_shape[1]):\n",
    "        for k in range(max_shape[2]):\n",
    "            fetch_x[i, j, k] = counter\n",
    "            np_x[i, j, k] = counter\n",
    "            counter += 1"
   ]
  },
  {
   "cell_type": "code",
   "execution_count": 33,
   "metadata": {},
   "outputs": [
    {
     "name": "stdout",
     "output_type": "stream",
     "text": [
      "test passed!\n",
      "test passed!\n",
      "test passed!\n",
      "test passed!\n"
     ]
    }
   ],
   "source": [
    "# test taking max and min across all axes one by one\n",
    "out_shapes = [[4, 6], [7, 6], [7, 4]]\n",
    "for cur_ax in range(0, 2):\n",
    "\n",
    "    out_shape = out_shapes[cur_ax]\n",
    "    np_max = np_x.max(axis=cur_ax)\n",
    "    fetch_max = fetch_x.max(cur_ax)\n",
    "    np_min = np_x.min(axis=cur_ax)\n",
    "    fetch_min = fetch_x.min(cur_ax)\n",
    "\n",
    "    test_fn(np_max, fetch_max)\n",
    "    test_fn(np_min, fetch_min)"
   ]
  },
  {
   "cell_type": "markdown",
   "metadata": {},
   "source": [
    "### check some more functions"
   ]
  },
  {
   "cell_type": "code",
   "execution_count": 34,
   "metadata": {},
   "outputs": [],
   "source": [
    "shape = [3, 4]\n",
    "np_x = np.random.random(shape)\n",
    "fetch_x = NDArrayDouble(shape)\n",
    "fetch_x.FromNumpy(np_x)"
   ]
  },
  {
   "cell_type": "code",
   "execution_count": 35,
   "metadata": {},
   "outputs": [
    {
     "name": "stdout",
     "output_type": "stream",
     "text": [
      "test passed!\n"
     ]
    }
   ],
   "source": [
    "np_x = np.abs(np_x)\n",
    "fetch_x.abs(fetch_x)\n",
    "test_fn(np_x, fetch_x)"
   ]
  },
  {
   "cell_type": "code",
   "execution_count": 36,
   "metadata": {},
   "outputs": [
    {
     "name": "stdout",
     "output_type": "stream",
     "text": [
      "test passed!\n"
     ]
    }
   ],
   "source": [
    "np_x = np.exp(np_x)\n",
    "fetch_x.exp(fetch_x)\n",
    "test_fn(np_x, fetch_x)"
   ]
  },
  {
   "cell_type": "code",
   "execution_count": 37,
   "metadata": {},
   "outputs": [
    {
     "name": "stdout",
     "output_type": "stream",
     "text": [
      "test passed!\n"
     ]
    }
   ],
   "source": [
    "np_x = np.exp2(np_x)\n",
    "fetch_x.exp2(fetch_x)\n",
    "test_fn(np_x, fetch_x)"
   ]
  },
  {
   "cell_type": "code",
   "execution_count": 38,
   "metadata": {},
   "outputs": [
    {
     "name": "stdout",
     "output_type": "stream",
     "text": [
      "test passed!\n"
     ]
    }
   ],
   "source": [
    "np_x = np.expm1(np_x)\n",
    "fetch_x.expm1(fetch_x)\n",
    "test_fn(np_x, fetch_x)"
   ]
  },
  {
   "cell_type": "code",
   "execution_count": 39,
   "metadata": {},
   "outputs": [
    {
     "name": "stdout",
     "output_type": "stream",
     "text": [
      "test passed!\n"
     ]
    }
   ],
   "source": [
    "np_x = np.log(np_x)\n",
    "fetch_x.log(fetch_x)\n",
    "test_fn(np_x, fetch_x)"
   ]
  },
  {
   "cell_type": "code",
   "execution_count": 40,
   "metadata": {},
   "outputs": [
    {
     "name": "stdout",
     "output_type": "stream",
     "text": [
      "test passed!\n"
     ]
    }
   ],
   "source": [
    "np_x = np.log10(np_x)\n",
    "fetch_x.log10(fetch_x)\n",
    "test_fn(np_x, fetch_x)"
   ]
  },
  {
   "cell_type": "code",
   "execution_count": 41,
   "metadata": {},
   "outputs": [
    {
     "name": "stdout",
     "output_type": "stream",
     "text": [
      "test passed!\n"
     ]
    }
   ],
   "source": [
    "np_x = np.log2(np_x)\n",
    "fetch_x.log2(fetch_x)\n",
    "test_fn(np_x, fetch_x)"
   ]
  },
  {
   "cell_type": "code",
   "execution_count": 42,
   "metadata": {},
   "outputs": [
    {
     "name": "stdout",
     "output_type": "stream",
     "text": [
      "test passed!\n"
     ]
    }
   ],
   "source": [
    "np_x = np.log1p(np_x)\n",
    "fetch_x.log1p(fetch_x)\n",
    "test_fn(np_x, fetch_x)"
   ]
  },
  {
   "cell_type": "code",
   "execution_count": 43,
   "metadata": {},
   "outputs": [],
   "source": [
    "shape = [3, 4]\n",
    "np_x = np.ones(shape)\n",
    "fetch_x = NDArrayDouble.Ones(shape)\n"
   ]
  },
  {
   "cell_type": "code",
   "execution_count": 44,
   "metadata": {},
   "outputs": [
    {
     "name": "stdout",
     "output_type": "stream",
     "text": [
      "test passed!\n"
     ]
    }
   ],
   "source": [
    "np_x = np.sqrt(np_x)\n",
    "fetch_x.sqrt(fetch_x)\n",
    "test_fn(np_x, fetch_x)"
   ]
  },
  {
   "cell_type": "code",
   "execution_count": 45,
   "metadata": {},
   "outputs": [
    {
     "name": "stdout",
     "output_type": "stream",
     "text": [
      "test passed!\n"
     ]
    }
   ],
   "source": [
    "np_x = np.cbrt(np_x)\n",
    "fetch_x.cbrt(fetch_x)\n",
    "test_fn(np_x, fetch_x)"
   ]
  },
  {
   "cell_type": "code",
   "execution_count": 46,
   "metadata": {},
   "outputs": [
    {
     "name": "stdout",
     "output_type": "stream",
     "text": [
      "test passed!\n"
     ]
    }
   ],
   "source": [
    "np_x = np.sin(np_x)\n",
    "fetch_x.sin(fetch_x)\n",
    "test_fn(np_x, fetch_x)"
   ]
  },
  {
   "cell_type": "code",
   "execution_count": 47,
   "metadata": {},
   "outputs": [
    {
     "name": "stdout",
     "output_type": "stream",
     "text": [
      "test passed!\n"
     ]
    }
   ],
   "source": [
    "np_x = np.cos(np_x)\n",
    "fetch_x.cos(fetch_x)\n",
    "test_fn(np_x, fetch_x)"
   ]
  },
  {
   "cell_type": "code",
   "execution_count": 48,
   "metadata": {},
   "outputs": [
    {
     "name": "stdout",
     "output_type": "stream",
     "text": [
      "test passed!\n"
     ]
    }
   ],
   "source": [
    "np_x = np.tan(np_x)\n",
    "fetch_x.tan(fetch_x)\n",
    "test_fn(np_x, fetch_x)"
   ]
  },
  {
   "cell_type": "code",
   "execution_count": 49,
   "metadata": {},
   "outputs": [
    {
     "name": "stdout",
     "output_type": "stream",
     "text": [
      "test passed!\n"
     ]
    }
   ],
   "source": [
    "np_x = np.arcsin(np_x)\n",
    "fetch_x.asin(fetch_x)\n",
    "test_fn(np_x, fetch_x)"
   ]
  },
  {
   "cell_type": "code",
   "execution_count": 50,
   "metadata": {},
   "outputs": [
    {
     "name": "stdout",
     "output_type": "stream",
     "text": [
      "test passed!\n"
     ]
    }
   ],
   "source": [
    "np_x = np.arccos(np_x)\n",
    "fetch_x.acos(fetch_x)\n",
    "test_fn(np_x, fetch_x)"
   ]
  },
  {
   "cell_type": "code",
   "execution_count": 51,
   "metadata": {},
   "outputs": [
    {
     "name": "stdout",
     "output_type": "stream",
     "text": [
      "test passed!\n"
     ]
    }
   ],
   "source": [
    "np_x = np.arctan(np_x)\n",
    "fetch_x.atan(fetch_x)\n",
    "test_fn(np_x, fetch_x)"
   ]
  },
  {
   "cell_type": "code",
   "execution_count": 52,
   "metadata": {},
   "outputs": [
    {
     "name": "stdout",
     "output_type": "stream",
     "text": [
      "test passed!\n"
     ]
    }
   ],
   "source": [
    "np_x = np.sinh(np_x)\n",
    "fetch_x.sinh(fetch_x)\n",
    "test_fn(np_x, fetch_x)"
   ]
  },
  {
   "cell_type": "code",
   "execution_count": 53,
   "metadata": {},
   "outputs": [
    {
     "name": "stdout",
     "output_type": "stream",
     "text": [
      "test passed!\n"
     ]
    }
   ],
   "source": [
    "np_x = np.cosh(np_x)\n",
    "fetch_x.cosh(fetch_x)\n",
    "test_fn(np_x, fetch_x)"
   ]
  },
  {
   "cell_type": "code",
   "execution_count": 54,
   "metadata": {},
   "outputs": [
    {
     "name": "stdout",
     "output_type": "stream",
     "text": [
      "test passed!\n"
     ]
    }
   ],
   "source": [
    "np_x = np.tanh(np_x)\n",
    "fetch_x.tanh(fetch_x)\n",
    "test_fn(np_x, fetch_x)"
   ]
  },
  {
   "cell_type": "code",
   "execution_count": 55,
   "metadata": {},
   "outputs": [
    {
     "name": "stdout",
     "output_type": "stream",
     "text": [
      "test passed!\n"
     ]
    }
   ],
   "source": [
    "shape = [3, 4]\n",
    "np_x = np.ones(shape)\n",
    "fetch_x = NDArrayDouble.Ones(shape)\n",
    "\n",
    "np_x = np.arcsinh(np_x)\n",
    "fetch_x.asinh(fetch_x)\n",
    "test_fn(np_x, fetch_x)"
   ]
  },
  {
   "cell_type": "code",
   "execution_count": 56,
   "metadata": {},
   "outputs": [
    {
     "name": "stdout",
     "output_type": "stream",
     "text": [
      "test passed!\n"
     ]
    }
   ],
   "source": [
    "shape = [3, 4]\n",
    "np_x = np.ones(shape)\n",
    "fetch_x = NDArrayDouble.Ones(shape)\n",
    "\n",
    "np_x = np.arccosh(np_x)\n",
    "fetch_x.acosh(fetch_x)\n",
    "test_fn(np_x, fetch_x)"
   ]
  },
  {
   "cell_type": "code",
   "execution_count": 57,
   "metadata": {},
   "outputs": [
    {
     "name": "stdout",
     "output_type": "stream",
     "text": [
      "test passed!\n"
     ]
    }
   ],
   "source": [
    "np_x = np.arctanh(np_x)\n",
    "fetch_x.atanh(fetch_x)\n",
    "test_fn(np_x, fetch_x)"
   ]
  },
  {
   "cell_type": "code",
   "execution_count": 58,
   "metadata": {},
   "outputs": [
    {
     "name": "stdout",
     "output_type": "stream",
     "text": [
      "test passed!\n"
     ]
    }
   ],
   "source": [
    "np_x = np.ceil(np_x)\n",
    "fetch_x.ceil(fetch_x)\n",
    "test_fn(np_x, fetch_x)"
   ]
  },
  {
   "cell_type": "code",
   "execution_count": 59,
   "metadata": {},
   "outputs": [
    {
     "name": "stdout",
     "output_type": "stream",
     "text": [
      "test passed!\n"
     ]
    }
   ],
   "source": [
    "np_x = np.floor(np_x)\n",
    "fetch_x.floor(fetch_x)\n",
    "test_fn(np_x, fetch_x)"
   ]
  },
  {
   "cell_type": "code",
   "execution_count": 60,
   "metadata": {},
   "outputs": [
    {
     "name": "stdout",
     "output_type": "stream",
     "text": [
      "test passed!\n"
     ]
    }
   ],
   "source": [
    "np_x = np.trunc(np_x)\n",
    "fetch_x.trunc(fetch_x)\n",
    "test_fn(np_x, fetch_x)"
   ]
  },
  {
   "cell_type": "code",
   "execution_count": 61,
   "metadata": {},
   "outputs": [
    {
     "name": "stdout",
     "output_type": "stream",
     "text": [
      "test passed!\n"
     ]
    }
   ],
   "source": [
    "np_x = np.round(np_x)\n",
    "fetch_x.round(fetch_x)\n",
    "test_fn(np_x, fetch_x)"
   ]
  },
  {
   "cell_type": "code",
   "execution_count": 62,
   "metadata": {},
   "outputs": [
    {
     "name": "stdout",
     "output_type": "stream",
     "text": [
      "test passed!\n"
     ]
    }
   ],
   "source": [
    "np_x = np.rint(np_x)\n",
    "fetch_x.rint(fetch_x)\n",
    "test_fn(np_x, fetch_x)"
   ]
  },
  {
   "cell_type": "code",
   "execution_count": 63,
   "metadata": {},
   "outputs": [
    {
     "name": "stdout",
     "output_type": "stream",
     "text": [
      "test passed!\n"
     ]
    }
   ],
   "source": [
    "np_x = np.isfinite(np_x)\n",
    "fetch_x.isfinite(fetch_x)\n",
    "test_fn(np_x, fetch_x)"
   ]
  },
  {
   "cell_type": "code",
   "execution_count": 64,
   "metadata": {},
   "outputs": [
    {
     "name": "stdout",
     "output_type": "stream",
     "text": [
      "test passed!\n"
     ]
    }
   ],
   "source": [
    "np_x = np.isinf(np_x)\n",
    "fetch_x.isinf(fetch_x)\n",
    "test_fn(np_x, fetch_x)"
   ]
  },
  {
   "cell_type": "code",
   "execution_count": 65,
   "metadata": {},
   "outputs": [
    {
     "name": "stdout",
     "output_type": "stream",
     "text": [
      "test passed!\n"
     ]
    }
   ],
   "source": [
    "np_x = np.isnan(np_x)\n",
    "fetch_x.isnan(fetch_x)\n",
    "test_fn(np_x, fetch_x)"
   ]
  },
  {
   "cell_type": "markdown",
   "metadata": {},
   "source": [
    "### Now let's get a bit more fancy"
   ]
  },
  {
   "cell_type": "code",
   "execution_count": 4,
   "metadata": {},
   "outputs": [
    {
     "name": "stdout",
     "output_type": "stream",
     "text": [
      "test passed!\n",
      "31.523533844886558 31.52353384488656\n"
     ]
    }
   ],
   "source": [
    "shape = [3,4,5]\n",
    "np_z = np.random.random(shape)\n",
    "fetch_z = NDArrayDouble(shape)\n",
    "fetch_z.FromNumpy(np_z)\n",
    "np_x = np_z.sum(axis=2)\n",
    "\n",
    "fetch_x = NDArrayDouble(shape)\n",
    "fetch_x.reduce_sum(fetch_z, 2)\n",
    "test_fn(np_x, fetch_x)\n",
    "\n",
    "print(fetch_z.Sum(), np_z.sum())"
   ]
  },
  {
   "cell_type": "code",
   "execution_count": 15,
   "metadata": {},
   "outputs": [
    {
     "name": "stdout",
     "output_type": "stream",
     "text": [
      "test passed!\n"
     ]
    }
   ],
   "source": [
    "shape = [3,4,5]\n",
    "np_z = np.random.random(shape)\n",
    "fetch_z = NDArrayDouble(shape)\n",
    "fetch_z.FromNumpy(np_z)\n",
    "np_x = np_z.mean(axis=2)\n",
    "\n",
    "fetch_x = NDArrayDouble(shape)\n",
    "fetch_x.reduce_mean(fetch_z, 2)\n",
    "test_fn(np_x, fetch_x)"
   ]
  },
  {
   "cell_type": "code",
   "execution_count": 12,
   "metadata": {},
   "outputs": [
    {
     "name": "stdout",
     "output_type": "stream",
     "text": [
      "[ True  True False False  True False  True  True  True  True]\n",
      "[1. 1. 0. 0. 1. 0. 1. 1. 1. 1.]\n"
     ]
    }
   ],
   "source": [
    "shape = [2,10]\n",
    "np_x = np.random.randint(2, size=shape)\n",
    "np_z = np.any(np_x, axis=0)\n",
    "\n",
    "fetch_x = NDArrayDouble(shape)\n",
    "fetch_x.FromNumpy(np_x)\n",
    "fetch_z = NDArrayDouble(shape)\n",
    "fetch_z.reduce_any(fetch_x, 0)\n",
    "\n",
    "print(np_z)\n",
    "print(fetch_z.ToNumpy())"
   ]
  },
  {
   "cell_type": "code",
   "execution_count": 6,
   "metadata": {},
   "outputs": [
    {
     "name": "stdout",
     "output_type": "stream",
     "text": [
      "test passed!\n"
     ]
    }
   ],
   "source": [
    "shape = [2,10]\n",
    "np_x = np.random.random(shape)\n",
    "np_z = np.transpose(np_x)\n",
    "\n",
    "fetch_x = NDArrayDouble(shape)\n",
    "fetch_x.FromNumpy(np_x)\n",
    "fetch_z = NDArrayDouble(shape)\n",
    "fetch_z.transpose(fetch_x, [1,0])\n",
    "\n",
    "test_fn(np_z, fetch_z)"
   ]
  },
  {
   "cell_type": "code",
   "execution_count": 66,
   "metadata": {},
   "outputs": [
    {
     "ename": "NameError",
     "evalue": "name 'fetch_z' is not defined",
     "output_type": "error",
     "traceback": [
      "\u001b[0;31m---------------------------------------------------------------------------\u001b[0m",
      "\u001b[0;31mNameError\u001b[0m                                 Traceback (most recent call last)",
      "\u001b[0;32m<ipython-input-66-e2f0194fb357>\u001b[0m in \u001b[0;36m<module>\u001b[0;34m()\u001b[0m\n\u001b[1;32m     14\u001b[0m \u001b[0;34m\u001b[0m\u001b[0m\n\u001b[1;32m     15\u001b[0m \u001b[0mtest_list\u001b[0m \u001b[0;34m=\u001b[0m \u001b[0mRelu\u001b[0m\u001b[0;34m(\u001b[0m\u001b[0mnp_x\u001b[0m\u001b[0;34m)\u001b[0m\u001b[0;34m\u001b[0m\u001b[0m\n\u001b[0;32m---> 16\u001b[0;31m \u001b[0mfetch_z\u001b[0m\u001b[0;34m.\u001b[0m\u001b[0mrelu\u001b[0m\u001b[0;34m(\u001b[0m\u001b[0mfetch_x\u001b[0m\u001b[0;34m)\u001b[0m\u001b[0;34m\u001b[0m\u001b[0m\n\u001b[0m\u001b[1;32m     17\u001b[0m \u001b[0mtest_fn\u001b[0m\u001b[0;34m(\u001b[0m\u001b[0mtest_list\u001b[0m\u001b[0;34m,\u001b[0m \u001b[0mfetch_z\u001b[0m\u001b[0;34m)\u001b[0m\u001b[0;34m\u001b[0m\u001b[0m\n",
      "\u001b[0;31mNameError\u001b[0m: name 'fetch_z' is not defined"
     ]
    }
   ],
   "source": [
    "def Relu(x):\n",
    "    ret = []\n",
    "    for y in x.flatten():\n",
    "        if y < 0:\n",
    "            ret.append(0)\n",
    "        else:\n",
    "            ret.append(y)\n",
    "    return np.array(ret)\n",
    "\n",
    "shape = [3, 4]\n",
    "np_x = np.random.random(shape)\n",
    "fetch_x = NDArrayDouble(shape)\n",
    "fetch_x.FromNumpy(np_x)\n",
    "\n",
    "test_list = Relu(np_x) \n",
    "fetch_z.relu(fetch_x)\n",
    "test_fn(test_list, fetch_z)"
   ]
  },
  {
   "cell_type": "code",
   "execution_count": 67,
   "metadata": {},
   "outputs": [
    {
     "ename": "NameError",
     "evalue": "name 'fetch_z' is not defined",
     "output_type": "error",
     "traceback": [
      "\u001b[0;31m---------------------------------------------------------------------------\u001b[0m",
      "\u001b[0;31mNameError\u001b[0m                                 Traceback (most recent call last)",
      "\u001b[0;32m<ipython-input-67-ccb94982c9db>\u001b[0m in \u001b[0;36m<module>\u001b[0;34m()\u001b[0m\n\u001b[0;32m----> 1\u001b[0;31m \u001b[0mfetch_z\u001b[0m\u001b[0;34m.\u001b[0m\u001b[0mToNumpy\u001b[0m\u001b[0;34m(\u001b[0m\u001b[0;34m)\u001b[0m\u001b[0;34m\u001b[0m\u001b[0m\n\u001b[0m",
      "\u001b[0;31mNameError\u001b[0m: name 'fetch_z' is not defined"
     ]
    }
   ],
   "source": [
    "fetch_z.ToNumpy()"
   ]
  },
  {
   "cell_type": "code",
   "execution_count": 119,
   "metadata": {},
   "outputs": [
    {
     "data": {
      "text/plain": [
       "array([0.58135402, 0.75580061, 0.06019928, 0.597951  , 0.8498214 ,\n",
       "       0.77831862, 0.36480139, 0.40674548, 0.25540259, 0.45438896,\n",
       "       0.22179968, 0.89565719])"
      ]
     },
     "execution_count": 119,
     "metadata": {},
     "output_type": "execute_result"
    }
   ],
   "source": [
    "test_list"
   ]
  },
  {
   "cell_type": "code",
   "execution_count": 120,
   "metadata": {},
   "outputs": [
    {
     "ename": "NameError",
     "evalue": "name 'x' is not defined",
     "output_type": "error",
     "traceback": [
      "\u001b[0;31m---------------------------------------------------------------------------\u001b[0m",
      "\u001b[0;31mNameError\u001b[0m                                 Traceback (most recent call last)",
      "\u001b[0;32m<ipython-input-120-b1c3a6ab0aaa>\u001b[0m in \u001b[0;36m<module>\u001b[0;34m()\u001b[0m\n\u001b[0;32m----> 1\u001b[0;31m \u001b[0mtest_list\u001b[0m \u001b[0;34m=\u001b[0m \u001b[0mnp\u001b[0m\u001b[0;34m.\u001b[0m\u001b[0msign\u001b[0m\u001b[0;34m(\u001b[0m\u001b[0mx\u001b[0m\u001b[0;34m.\u001b[0m\u001b[0mToNumpy\u001b[0m\u001b[0;34m(\u001b[0m\u001b[0;34m)\u001b[0m\u001b[0;34m)\u001b[0m\u001b[0;34m\u001b[0m\u001b[0m\n\u001b[0m\u001b[1;32m      2\u001b[0m \u001b[0mz\u001b[0m\u001b[0;34m.\u001b[0m\u001b[0msign\u001b[0m\u001b[0;34m(\u001b[0m\u001b[0mx\u001b[0m\u001b[0;34m)\u001b[0m\u001b[0;34m\u001b[0m\u001b[0m\n\u001b[1;32m      3\u001b[0m \u001b[0mtest_pass_fn\u001b[0m\u001b[0;34m(\u001b[0m\u001b[0mtest_list\u001b[0m\u001b[0;34m,\u001b[0m \u001b[0mz\u001b[0m\u001b[0;34m)\u001b[0m\u001b[0;34m\u001b[0m\u001b[0m\n",
      "\u001b[0;31mNameError\u001b[0m: name 'x' is not defined"
     ]
    }
   ],
   "source": [
    "test_list = np.sign(x.ToNumpy())\n",
    "z.sign(x)\n",
    "test_pass_fn(test_list, z)"
   ]
  },
  {
   "cell_type": "code",
   "execution_count": 89,
   "metadata": {},
   "outputs": [
    {
     "name": "stdout",
     "output_type": "stream",
     "text": [
      "test passed!\n"
     ]
    }
   ],
   "source": [
    "shape = [3, 4]\n",
    "np_x = np.random.random(shape)\n",
    "fetch_x = NDArrayDouble(shape)\n",
    "fetch_x.FromNumpy(np_x)\n",
    "\n",
    "fetch_x.relu(fetch_x)\n",
    "for i in range(3):\n",
    "    for j in range(4):\n",
    "        np_x[i, j] = Relu(np_x[i, j])\n",
    "\n",
    "test_fn(np_x, fetch_x)"
   ]
  },
  {
   "cell_type": "code",
   "execution_count": 90,
   "metadata": {},
   "outputs": [
    {
     "name": "stdout",
     "output_type": "stream",
     "text": [
      "test passed!\n"
     ]
    }
   ],
   "source": [
    "shape = [3, 4]\n",
    "np_x = np.random.random(shape)\n",
    "fetch_x = NDArrayDouble(shape)\n",
    "fetch_x.FromNumpy(np_x)\n",
    "\n",
    "np_x = np.sign(np_x)\n",
    "fetch_x.sign(fetch_x)\n",
    "\n",
    "test_fn(np_x, fetch_x)"
   ]
  },
  {
   "cell_type": "code",
   "execution_count": 91,
   "metadata": {},
   "outputs": [],
   "source": [
    "# shape = [3, 4]\n",
    "# np_x = np.random.random(shape)\n",
    "# fetch_x = NDArrayDouble(shape)\n",
    "# fetch_x.FromNumpy(np_x)\n",
    "\n",
    "# np_x = np.softmax(np_x)\n",
    "# fetch_x.softmax(fetch_x)\n",
    "\n",
    "# test_fn(np_x, fetch_x)"
   ]
  },
  {
   "cell_type": "code",
   "execution_count": null,
   "metadata": {},
   "outputs": [],
   "source": []
  }
 ],
 "metadata": {
  "kernelspec": {
   "display_name": "Python 3",
   "language": "python",
   "name": "python3"
  },
  "language_info": {
   "codemirror_mode": {
    "name": "ipython",
    "version": 3
   },
   "file_extension": ".py",
   "mimetype": "text/x-python",
   "name": "python",
   "nbconvert_exporter": "python",
   "pygments_lexer": "ipython3",
   "version": "3.6.5"
  }
 },
 "nbformat": 4,
 "nbformat_minor": 2
}
